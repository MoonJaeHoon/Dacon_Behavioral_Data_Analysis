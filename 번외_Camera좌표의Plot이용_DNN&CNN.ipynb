{
  "nbformat": 4,
  "nbformat_minor": 0,
  "metadata": {
    "colab": {
      "name": "번외_Camera좌표_DNN&CNN.ipynb",
      "provenance": [],
      "collapsed_sections": [
        "kbc5VvjWb2Z7"
      ],
      "machine_shape": "hm",
      "include_colab_link": true
    },
    "kernelspec": {
      "name": "python3",
      "display_name": "Python 3"
    },
    "accelerator": "GPU",
    "widgets": {
      "application/vnd.jupyter.widget-state+json": {
        "cef158e1379b4a7782b9da1c5ea889e1": {
          "model_module": "@jupyter-widgets/controls",
          "model_name": "HBoxModel",
          "state": {
            "_view_name": "HBoxView",
            "_dom_classes": [],
            "_model_name": "HBoxModel",
            "_view_module": "@jupyter-widgets/controls",
            "_model_module_version": "1.5.0",
            "_view_count": null,
            "_view_module_version": "1.5.0",
            "box_style": "",
            "layout": "IPY_MODEL_ef5820ff7cf148399142e2bfa7beef9c",
            "_model_module": "@jupyter-widgets/controls",
            "children": [
              "IPY_MODEL_b2b60607833b4cbbaede942b49a17dbf",
              "IPY_MODEL_998e98822fd44abb916c8d0a29cdc53c"
            ]
          }
        },
        "ef5820ff7cf148399142e2bfa7beef9c": {
          "model_module": "@jupyter-widgets/base",
          "model_name": "LayoutModel",
          "state": {
            "_view_name": "LayoutView",
            "grid_template_rows": null,
            "right": null,
            "justify_content": null,
            "_view_module": "@jupyter-widgets/base",
            "overflow": null,
            "_model_module_version": "1.2.0",
            "_view_count": null,
            "flex_flow": null,
            "width": null,
            "min_width": null,
            "border": null,
            "align_items": null,
            "bottom": null,
            "_model_module": "@jupyter-widgets/base",
            "top": null,
            "grid_column": null,
            "overflow_y": null,
            "overflow_x": null,
            "grid_auto_flow": null,
            "grid_area": null,
            "grid_template_columns": null,
            "flex": null,
            "_model_name": "LayoutModel",
            "justify_items": null,
            "grid_row": null,
            "max_height": null,
            "align_content": null,
            "visibility": null,
            "align_self": null,
            "height": null,
            "min_height": null,
            "padding": null,
            "grid_auto_rows": null,
            "grid_gap": null,
            "max_width": null,
            "order": null,
            "_view_module_version": "1.2.0",
            "grid_template_areas": null,
            "object_position": null,
            "object_fit": null,
            "grid_auto_columns": null,
            "margin": null,
            "display": null,
            "left": null
          }
        },
        "b2b60607833b4cbbaede942b49a17dbf": {
          "model_module": "@jupyter-widgets/controls",
          "model_name": "IntProgressModel",
          "state": {
            "_view_name": "ProgressView",
            "style": "IPY_MODEL_6426640462f9475ea0a1eb70340243cf",
            "_dom_classes": [],
            "description": "",
            "_model_name": "IntProgressModel",
            "bar_style": "success",
            "max": 38872,
            "_view_module": "@jupyter-widgets/controls",
            "_model_module_version": "1.5.0",
            "value": 38872,
            "_view_count": null,
            "_view_module_version": "1.5.0",
            "orientation": "horizontal",
            "min": 0,
            "description_tooltip": null,
            "_model_module": "@jupyter-widgets/controls",
            "layout": "IPY_MODEL_b848fde537bc4e34808450329e450ca2"
          }
        },
        "998e98822fd44abb916c8d0a29cdc53c": {
          "model_module": "@jupyter-widgets/controls",
          "model_name": "HTMLModel",
          "state": {
            "_view_name": "HTMLView",
            "style": "IPY_MODEL_c321c5de08224d3a899d6f42c4cd73fc",
            "_dom_classes": [],
            "description": "",
            "_model_name": "HTMLModel",
            "placeholder": "​",
            "_view_module": "@jupyter-widgets/controls",
            "_model_module_version": "1.5.0",
            "value": "100% 38872/38872 [17:57&lt;00:00, 36.07it/s]",
            "_view_count": null,
            "_view_module_version": "1.5.0",
            "description_tooltip": null,
            "_model_module": "@jupyter-widgets/controls",
            "layout": "IPY_MODEL_f9345d6a957a46b5b1314d8a0c53f5b9"
          }
        },
        "6426640462f9475ea0a1eb70340243cf": {
          "model_module": "@jupyter-widgets/controls",
          "model_name": "ProgressStyleModel",
          "state": {
            "_view_name": "StyleView",
            "_model_name": "ProgressStyleModel",
            "description_width": "",
            "_view_module": "@jupyter-widgets/base",
            "_model_module_version": "1.5.0",
            "_view_count": null,
            "_view_module_version": "1.2.0",
            "bar_color": null,
            "_model_module": "@jupyter-widgets/controls"
          }
        },
        "b848fde537bc4e34808450329e450ca2": {
          "model_module": "@jupyter-widgets/base",
          "model_name": "LayoutModel",
          "state": {
            "_view_name": "LayoutView",
            "grid_template_rows": null,
            "right": null,
            "justify_content": null,
            "_view_module": "@jupyter-widgets/base",
            "overflow": null,
            "_model_module_version": "1.2.0",
            "_view_count": null,
            "flex_flow": null,
            "width": null,
            "min_width": null,
            "border": null,
            "align_items": null,
            "bottom": null,
            "_model_module": "@jupyter-widgets/base",
            "top": null,
            "grid_column": null,
            "overflow_y": null,
            "overflow_x": null,
            "grid_auto_flow": null,
            "grid_area": null,
            "grid_template_columns": null,
            "flex": null,
            "_model_name": "LayoutModel",
            "justify_items": null,
            "grid_row": null,
            "max_height": null,
            "align_content": null,
            "visibility": null,
            "align_self": null,
            "height": null,
            "min_height": null,
            "padding": null,
            "grid_auto_rows": null,
            "grid_gap": null,
            "max_width": null,
            "order": null,
            "_view_module_version": "1.2.0",
            "grid_template_areas": null,
            "object_position": null,
            "object_fit": null,
            "grid_auto_columns": null,
            "margin": null,
            "display": null,
            "left": null
          }
        },
        "c321c5de08224d3a899d6f42c4cd73fc": {
          "model_module": "@jupyter-widgets/controls",
          "model_name": "DescriptionStyleModel",
          "state": {
            "_view_name": "StyleView",
            "_model_name": "DescriptionStyleModel",
            "description_width": "",
            "_view_module": "@jupyter-widgets/base",
            "_model_module_version": "1.5.0",
            "_view_count": null,
            "_view_module_version": "1.2.0",
            "_model_module": "@jupyter-widgets/controls"
          }
        },
        "f9345d6a957a46b5b1314d8a0c53f5b9": {
          "model_module": "@jupyter-widgets/base",
          "model_name": "LayoutModel",
          "state": {
            "_view_name": "LayoutView",
            "grid_template_rows": null,
            "right": null,
            "justify_content": null,
            "_view_module": "@jupyter-widgets/base",
            "overflow": null,
            "_model_module_version": "1.2.0",
            "_view_count": null,
            "flex_flow": null,
            "width": null,
            "min_width": null,
            "border": null,
            "align_items": null,
            "bottom": null,
            "_model_module": "@jupyter-widgets/base",
            "top": null,
            "grid_column": null,
            "overflow_y": null,
            "overflow_x": null,
            "grid_auto_flow": null,
            "grid_area": null,
            "grid_template_columns": null,
            "flex": null,
            "_model_name": "LayoutModel",
            "justify_items": null,
            "grid_row": null,
            "max_height": null,
            "align_content": null,
            "visibility": null,
            "align_self": null,
            "height": null,
            "min_height": null,
            "padding": null,
            "grid_auto_rows": null,
            "grid_gap": null,
            "max_width": null,
            "order": null,
            "_view_module_version": "1.2.0",
            "grid_template_areas": null,
            "object_position": null,
            "object_fit": null,
            "grid_auto_columns": null,
            "margin": null,
            "display": null,
            "left": null
          }
        },
        "d7de1c8139af442295be16f41dc960d7": {
          "model_module": "@jupyter-widgets/controls",
          "model_name": "HBoxModel",
          "state": {
            "_view_name": "HBoxView",
            "_dom_classes": [],
            "_model_name": "HBoxModel",
            "_view_module": "@jupyter-widgets/controls",
            "_model_module_version": "1.5.0",
            "_view_count": null,
            "_view_module_version": "1.5.0",
            "box_style": "",
            "layout": "IPY_MODEL_25e6fcc109654a86a792270a10ae1bac",
            "_model_module": "@jupyter-widgets/controls",
            "children": [
              "IPY_MODEL_139b9b2752104fcf9058c45c5b415eb9",
              "IPY_MODEL_6effc41c4f824724834b30970505ead9"
            ]
          }
        },
        "25e6fcc109654a86a792270a10ae1bac": {
          "model_module": "@jupyter-widgets/base",
          "model_name": "LayoutModel",
          "state": {
            "_view_name": "LayoutView",
            "grid_template_rows": null,
            "right": null,
            "justify_content": null,
            "_view_module": "@jupyter-widgets/base",
            "overflow": null,
            "_model_module_version": "1.2.0",
            "_view_count": null,
            "flex_flow": null,
            "width": null,
            "min_width": null,
            "border": null,
            "align_items": null,
            "bottom": null,
            "_model_module": "@jupyter-widgets/base",
            "top": null,
            "grid_column": null,
            "overflow_y": null,
            "overflow_x": null,
            "grid_auto_flow": null,
            "grid_area": null,
            "grid_template_columns": null,
            "flex": null,
            "_model_name": "LayoutModel",
            "justify_items": null,
            "grid_row": null,
            "max_height": null,
            "align_content": null,
            "visibility": null,
            "align_self": null,
            "height": null,
            "min_height": null,
            "padding": null,
            "grid_auto_rows": null,
            "grid_gap": null,
            "max_width": null,
            "order": null,
            "_view_module_version": "1.2.0",
            "grid_template_areas": null,
            "object_position": null,
            "object_fit": null,
            "grid_auto_columns": null,
            "margin": null,
            "display": null,
            "left": null
          }
        },
        "139b9b2752104fcf9058c45c5b415eb9": {
          "model_module": "@jupyter-widgets/controls",
          "model_name": "IntProgressModel",
          "state": {
            "_view_name": "ProgressView",
            "style": "IPY_MODEL_f78d7bb8c9f149f8a3fc4b902ff71cc4",
            "_dom_classes": [],
            "description": "",
            "_model_name": "IntProgressModel",
            "bar_style": "success",
            "max": 38872,
            "_view_module": "@jupyter-widgets/controls",
            "_model_module_version": "1.5.0",
            "value": 38872,
            "_view_count": null,
            "_view_module_version": "1.5.0",
            "orientation": "horizontal",
            "min": 0,
            "description_tooltip": null,
            "_model_module": "@jupyter-widgets/controls",
            "layout": "IPY_MODEL_708886f132c642dbae802e84cf721512"
          }
        },
        "6effc41c4f824724834b30970505ead9": {
          "model_module": "@jupyter-widgets/controls",
          "model_name": "HTMLModel",
          "state": {
            "_view_name": "HTMLView",
            "style": "IPY_MODEL_2c09819e244d4e3e96ea5a24f40a8bd1",
            "_dom_classes": [],
            "description": "",
            "_model_name": "HTMLModel",
            "placeholder": "​",
            "_view_module": "@jupyter-widgets/controls",
            "_model_module_version": "1.5.0",
            "value": "100% 38872/38872 [18:54&lt;00:00, 34.25it/s]",
            "_view_count": null,
            "_view_module_version": "1.5.0",
            "description_tooltip": null,
            "_model_module": "@jupyter-widgets/controls",
            "layout": "IPY_MODEL_dc361dba1c58444bb7783ba69afafa0f"
          }
        },
        "f78d7bb8c9f149f8a3fc4b902ff71cc4": {
          "model_module": "@jupyter-widgets/controls",
          "model_name": "ProgressStyleModel",
          "state": {
            "_view_name": "StyleView",
            "_model_name": "ProgressStyleModel",
            "description_width": "",
            "_view_module": "@jupyter-widgets/base",
            "_model_module_version": "1.5.0",
            "_view_count": null,
            "_view_module_version": "1.2.0",
            "bar_color": null,
            "_model_module": "@jupyter-widgets/controls"
          }
        },
        "708886f132c642dbae802e84cf721512": {
          "model_module": "@jupyter-widgets/base",
          "model_name": "LayoutModel",
          "state": {
            "_view_name": "LayoutView",
            "grid_template_rows": null,
            "right": null,
            "justify_content": null,
            "_view_module": "@jupyter-widgets/base",
            "overflow": null,
            "_model_module_version": "1.2.0",
            "_view_count": null,
            "flex_flow": null,
            "width": null,
            "min_width": null,
            "border": null,
            "align_items": null,
            "bottom": null,
            "_model_module": "@jupyter-widgets/base",
            "top": null,
            "grid_column": null,
            "overflow_y": null,
            "overflow_x": null,
            "grid_auto_flow": null,
            "grid_area": null,
            "grid_template_columns": null,
            "flex": null,
            "_model_name": "LayoutModel",
            "justify_items": null,
            "grid_row": null,
            "max_height": null,
            "align_content": null,
            "visibility": null,
            "align_self": null,
            "height": null,
            "min_height": null,
            "padding": null,
            "grid_auto_rows": null,
            "grid_gap": null,
            "max_width": null,
            "order": null,
            "_view_module_version": "1.2.0",
            "grid_template_areas": null,
            "object_position": null,
            "object_fit": null,
            "grid_auto_columns": null,
            "margin": null,
            "display": null,
            "left": null
          }
        },
        "2c09819e244d4e3e96ea5a24f40a8bd1": {
          "model_module": "@jupyter-widgets/controls",
          "model_name": "DescriptionStyleModel",
          "state": {
            "_view_name": "StyleView",
            "_model_name": "DescriptionStyleModel",
            "description_width": "",
            "_view_module": "@jupyter-widgets/base",
            "_model_module_version": "1.5.0",
            "_view_count": null,
            "_view_module_version": "1.2.0",
            "_model_module": "@jupyter-widgets/controls"
          }
        },
        "dc361dba1c58444bb7783ba69afafa0f": {
          "model_module": "@jupyter-widgets/base",
          "model_name": "LayoutModel",
          "state": {
            "_view_name": "LayoutView",
            "grid_template_rows": null,
            "right": null,
            "justify_content": null,
            "_view_module": "@jupyter-widgets/base",
            "overflow": null,
            "_model_module_version": "1.2.0",
            "_view_count": null,
            "flex_flow": null,
            "width": null,
            "min_width": null,
            "border": null,
            "align_items": null,
            "bottom": null,
            "_model_module": "@jupyter-widgets/base",
            "top": null,
            "grid_column": null,
            "overflow_y": null,
            "overflow_x": null,
            "grid_auto_flow": null,
            "grid_area": null,
            "grid_template_columns": null,
            "flex": null,
            "_model_name": "LayoutModel",
            "justify_items": null,
            "grid_row": null,
            "max_height": null,
            "align_content": null,
            "visibility": null,
            "align_self": null,
            "height": null,
            "min_height": null,
            "padding": null,
            "grid_auto_rows": null,
            "grid_gap": null,
            "max_width": null,
            "order": null,
            "_view_module_version": "1.2.0",
            "grid_template_areas": null,
            "object_position": null,
            "object_fit": null,
            "grid_auto_columns": null,
            "margin": null,
            "display": null,
            "left": null
          }
        },
        "d2bb8b669df94a7385caebecce9cac52": {
          "model_module": "@jupyter-widgets/controls",
          "model_name": "HBoxModel",
          "state": {
            "_view_name": "HBoxView",
            "_dom_classes": [],
            "_model_name": "HBoxModel",
            "_view_module": "@jupyter-widgets/controls",
            "_model_module_version": "1.5.0",
            "_view_count": null,
            "_view_module_version": "1.5.0",
            "box_style": "",
            "layout": "IPY_MODEL_42364d84854c45c8a988b51353633f71",
            "_model_module": "@jupyter-widgets/controls",
            "children": [
              "IPY_MODEL_0c6dc04b16dc4cbf859a2e54e02bce9a",
              "IPY_MODEL_6d446cb780d8426e87e0f191023a5d74"
            ]
          }
        },
        "42364d84854c45c8a988b51353633f71": {
          "model_module": "@jupyter-widgets/base",
          "model_name": "LayoutModel",
          "state": {
            "_view_name": "LayoutView",
            "grid_template_rows": null,
            "right": null,
            "justify_content": null,
            "_view_module": "@jupyter-widgets/base",
            "overflow": null,
            "_model_module_version": "1.2.0",
            "_view_count": null,
            "flex_flow": null,
            "width": null,
            "min_width": null,
            "border": null,
            "align_items": null,
            "bottom": null,
            "_model_module": "@jupyter-widgets/base",
            "top": null,
            "grid_column": null,
            "overflow_y": null,
            "overflow_x": null,
            "grid_auto_flow": null,
            "grid_area": null,
            "grid_template_columns": null,
            "flex": null,
            "_model_name": "LayoutModel",
            "justify_items": null,
            "grid_row": null,
            "max_height": null,
            "align_content": null,
            "visibility": null,
            "align_self": null,
            "height": null,
            "min_height": null,
            "padding": null,
            "grid_auto_rows": null,
            "grid_gap": null,
            "max_width": null,
            "order": null,
            "_view_module_version": "1.2.0",
            "grid_template_areas": null,
            "object_position": null,
            "object_fit": null,
            "grid_auto_columns": null,
            "margin": null,
            "display": null,
            "left": null
          }
        },
        "0c6dc04b16dc4cbf859a2e54e02bce9a": {
          "model_module": "@jupyter-widgets/controls",
          "model_name": "IntProgressModel",
          "state": {
            "_view_name": "ProgressView",
            "style": "IPY_MODEL_27ed92d3413d48c4880c1aadce726237",
            "_dom_classes": [],
            "description": "",
            "_model_name": "IntProgressModel",
            "bar_style": "",
            "max": 38872,
            "_view_module": "@jupyter-widgets/controls",
            "_model_module_version": "1.5.0",
            "value": 300,
            "_view_count": null,
            "_view_module_version": "1.5.0",
            "orientation": "horizontal",
            "min": 0,
            "description_tooltip": null,
            "_model_module": "@jupyter-widgets/controls",
            "layout": "IPY_MODEL_55e9f70768bd4f6a9e560b3c53c6dbb1"
          }
        },
        "6d446cb780d8426e87e0f191023a5d74": {
          "model_module": "@jupyter-widgets/controls",
          "model_name": "HTMLModel",
          "state": {
            "_view_name": "HTMLView",
            "style": "IPY_MODEL_02f9a40b2f4949d0a07205b96b0b7a87",
            "_dom_classes": [],
            "description": "",
            "_model_name": "HTMLModel",
            "placeholder": "​",
            "_view_module": "@jupyter-widgets/controls",
            "_model_module_version": "1.5.0",
            "value": "  1% 300/38872 [00:13&lt;25:35, 25.11it/s]",
            "_view_count": null,
            "_view_module_version": "1.5.0",
            "description_tooltip": null,
            "_model_module": "@jupyter-widgets/controls",
            "layout": "IPY_MODEL_bea3553fa02b4b3893719e23f20f3360"
          }
        },
        "27ed92d3413d48c4880c1aadce726237": {
          "model_module": "@jupyter-widgets/controls",
          "model_name": "ProgressStyleModel",
          "state": {
            "_view_name": "StyleView",
            "_model_name": "ProgressStyleModel",
            "description_width": "",
            "_view_module": "@jupyter-widgets/base",
            "_model_module_version": "1.5.0",
            "_view_count": null,
            "_view_module_version": "1.2.0",
            "bar_color": null,
            "_model_module": "@jupyter-widgets/controls"
          }
        },
        "55e9f70768bd4f6a9e560b3c53c6dbb1": {
          "model_module": "@jupyter-widgets/base",
          "model_name": "LayoutModel",
          "state": {
            "_view_name": "LayoutView",
            "grid_template_rows": null,
            "right": null,
            "justify_content": null,
            "_view_module": "@jupyter-widgets/base",
            "overflow": null,
            "_model_module_version": "1.2.0",
            "_view_count": null,
            "flex_flow": null,
            "width": null,
            "min_width": null,
            "border": null,
            "align_items": null,
            "bottom": null,
            "_model_module": "@jupyter-widgets/base",
            "top": null,
            "grid_column": null,
            "overflow_y": null,
            "overflow_x": null,
            "grid_auto_flow": null,
            "grid_area": null,
            "grid_template_columns": null,
            "flex": null,
            "_model_name": "LayoutModel",
            "justify_items": null,
            "grid_row": null,
            "max_height": null,
            "align_content": null,
            "visibility": null,
            "align_self": null,
            "height": null,
            "min_height": null,
            "padding": null,
            "grid_auto_rows": null,
            "grid_gap": null,
            "max_width": null,
            "order": null,
            "_view_module_version": "1.2.0",
            "grid_template_areas": null,
            "object_position": null,
            "object_fit": null,
            "grid_auto_columns": null,
            "margin": null,
            "display": null,
            "left": null
          }
        },
        "02f9a40b2f4949d0a07205b96b0b7a87": {
          "model_module": "@jupyter-widgets/controls",
          "model_name": "DescriptionStyleModel",
          "state": {
            "_view_name": "StyleView",
            "_model_name": "DescriptionStyleModel",
            "description_width": "",
            "_view_module": "@jupyter-widgets/base",
            "_model_module_version": "1.5.0",
            "_view_count": null,
            "_view_module_version": "1.2.0",
            "_model_module": "@jupyter-widgets/controls"
          }
        },
        "bea3553fa02b4b3893719e23f20f3360": {
          "model_module": "@jupyter-widgets/base",
          "model_name": "LayoutModel",
          "state": {
            "_view_name": "LayoutView",
            "grid_template_rows": null,
            "right": null,
            "justify_content": null,
            "_view_module": "@jupyter-widgets/base",
            "overflow": null,
            "_model_module_version": "1.2.0",
            "_view_count": null,
            "flex_flow": null,
            "width": null,
            "min_width": null,
            "border": null,
            "align_items": null,
            "bottom": null,
            "_model_module": "@jupyter-widgets/base",
            "top": null,
            "grid_column": null,
            "overflow_y": null,
            "overflow_x": null,
            "grid_auto_flow": null,
            "grid_area": null,
            "grid_template_columns": null,
            "flex": null,
            "_model_name": "LayoutModel",
            "justify_items": null,
            "grid_row": null,
            "max_height": null,
            "align_content": null,
            "visibility": null,
            "align_self": null,
            "height": null,
            "min_height": null,
            "padding": null,
            "grid_auto_rows": null,
            "grid_gap": null,
            "max_width": null,
            "order": null,
            "_view_module_version": "1.2.0",
            "grid_template_areas": null,
            "object_position": null,
            "object_fit": null,
            "grid_auto_columns": null,
            "margin": null,
            "display": null,
            "left": null
          }
        }
      }
    }
  },
  "cells": [
    {
      "cell_type": "markdown",
      "metadata": {
        "id": "view-in-github",
        "colab_type": "text"
      },
      "source": [
        "<a href=\"https://colab.research.google.com/github/MoonJaeHoon/Dacon_Behavioral_Data_Analysis/blob/master/%EB%B2%88%EC%99%B8_Camera%EC%A2%8C%ED%91%9C%EC%9D%98Plot%EC%9D%B4%EC%9A%A9_DNN%26CNN.ipynb\" target=\"_parent\"><img src=\"https://colab.research.google.com/assets/colab-badge.svg\" alt=\"Open In Colab\"/></a>"
      ]
    },
    {
      "cell_type": "code",
      "metadata": {
        "id": "f1HUBrsTiOXw",
        "colab_type": "code",
        "outputId": "546af599-e3ce-41f8-8f23-0192f8bae723",
        "colab": {
          "base_uri": "https://localhost:8080/",
          "height": 127
        }
      },
      "source": [
        "from google.colab import drive\n",
        "drive.mount('/content/drive')"
      ],
      "execution_count": 0,
      "outputs": [
        {
          "output_type": "stream",
          "text": [
            "Go to this URL in a browser: https://accounts.google.com/o/oauth2/auth?client_id=947318989803-6bn6qk8qdgf4n4g3pfee6491hc0brc4i.apps.googleusercontent.com&redirect_uri=urn%3aietf%3awg%3aoauth%3a2.0%3aoob&response_type=code&scope=email%20https%3a%2f%2fwww.googleapis.com%2fauth%2fdocs.test%20https%3a%2f%2fwww.googleapis.com%2fauth%2fdrive%20https%3a%2f%2fwww.googleapis.com%2fauth%2fdrive.photos.readonly%20https%3a%2f%2fwww.googleapis.com%2fauth%2fpeopleapi.readonly\n",
            "\n",
            "Enter your authorization code:\n",
            "··········\n",
            "Mounted at /content/drive\n"
          ],
          "name": "stdout"
        }
      ]
    },
    {
      "cell_type": "code",
      "metadata": {
        "id": "b8uGewosIkva",
        "colab_type": "code",
        "outputId": "8c8483d8-4c36-4827-98e6-3b1bb144fc41",
        "colab": {
          "base_uri": "https://localhost:8080/",
          "height": 89
        }
      },
      "source": [
        "import pandas as pd\n",
        "import numpy as np\n",
        "from tqdm import tqdm_notebook\n",
        "import os\n",
        "print( '변경 전 기본 경로 :' )\n",
        "print(  os.getcwd() )\n",
        "os.chdir('./drive/My Drive/데이콘_게임데이터분석')\n",
        "print( '변경 후 파일 경로 :' )\n",
        "print(  os.getcwd()  )\n",
        "\n",
        "train6 = pd.read_pickle('train6.pkl')\n",
        "camera_list=train6.camera_list\n",
        "del train6"
      ],
      "execution_count": 0,
      "outputs": [
        {
          "output_type": "stream",
          "text": [
            "변경 전 기본 경로 :\n",
            "/content\n",
            "변경 후 파일 경로 :\n",
            "/content/drive/My Drive/데이콘_게임데이터분석\n"
          ],
          "name": "stdout"
        }
      ]
    },
    {
      "cell_type": "markdown",
      "metadata": {
        "colab_type": "text",
        "id": "k9lFFC7_EDvn"
      },
      "source": [
        "## 0(player0),1(player1) 따로 <(m*2,m)차원으로>"
      ]
    },
    {
      "cell_type": "code",
      "metadata": {
        "id": "bxHMEX5VDP55",
        "colab_type": "code",
        "colab": {}
      },
      "source": [
        "import math\n",
        "red = 1\n",
        "m = math.ceil(173*red)\n",
        "\n",
        "def array_0and1(camera_list = camera_list, red = red, m=m):\n",
        "  ############### 모든 게임 전체를 저장할 비어있는 어레이\n",
        "  total_array = np.zeros( len(camera_list)*(m+m)*m  )\n",
        "  total_array = total_array.reshape(  len(camera_list),(m+m),m )\n",
        "\n",
        "  ############ i에 대한 for문 시작\n",
        "  from tqdm import tqdm_notebook\n",
        "  for i in tqdm_notebook( range( len(camera_list) ) ):\n",
        "    ################ i번째 게임에서 player0과1 모두에 대한 코드 #################\n",
        "    ## 한 게임당 player0과 1모두를 저장할 어레이 1~170 : 플레이어0, 171~340 : 플레이어1\n",
        "    arr_i_p = np.zeros((m+m)*m)\n",
        "    arr_i_p = arr_i_p.reshape((m+m),m)\n",
        "\n",
        "    ## player0의 좌표들 1로 채워넣는 코드##\n",
        "    if str(camera_list[i]['player0']) != 'nan':\n",
        "      for j in range(len(camera_list[i]['player0'])):\n",
        "        ## i번째 게임에서 player0의 좌표들 중 j번째 좌표\n",
        "        indexing_p0_ij = camera_list[i]['player0'].astype(int)[j].tolist()\n",
        "\n",
        "        ################ player0에 대한 좌표들을 모두 1로 채워넣기 ################\n",
        "        arr_i_p[  int(indexing_p0_ij[0]*red) , int(indexing_p0_ij[1]*red)  ] = 1\n",
        "    else:\n",
        "      print(f'{i}번째 게임에서 플레이어0의 좌표가 없음')\n",
        "    ## player1의 좌표들 1로 채워넣는 코드 ##\n",
        "    if str(camera_list[i]['player1']) != 'nan':\n",
        "      for j in range(len(camera_list[i]['player1'])):\n",
        "        ## i번째 게임에서 player1의 좌표들 중 j번째 좌표\n",
        "        indexing_p1_ij = camera_list[i]['player1'].astype(int)[j].tolist()\n",
        "\n",
        "        ################ player1에 대한 좌표들을 모두 1로 채워넣기 ################\n",
        "        arr_i_p[  int(indexing_p1_ij[0]*red+m) ,  int(indexing_p1_ij[1]*red) ] = 1\n",
        "    else:\n",
        "      print(f'{i}번째 게임에서 플레이어1의 좌표가 없음')\n",
        "\n",
        "    total_array[i,:,:] = arr_i_p\n",
        "\n",
        "  return total_array"
      ],
      "execution_count": 0,
      "outputs": []
    },
    {
      "cell_type": "code",
      "metadata": {
        "id": "GeD7ANGDL1hX",
        "colab_type": "code",
        "outputId": "5616c53b-3133-4dff-bea4-d503c65b4aa7",
        "colab": {
          "base_uri": "https://localhost:8080/",
          "height": 481,
          "referenced_widgets": [
            "cef158e1379b4a7782b9da1c5ea889e1",
            "ef5820ff7cf148399142e2bfa7beef9c",
            "b2b60607833b4cbbaede942b49a17dbf",
            "998e98822fd44abb916c8d0a29cdc53c",
            "6426640462f9475ea0a1eb70340243cf",
            "b848fde537bc4e34808450329e450ca2",
            "c321c5de08224d3a899d6f42c4cd73fc",
            "f9345d6a957a46b5b1314d8a0c53f5b9"
          ]
        }
      },
      "source": [
        "array0and1 = array_0and1(camera_list = camera_list)\n",
        "#np.save('array0and1', array0and1)\n",
        "array0and1.shape"
      ],
      "execution_count": 0,
      "outputs": [
        {
          "output_type": "display_data",
          "data": {
            "application/vnd.jupyter.widget-view+json": {
              "model_id": "cef158e1379b4a7782b9da1c5ea889e1",
              "version_minor": 0,
              "version_major": 2
            },
            "text/plain": [
              "HBox(children=(IntProgress(value=0, max=38872), HTML(value='')))"
            ]
          },
          "metadata": {
            "tags": []
          }
        },
        {
          "output_type": "stream",
          "text": [
            "187번째 게임에서 플레이어1의 좌표가 없음\n",
            "10246번째 게임에서 플레이어0의 좌표가 없음\n",
            "12105번째 게임에서 플레이어1의 좌표가 없음\n",
            "13292번째 게임에서 플레이어1의 좌표가 없음\n",
            "14675번째 게임에서 플레이어1의 좌표가 없음\n",
            "17294번째 게임에서 플레이어1의 좌표가 없음\n",
            "21149번째 게임에서 플레이어0의 좌표가 없음\n",
            "23337번째 게임에서 플레이어0의 좌표가 없음\n",
            "24423번째 게임에서 플레이어1의 좌표가 없음\n",
            "24855번째 게임에서 플레이어1의 좌표가 없음\n",
            "24858번째 게임에서 플레이어1의 좌표가 없음\n",
            "25891번째 게임에서 플레이어0의 좌표가 없음\n",
            "26243번째 게임에서 플레이어1의 좌표가 없음\n",
            "26339번째 게임에서 플레이어1의 좌표가 없음\n",
            "27249번째 게임에서 플레이어1의 좌표가 없음\n",
            "27818번째 게임에서 플레이어0의 좌표가 없음\n",
            "32254번째 게임에서 플레이어1의 좌표가 없음\n",
            "33101번째 게임에서 플레이어1의 좌표가 없음\n",
            "34423번째 게임에서 플레이어1의 좌표가 없음\n",
            "34843번째 게임에서 플레이어1의 좌표가 없음\n",
            "35288번째 게임에서 플레이어0의 좌표가 없음\n",
            "37967번째 게임에서 플레이어1의 좌표가 없음\n",
            "\n"
          ],
          "name": "stdout"
        },
        {
          "output_type": "execute_result",
          "data": {
            "text/plain": [
              "(38872, 260, 130)"
            ]
          },
          "metadata": {
            "tags": []
          },
          "execution_count": 6
        }
      ]
    },
    {
      "cell_type": "markdown",
      "metadata": {
        "id": "hZuput_sDzsi",
        "colab_type": "text"
      },
      "source": [
        "## 0(빈곳), 1(player0), 2(player1), 3(player0 & 1 겹치는)"
      ]
    },
    {
      "cell_type": "code",
      "metadata": {
        "id": "_U_4qGoxBQjR",
        "colab_type": "code",
        "colab": {}
      },
      "source": [
        "import math\n",
        "red = 3/4\n",
        "m = math.ceil(173*red)\n",
        "\n",
        "def array_0_3(camera_list = camera_list, red = red, m=m):\n",
        "  ############### 모든 게임 전체를 저장할 비어있는 어레이\n",
        "  total_array = np.zeros( len(camera_list)*(m)*m  )\n",
        "  total_array = total_array.reshape(  len(camera_list),(m),m )\n",
        "\n",
        "  ############ i에 대한 for문 시작\n",
        "  from tqdm import tqdm_notebook\n",
        "  for i in tqdm_notebook( range( len(camera_list) ) ):\n",
        "    ################ i번째 게임에서 player0과1 모두에 대한 코드 #################\n",
        "    ## 한 게임당 player0과 1모두를 저장할 어레이 1~170 : 플레이어0, 171~340 : 플레이어1\n",
        "    arr_i_p = np.zeros((m)*m)\n",
        "    arr_i_p = arr_i_p.reshape((m),m)\n",
        "\n",
        "    ## player0의 좌표들 1로 채워넣는 코드##\n",
        "    if str(camera_list[i]['player0']) != 'nan':\n",
        "      for j in range(len(camera_list[i]['player0'])):\n",
        "        ## i번째 게임에서 player0의 좌표들 중 j번째 좌표\n",
        "        indexing_p0_ij = camera_list[i]['player0'].astype(int)[j].tolist()\n",
        "\n",
        "        ################ player0에 대한 좌표들을 모두 1로 채워넣기 ################\n",
        "        arr_i_p[  int(indexing_p0_ij[0]*red) , int(indexing_p0_ij[1]*red)  ] = 1\n",
        "    else:\n",
        "      print(f'{i}번째 게임에서 플레이어0의 좌표가 없음')\n",
        "    ## player1의 좌표들 1로 채워넣는 코드 ##\n",
        "    if str(camera_list[i]['player1']) != 'nan':\n",
        "      for j in range(len(camera_list[i]['player1'])):\n",
        "        ## i번째 게임에서 player1의 좌표들 중 j번째 좌표\n",
        "        indexing_p1_ij = camera_list[i]['player1'].astype(int)[j].tolist()\n",
        "\n",
        "        ################ player1에 대한 좌표들을 모두 1로 채워넣기 ################\n",
        "        if arr_i_p[  int(indexing_p1_ij[0]*red) ,  int(indexing_p1_ij[1]*red) ] != 1:\n",
        "            arr_i_p[  int(indexing_p1_ij[0]*red) ,  int(indexing_p1_ij[1]*red) ] = 2\n",
        "        else:\n",
        "            arr_i_p[  int(indexing_p1_ij[0]*red) ,  int(indexing_p1_ij[1]*red) ] = 3\n",
        "    else:\n",
        "      print(f'{i}번째 게임에서 플레이어1의 좌표가 없음')\n",
        "\n",
        "    total_array[i,:,:] = arr_i_p\n",
        "\n",
        "  return total_array"
      ],
      "execution_count": 0,
      "outputs": []
    },
    {
      "cell_type": "code",
      "metadata": {
        "id": "g38NlXrXDv-m",
        "colab_type": "code",
        "outputId": "ccf431ee-44fc-4386-8c07-88240fe6b865",
        "colab": {
          "base_uri": "https://localhost:8080/",
          "height": 481,
          "referenced_widgets": [
            "d7de1c8139af442295be16f41dc960d7",
            "25e6fcc109654a86a792270a10ae1bac",
            "139b9b2752104fcf9058c45c5b415eb9",
            "6effc41c4f824724834b30970505ead9",
            "f78d7bb8c9f149f8a3fc4b902ff71cc4",
            "708886f132c642dbae802e84cf721512",
            "2c09819e244d4e3e96ea5a24f40a8bd1",
            "dc361dba1c58444bb7783ba69afafa0f"
          ]
        }
      },
      "source": [
        "array0_3 = array_0_3(camera_list = camera_list)\n",
        "#np.save('array0and1', array0and1)\n",
        "array0_3.shape"
      ],
      "execution_count": 0,
      "outputs": [
        {
          "output_type": "display_data",
          "data": {
            "application/vnd.jupyter.widget-view+json": {
              "model_id": "d7de1c8139af442295be16f41dc960d7",
              "version_minor": 0,
              "version_major": 2
            },
            "text/plain": [
              "HBox(children=(IntProgress(value=0, max=38872), HTML(value='')))"
            ]
          },
          "metadata": {
            "tags": []
          }
        },
        {
          "output_type": "stream",
          "text": [
            "187번째 게임에서 플레이어1의 좌표가 없음\n",
            "10246번째 게임에서 플레이어0의 좌표가 없음\n",
            "12105번째 게임에서 플레이어1의 좌표가 없음\n",
            "13292번째 게임에서 플레이어1의 좌표가 없음\n",
            "14675번째 게임에서 플레이어1의 좌표가 없음\n",
            "17294번째 게임에서 플레이어1의 좌표가 없음\n",
            "21149번째 게임에서 플레이어0의 좌표가 없음\n",
            "23337번째 게임에서 플레이어0의 좌표가 없음\n",
            "24423번째 게임에서 플레이어1의 좌표가 없음\n",
            "24855번째 게임에서 플레이어1의 좌표가 없음\n",
            "24858번째 게임에서 플레이어1의 좌표가 없음\n",
            "25891번째 게임에서 플레이어0의 좌표가 없음\n",
            "26243번째 게임에서 플레이어1의 좌표가 없음\n",
            "26339번째 게임에서 플레이어1의 좌표가 없음\n",
            "27249번째 게임에서 플레이어1의 좌표가 없음\n",
            "27818번째 게임에서 플레이어0의 좌표가 없음\n",
            "32254번째 게임에서 플레이어1의 좌표가 없음\n",
            "33101번째 게임에서 플레이어1의 좌표가 없음\n",
            "34423번째 게임에서 플레이어1의 좌표가 없음\n",
            "34843번째 게임에서 플레이어1의 좌표가 없음\n",
            "35288번째 게임에서 플레이어0의 좌표가 없음\n",
            "37967번째 게임에서 플레이어1의 좌표가 없음\n",
            "\n"
          ],
          "name": "stdout"
        },
        {
          "output_type": "execute_result",
          "data": {
            "text/plain": [
              "(38872, 130, 130)"
            ]
          },
          "metadata": {
            "tags": []
          },
          "execution_count": 4
        }
      ]
    },
    {
      "cell_type": "code",
      "metadata": {
        "id": "TYXHAnLFEgfw",
        "colab_type": "code",
        "outputId": "a1581bb1-b2b2-48f1-ada4-5108fc4b24e3",
        "colab": {
          "base_uri": "https://localhost:8080/",
          "height": 35
        }
      },
      "source": [
        "array0_3.shape"
      ],
      "execution_count": 0,
      "outputs": [
        {
          "output_type": "execute_result",
          "data": {
            "text/plain": [
              "(38872, 130, 130)"
            ]
          },
          "metadata": {
            "tags": []
          },
          "execution_count": 5
        }
      ]
    },
    {
      "cell_type": "markdown",
      "metadata": {
        "colab_type": "text",
        "id": "kbc5VvjWb2Z7"
      },
      "source": [
        "## player0 와 player1 따로 좌표 차지하는 곳 list에 0 1로 찍기 (MNIST 데이터처럼)"
      ]
    },
    {
      "cell_type": "code",
      "metadata": {
        "id": "nIF5I3jmiVci",
        "colab_type": "code",
        "outputId": "1db3368e-5333-4b8a-b347-05b61d4b6c39",
        "colab": {
          "base_uri": "https://localhost:8080/",
          "height": 49,
          "referenced_widgets": [
            "d2bb8b669df94a7385caebecce9cac52",
            "42364d84854c45c8a988b51353633f71",
            "0c6dc04b16dc4cbf859a2e54e02bce9a",
            "6d446cb780d8426e87e0f191023a5d74",
            "27ed92d3413d48c4880c1aadce726237",
            "55e9f70768bd4f6a9e560b3c53c6dbb1",
            "02f9a40b2f4949d0a07205b96b0b7a87",
            "bea3553fa02b4b3893719e23f20f3360"
          ]
        }
      },
      "source": [
        "def list_0and1(camera_list = camera_list):\n",
        "  train_images=[]\n",
        "\n",
        "  for j in tqdm_notebook( range(len(camera_list)) ):\n",
        "      n=180\n",
        "      m=360\n",
        "      arr = [[0]*n for i in range(m)]  \n",
        "      try:\n",
        "          for i in range(len(camera_list[j]['player0'])):\n",
        "              try:\n",
        "                  arr[camera_list[j]['player0'].astype(int)[i][0]][camera_list[j]['player0'].astype(int)[i][1]]=1\n",
        "              except:\n",
        "                  1+1\n",
        "      except:\n",
        "          1+1\n",
        "      try:\n",
        "          for i in range(len(camera_list[j]['player1'])):\n",
        "              try:\n",
        "                  arr[camera_list[j]['player1'].astype(int)[i][0]+180][camera_list[j]['player1'].astype(int)[i][1]]=1\n",
        "              except:\n",
        "                  1+1\n",
        "      except:\n",
        "          1+1\n",
        "      train_images.append(arr)\n",
        "  return train_images\n",
        "train_images = list_0and1(camera_list = camera_list)"
      ],
      "execution_count": 0,
      "outputs": [
        {
          "output_type": "display_data",
          "data": {
            "application/vnd.jupyter.widget-view+json": {
              "model_id": "d2bb8b669df94a7385caebecce9cac52",
              "version_minor": 0,
              "version_major": 2
            },
            "text/plain": [
              "HBox(children=(IntProgress(value=0, max=38872), HTML(value='')))"
            ]
          },
          "metadata": {
            "tags": []
          }
        }
      ]
    },
    {
      "cell_type": "markdown",
      "metadata": {
        "colab_type": "text",
        "id": "8FLpJ76iYBjv"
      },
      "source": [
        "## 일반 뉴럴넷 시작"
      ]
    },
    {
      "cell_type": "code",
      "metadata": {
        "colab_type": "code",
        "id": "lBi5vyJLYBkE",
        "colab": {}
      },
      "source": [
        "newdata=pd.read_pickle('train6.pkl')\n",
        "train_labels=newdata['winner']\n",
        "del newdata\n"
      ],
      "execution_count": 0,
      "outputs": []
    },
    {
      "cell_type": "code",
      "metadata": {
        "colab_type": "code",
        "id": "jRd1YRCcYBkQ",
        "colab": {}
      },
      "source": [
        "del model\n",
        "del datagen\n"
      ],
      "execution_count": 0,
      "outputs": []
    },
    {
      "cell_type": "code",
      "metadata": {
        "colab_type": "code",
        "id": "lKiSv2kxYBkg",
        "colab": {}
      },
      "source": [
        "import keras\n",
        "from keras.models import Sequential\n",
        "from keras.layers import Dense, Dropout, Flatten, Conv2D, MaxPool2D\n",
        "from keras.layers.normalization import BatchNormalization\n",
        "from keras.preprocessing.image import ImageDataGenerator\n",
        "from keras.callbacks import ReduceLROnPlateau\n",
        "from sklearn.model_selection import train_test_split\n",
        "\n",
        "\n",
        "array0_3 = array0_3.reshape(38872, m, m)\n",
        "array0_3 = array0_3/3\n",
        "batch_size = 32\n",
        "num_classes = 2\n",
        "epochs = 10\n",
        "input_shape = (m, m, 1)\n",
        "\n",
        "\n",
        "# convert class vectors to binary class matrices One Hot Encoding\n",
        "train_labels = pd.DataFrame(train_labels)\n",
        "train_labels['winner'] = train_labels['winner'].replace({0: 'winner_0', 1: 'winner_1'})\n",
        "labels = pd.get_dummies(train_labels).values\n",
        "\n",
        "\n",
        "X_train, X_val, Y_train, Y_val = train_test_split(array0_3, labels, test_size = 0.1, random_state=42)\n",
        "\n",
        "\n",
        "###################### Keras Sequential 모델 구축 ###################\n",
        "model = Sequential()\n",
        "\n",
        "model.add(Flatten(input_shape=(m, m)))\n",
        "\n",
        "model.add(Dense(2024, activation='relu'))\n",
        "model.add(BatchNormalization())\n",
        "model.add(Dropout(0.4))\n",
        "\n",
        "model.add(Dense(1024, activation='relu'))\n",
        "model.add(BatchNormalization())\n",
        "model.add(Dropout(0.4))\n",
        "\n",
        "model.add(Dense(512, activation='relu'))\n",
        "model.add(BatchNormalization())\n",
        "model.add(Dropout(0.35))\n",
        "\n",
        "model.add(Dense(num_classes, activation='softmax'))\n",
        "\n",
        "initial_rate = 3e-5\n",
        "from keras import optimizers\n",
        "optimizer = optimizers.Adam(\n",
        "    lr=initial_rate,\n",
        ")\n",
        "\n",
        "model.compile(loss='categorical_crossentropy',\n",
        "              #loss=keras.losses.categorical_crossentropy,\n",
        "              optimizer=optimizer,\n",
        "              metrics=['accuracy'])\n",
        "\n",
        "learning_rate_reduction = ReduceLROnPlateau(monitor='val_acc', \n",
        "                                            patience=3, \n",
        "                                            verbose=1, \n",
        "                                            factor=0.5, \n",
        "                                            min_lr=1e-7)\n",
        "\n",
        "#model.summary()\n",
        "\n"
      ],
      "execution_count": 0,
      "outputs": []
    },
    {
      "cell_type": "code",
      "metadata": {
        "colab_type": "code",
        "outputId": "8501176c-68c6-4351-d615-7d73d2ba1bc5",
        "id": "ygnAItHhYBkx",
        "colab": {
          "base_uri": "https://localhost:8080/",
          "height": 865
        }
      },
      "source": [
        "h = model.fit(X_train,Y_train, batch_size=batch_size,\n",
        "                              epochs = epochs, validation_data = (X_val, Y_val),\n",
        "                              verbose = 1   #, steps_per_epoch=X_train.shape[0] // batch_size\n",
        "                              , callbacks=[learning_rate_reduction])"
      ],
      "execution_count": 0,
      "outputs": [
        {
          "output_type": "stream",
          "text": [
            "WARNING:tensorflow:From /usr/local/lib/python3.6/dist-packages/tensorflow_core/python/ops/math_grad.py:1424: where (from tensorflow.python.ops.array_ops) is deprecated and will be removed in a future version.\n",
            "Instructions for updating:\n",
            "Use tf.where in 2.0, which has the same broadcast rule as np.where\n",
            "WARNING:tensorflow:From /usr/local/lib/python3.6/dist-packages/keras/backend/tensorflow_backend.py:1033: The name tf.assign_add is deprecated. Please use tf.compat.v1.assign_add instead.\n",
            "\n",
            "WARNING:tensorflow:From /usr/local/lib/python3.6/dist-packages/keras/backend/tensorflow_backend.py:1020: The name tf.assign is deprecated. Please use tf.compat.v1.assign instead.\n",
            "\n",
            "WARNING:tensorflow:From /usr/local/lib/python3.6/dist-packages/keras/backend/tensorflow_backend.py:3005: The name tf.Session is deprecated. Please use tf.compat.v1.Session instead.\n",
            "\n",
            "Train on 34984 samples, validate on 3888 samples\n",
            "Epoch 1/10\n",
            "WARNING:tensorflow:From /usr/local/lib/python3.6/dist-packages/keras/backend/tensorflow_backend.py:190: The name tf.get_default_session is deprecated. Please use tf.compat.v1.get_default_session instead.\n",
            "\n",
            "WARNING:tensorflow:From /usr/local/lib/python3.6/dist-packages/keras/backend/tensorflow_backend.py:197: The name tf.ConfigProto is deprecated. Please use tf.compat.v1.ConfigProto instead.\n",
            "\n",
            "WARNING:tensorflow:From /usr/local/lib/python3.6/dist-packages/keras/backend/tensorflow_backend.py:207: The name tf.global_variables is deprecated. Please use tf.compat.v1.global_variables instead.\n",
            "\n",
            "WARNING:tensorflow:From /usr/local/lib/python3.6/dist-packages/keras/backend/tensorflow_backend.py:216: The name tf.is_variable_initialized is deprecated. Please use tf.compat.v1.is_variable_initialized instead.\n",
            "\n",
            "WARNING:tensorflow:From /usr/local/lib/python3.6/dist-packages/keras/backend/tensorflow_backend.py:223: The name tf.variables_initializer is deprecated. Please use tf.compat.v1.variables_initializer instead.\n",
            "\n",
            "34984/34984 [==============================] - 47s 1ms/step - loss: 1.1019 - acc: 0.5014 - val_loss: 0.7489 - val_acc: 0.5090\n",
            "Epoch 2/10\n",
            "34984/34984 [==============================] - 37s 1ms/step - loss: 0.9449 - acc: 0.5191 - val_loss: 0.7382 - val_acc: 0.5036\n",
            "Epoch 3/10\n",
            "34984/34984 [==============================] - 37s 1ms/step - loss: 0.8919 - acc: 0.5272 - val_loss: 0.7391 - val_acc: 0.4982\n",
            "Epoch 4/10\n",
            "34984/34984 [==============================] - 37s 1ms/step - loss: 0.8430 - acc: 0.5396 - val_loss: 0.7349 - val_acc: 0.4887\n",
            "\n",
            "Epoch 00004: ReduceLROnPlateau reducing learning rate to 1.4999999621068127e-05.\n",
            "Epoch 5/10\n",
            "34984/34984 [==============================] - 37s 1ms/step - loss: 0.8093 - acc: 0.5541 - val_loss: 0.7290 - val_acc: 0.4892\n",
            "Epoch 6/10\n",
            "34984/34984 [==============================] - 37s 1ms/step - loss: 0.7798 - acc: 0.5675 - val_loss: 0.7336 - val_acc: 0.4938\n",
            "Epoch 7/10\n",
            "34984/34984 [==============================] - 37s 1ms/step - loss: 0.7563 - acc: 0.5793 - val_loss: 0.7339 - val_acc: 0.4959\n",
            "\n",
            "Epoch 00007: ReduceLROnPlateau reducing learning rate to 7.499999810534064e-06.\n",
            "Epoch 8/10\n",
            "34984/34984 [==============================] - 37s 1ms/step - loss: 0.7189 - acc: 0.6030 - val_loss: 0.7339 - val_acc: 0.5028\n",
            "Epoch 9/10\n",
            "34984/34984 [==============================] - 37s 1ms/step - loss: 0.7037 - acc: 0.6147 - val_loss: 0.7464 - val_acc: 0.4992\n",
            "Epoch 10/10\n",
            "34984/34984 [==============================] - 37s 1ms/step - loss: 0.6885 - acc: 0.6277 - val_loss: 0.7519 - val_acc: 0.4967\n",
            "\n",
            "Epoch 00010: ReduceLROnPlateau reducing learning rate to 3.749999905267032e-06.\n"
          ],
          "name": "stdout"
        }
      ]
    },
    {
      "cell_type": "markdown",
      "metadata": {
        "id": "FQWIzMmTnB4q",
        "colab_type": "text"
      },
      "source": [
        "## CNN 시작"
      ]
    },
    {
      "cell_type": "code",
      "metadata": {
        "id": "97UD2Cc4OCGF",
        "colab_type": "code",
        "colab": {}
      },
      "source": [
        "import numpy as np\n",
        "#np.save('x_save',train_images)\n",
        "#train_image = np.load('x_save.npy')"
      ],
      "execution_count": 0,
      "outputs": []
    },
    {
      "cell_type": "code",
      "metadata": {
        "id": "uEWjWVOiiVjL",
        "colab_type": "code",
        "colab": {}
      },
      "source": [
        "newdata=pd.read_pickle('train6.pkl')\n",
        "train_labels=newdata['winner']\n",
        "del newdata\n"
      ],
      "execution_count": 0,
      "outputs": []
    },
    {
      "cell_type": "code",
      "metadata": {
        "id": "GARqQ0T7QAWf",
        "colab_type": "code",
        "colab": {}
      },
      "source": [
        "del model\n",
        "del datagen\n"
      ],
      "execution_count": 0,
      "outputs": []
    },
    {
      "cell_type": "code",
      "metadata": {
        "id": "P-EC9grHHr0p",
        "colab_type": "code",
        "outputId": "d6395c18-0350-4f25-a964-87b73dd7e987",
        "colab": {
          "base_uri": "https://localhost:8080/",
          "height": 35
        }
      },
      "source": [
        "array0_3.shape"
      ],
      "execution_count": 0,
      "outputs": [
        {
          "output_type": "execute_result",
          "data": {
            "text/plain": [
              "(38872, 173, 173)"
            ]
          },
          "metadata": {
            "tags": []
          },
          "execution_count": 12
        }
      ]
    },
    {
      "cell_type": "code",
      "metadata": {
        "id": "vl6ruXPniVtR",
        "colab_type": "code",
        "outputId": "bcf68ff7-9b46-4da7-cfce-61ff370d35f4",
        "colab": {
          "base_uri": "https://localhost:8080/",
          "height": 901
        }
      },
      "source": [
        "import keras\n",
        "from keras.models import Sequential\n",
        "from keras.layers import Dense, Dropout, Flatten, Conv2D, MaxPool2D\n",
        "from keras.layers.normalization import BatchNormalization\n",
        "from keras.preprocessing.image import ImageDataGenerator\n",
        "from keras.callbacks import ReduceLROnPlateau\n",
        "from sklearn.model_selection import train_test_split\n",
        "\n",
        "\n",
        "array0_3 = array0_3.reshape(38872, m, m,1)\n",
        "array0_3 = array0_3/3\n",
        "batch_size = 128\n",
        "num_classes = 2\n",
        "epochs = 20\n",
        "input_shape = (m, m, 1)\n",
        "\n",
        "\n",
        "# convert class vectors to binary class matrices One Hot Encoding\n",
        "train_labels = pd.DataFrame(train_labels)\n",
        "train_labels['winner'] = train_labels['winner'].replace({0: 'winner_0', 1: 'winner_1'})\n",
        "labels = pd.get_dummies(train_labels).values\n",
        "\n",
        "\n",
        "X_train, X_val, Y_train, Y_val = train_test_split(array0_3, labels, test_size = 0.1, random_state=42)\n",
        "\n",
        "\n",
        "###################### Keras Sequential 모델 구축 ###################\n",
        "model = Sequential()\n",
        "\n",
        "model.add(Conv2D(filters=32, kernel_size=(3, 3),activation='relu' ,input_shape=input_shape))\n",
        "model.add(BatchNormalization())\n",
        "model.add(MaxPool2D(pool_size=(2, 2)))\n",
        "#model.add(Dropout(0.05))\n",
        "\n",
        "model.add(Conv2D(64, kernel_size=(3, 3),activation='relu'))\n",
        "model.add(BatchNormalization())\n",
        "model.add(MaxPool2D((2, 2)))\n",
        "#model.add(Dropout(0.05))\n",
        "\n",
        "\n",
        "model.add(Conv2D(128, (3, 3), activation='relu',padding='same'))\n",
        "model.add(BatchNormalization())\n",
        "model.add(MaxPool2D(pool_size=(2, 2)))\n",
        "#model.add(Dropout(0.1))\n",
        "\n",
        "model.add(Conv2D(256, (3, 3), activation='relu',padding='same'))\n",
        "model.add(BatchNormalization())\n",
        "model.add(MaxPool2D(pool_size=(2, 2)))\n",
        "#model.add(Dropout(0.1))\n",
        "\n",
        "model.add(Flatten())\n",
        "model.add(Dense(1020, activation='relu'))\n",
        "model.add(BatchNormalization())\n",
        "#model.add(Dropout(0.1))\n",
        "\n",
        "model.add(Dense(512, activation='relu'))\n",
        "model.add(BatchNormalization())\n",
        "#model.add(Dropout(0.1))\n",
        "\n",
        "model.add(Dense(num_classes, activation='softmax'))\n",
        "\n",
        "initial_rate = 3e-5\n",
        "from keras import optimizers\n",
        "optimizer = optimizers.Adam(\n",
        "    lr=initial_rate,\n",
        ")\n",
        "\n",
        "\n",
        "model.compile(loss='categorical_crossentropy',\n",
        "              #loss=keras.losses.categorical_crossentropy,\n",
        "              optimizer=optimizer,\n",
        "              metrics=['accuracy'])\n",
        "\n",
        "learning_rate_reduction = ReduceLROnPlateau(monitor='val_acc', \n",
        "                                            patience=3, \n",
        "                                            verbose=1, \n",
        "                                            factor=0.5, \n",
        "                                            min_lr=1e-7)\n",
        "\n",
        "model.summary()\n",
        "\n",
        "\n",
        "datagen = ImageDataGenerator(\n",
        "        featurewise_center=False,  # set input mean to 0 over the dataset\n",
        "        samplewise_center=False,  # set each sample mean to 0\n",
        "        featurewise_std_normalization=False,  # divide inputs by std of the dataset\n",
        "        samplewise_std_normalization=False,  # divide each input by its std\n",
        "        zca_whitening=False,  # apply ZCA whitening\n",
        "        rotation_range=15, # randomly rotate images in the range (degrees, 0 to 180)\n",
        "        zoom_range = 0.1, # Randomly zoom image \n",
        "        width_shift_range=0.1,  # randomly shift images horizontally (fraction of total width)\n",
        "        height_shift_range=0.1,  # randomly shift images vertically (fraction of total height)\n",
        "        horizontal_flip=False,  # randomly flip images\n",
        "        vertical_flip=False)  # randomly flip images\n"
      ],
      "execution_count": 0,
      "outputs": [
        {
          "output_type": "stream",
          "text": [
            "WARNING:tensorflow:From /usr/local/lib/python3.6/dist-packages/keras/backend/tensorflow_backend.py:2041: The name tf.nn.fused_batch_norm is deprecated. Please use tf.compat.v1.nn.fused_batch_norm instead.\n",
            "\n",
            "WARNING:tensorflow:From /usr/local/lib/python3.6/dist-packages/keras/backend/tensorflow_backend.py:4267: The name tf.nn.max_pool is deprecated. Please use tf.nn.max_pool2d instead.\n",
            "\n",
            "Model: \"sequential_3\"\n",
            "_________________________________________________________________\n",
            "Layer (type)                 Output Shape              Param #   \n",
            "=================================================================\n",
            "conv2d_1 (Conv2D)            (None, 128, 128, 32)      320       \n",
            "_________________________________________________________________\n",
            "batch_normalization_7 (Batch (None, 128, 128, 32)      128       \n",
            "_________________________________________________________________\n",
            "max_pooling2d_1 (MaxPooling2 (None, 64, 64, 32)        0         \n",
            "_________________________________________________________________\n",
            "conv2d_2 (Conv2D)            (None, 62, 62, 64)        18496     \n",
            "_________________________________________________________________\n",
            "batch_normalization_8 (Batch (None, 62, 62, 64)        256       \n",
            "_________________________________________________________________\n",
            "max_pooling2d_2 (MaxPooling2 (None, 31, 31, 64)        0         \n",
            "_________________________________________________________________\n",
            "conv2d_3 (Conv2D)            (None, 31, 31, 128)       73856     \n",
            "_________________________________________________________________\n",
            "batch_normalization_9 (Batch (None, 31, 31, 128)       512       \n",
            "_________________________________________________________________\n",
            "max_pooling2d_3 (MaxPooling2 (None, 15, 15, 128)       0         \n",
            "_________________________________________________________________\n",
            "conv2d_4 (Conv2D)            (None, 15, 15, 256)       295168    \n",
            "_________________________________________________________________\n",
            "batch_normalization_10 (Batc (None, 15, 15, 256)       1024      \n",
            "_________________________________________________________________\n",
            "max_pooling2d_4 (MaxPooling2 (None, 7, 7, 256)         0         \n",
            "_________________________________________________________________\n",
            "flatten_3 (Flatten)          (None, 12544)             0         \n",
            "_________________________________________________________________\n",
            "dense_9 (Dense)              (None, 1020)              12795900  \n",
            "_________________________________________________________________\n",
            "batch_normalization_11 (Batc (None, 1020)              4080      \n",
            "_________________________________________________________________\n",
            "dense_10 (Dense)             (None, 512)               522752    \n",
            "_________________________________________________________________\n",
            "batch_normalization_12 (Batc (None, 512)               2048      \n",
            "_________________________________________________________________\n",
            "dense_11 (Dense)             (None, 2)                 1026      \n",
            "=================================================================\n",
            "Total params: 13,715,566\n",
            "Trainable params: 13,711,542\n",
            "Non-trainable params: 4,024\n",
            "_________________________________________________________________\n"
          ],
          "name": "stdout"
        }
      ]
    },
    {
      "cell_type": "code",
      "metadata": {
        "id": "0icU0aDmiWF6",
        "colab_type": "code",
        "outputId": "dee2d9b1-77f6-48bc-aae4-cc7e5bd34657",
        "colab": {
          "base_uri": "https://localhost:8080/",
          "height": 881
        }
      },
      "source": [
        "datagen.fit(X_train)\n",
        "h = model.fit_generator(datagen.flow(X_train,Y_train, batch_size=batch_size),\n",
        "                              epochs = epochs, validation_data = (X_val, Y_val),\n",
        "                              verbose = 1, steps_per_epoch=X_train.shape[0] // batch_size\n",
        "                              , callbacks=[learning_rate_reduction])"
      ],
      "execution_count": 0,
      "outputs": [
        {
          "output_type": "stream",
          "text": [
            "Epoch 1/20\n",
            "273/273 [==============================] - 69s 252ms/step - loss: 0.8467 - acc: 0.5082 - val_loss: 1.1002 - val_acc: 0.5093\n",
            "Epoch 2/20\n",
            "273/273 [==============================] - 61s 223ms/step - loss: 0.7534 - acc: 0.5032 - val_loss: 0.8951 - val_acc: 0.5015\n",
            "Epoch 3/20\n",
            "273/273 [==============================] - 61s 223ms/step - loss: 0.7252 - acc: 0.5146 - val_loss: 0.8019 - val_acc: 0.5103\n",
            "Epoch 4/20\n",
            "273/273 [==============================] - 61s 223ms/step - loss: 0.7166 - acc: 0.5156 - val_loss: 0.8515 - val_acc: 0.5134\n",
            "Epoch 5/20\n",
            "273/273 [==============================] - 61s 223ms/step - loss: 0.7090 - acc: 0.5178 - val_loss: 0.8228 - val_acc: 0.5098\n",
            "Epoch 6/20\n",
            "273/273 [==============================] - 61s 223ms/step - loss: 0.7057 - acc: 0.5213 - val_loss: 0.7516 - val_acc: 0.5213\n",
            "Epoch 7/20\n",
            "273/273 [==============================] - 61s 223ms/step - loss: 0.7024 - acc: 0.5224 - val_loss: 0.7941 - val_acc: 0.5154\n",
            "Epoch 8/20\n",
            "273/273 [==============================] - 61s 223ms/step - loss: 0.6994 - acc: 0.5244 - val_loss: 0.7673 - val_acc: 0.5090\n",
            "Epoch 9/20\n",
            "273/273 [==============================] - 61s 223ms/step - loss: 0.6984 - acc: 0.5289 - val_loss: 0.7894 - val_acc: 0.5039\n",
            "\n",
            "Epoch 00009: ReduceLROnPlateau reducing learning rate to 1.4999999621068127e-05.\n",
            "Epoch 10/20\n",
            "273/273 [==============================] - 61s 222ms/step - loss: 0.6928 - acc: 0.5348 - val_loss: 0.7383 - val_acc: 0.5069\n",
            "Epoch 11/20\n",
            "273/273 [==============================] - 61s 222ms/step - loss: 0.6919 - acc: 0.5362 - val_loss: 0.7781 - val_acc: 0.5116\n",
            "Epoch 12/20\n",
            "273/273 [==============================] - 61s 222ms/step - loss: 0.6920 - acc: 0.5329 - val_loss: 0.7889 - val_acc: 0.5087\n",
            "\n",
            "Epoch 00012: ReduceLROnPlateau reducing learning rate to 7.499999810534064e-06.\n",
            "Epoch 13/20\n",
            "273/273 [==============================] - 61s 223ms/step - loss: 0.6890 - acc: 0.5428 - val_loss: 0.7680 - val_acc: 0.5131\n",
            "Epoch 14/20\n",
            "273/273 [==============================] - 61s 222ms/step - loss: 0.6878 - acc: 0.5447 - val_loss: 0.7510 - val_acc: 0.5064\n",
            "Epoch 15/20\n",
            "273/273 [==============================] - 61s 222ms/step - loss: 0.6877 - acc: 0.5450 - val_loss: 0.7607 - val_acc: 0.5141\n",
            "\n",
            "Epoch 00015: ReduceLROnPlateau reducing learning rate to 3.749999905267032e-06.\n",
            "Epoch 16/20\n",
            "273/273 [==============================] - 61s 223ms/step - loss: 0.6875 - acc: 0.5441 - val_loss: 0.7547 - val_acc: 0.5069\n",
            "Epoch 17/20\n",
            "273/273 [==============================] - 61s 222ms/step - loss: 0.6854 - acc: 0.5487 - val_loss: 0.7628 - val_acc: 0.5090\n",
            "Epoch 18/20\n",
            "273/273 [==============================] - 61s 223ms/step - loss: 0.6857 - acc: 0.5470 - val_loss: 0.7590 - val_acc: 0.5082\n",
            "\n",
            "Epoch 00018: ReduceLROnPlateau reducing learning rate to 1.874999952633516e-06.\n",
            "Epoch 19/20\n",
            "273/273 [==============================] - 61s 222ms/step - loss: 0.6853 - acc: 0.5453 - val_loss: 0.7535 - val_acc: 0.5108\n",
            "Epoch 20/20\n",
            "273/273 [==============================] - 61s 222ms/step - loss: 0.6854 - acc: 0.5446 - val_loss: 0.7460 - val_acc: 0.5098\n"
          ],
          "name": "stdout"
        }
      ]
    },
    {
      "cell_type": "code",
      "metadata": {
        "id": "F6ntAZez4bYk",
        "colab_type": "code",
        "colab": {}
      },
      "source": [
        "final_loss, final_acc = model.evaluate(X_val, Y_val, verbose=0)\n",
        "print(\"Final loss: {0:.6f}, final accuracy: {1:.6f}\".format(final_loss, final_acc))\n"
      ],
      "execution_count": 0,
      "outputs": []
    }
  ]
}