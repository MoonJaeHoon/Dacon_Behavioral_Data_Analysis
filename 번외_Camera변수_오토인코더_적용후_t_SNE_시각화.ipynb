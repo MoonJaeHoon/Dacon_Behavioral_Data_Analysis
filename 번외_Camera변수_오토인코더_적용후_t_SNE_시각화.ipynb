{
  "nbformat": 4,
  "nbformat_minor": 0,
  "metadata": {
    "colab": {
      "name": "번외_Camera변수_오토인코더 적용후 t-SNE 시각화.ipynb",
      "provenance": [],
      "collapsed_sections": [
        "BmEbQRbzrGeC",
        "wnVkBNJAGyln"
      ],
      "machine_shape": "hm",
      "include_colab_link": true
    },
    "kernelspec": {
      "name": "python3",
      "display_name": "Python 3"
    },
    "widgets": {
      "application/vnd.jupyter.widget-state+json": {
        "a6f24827e05c41fd9bcb5b56659babe6": {
          "model_module": "@jupyter-widgets/controls",
          "model_name": "HBoxModel",
          "state": {
            "_view_name": "HBoxView",
            "_dom_classes": [],
            "_model_name": "HBoxModel",
            "_view_module": "@jupyter-widgets/controls",
            "_model_module_version": "1.5.0",
            "_view_count": null,
            "_view_module_version": "1.5.0",
            "box_style": "",
            "layout": "IPY_MODEL_467bfaa27b2d4a83aa95cbee995bae6c",
            "_model_module": "@jupyter-widgets/controls",
            "children": [
              "IPY_MODEL_3b53b27d2c1542c0b4ef2129121342ba",
              "IPY_MODEL_2aa294e4e8334f83990f8ec4e1f271b1"
            ]
          }
        },
        "467bfaa27b2d4a83aa95cbee995bae6c": {
          "model_module": "@jupyter-widgets/base",
          "model_name": "LayoutModel",
          "state": {
            "_view_name": "LayoutView",
            "grid_template_rows": null,
            "right": null,
            "justify_content": null,
            "_view_module": "@jupyter-widgets/base",
            "overflow": null,
            "_model_module_version": "1.2.0",
            "_view_count": null,
            "flex_flow": null,
            "width": null,
            "min_width": null,
            "border": null,
            "align_items": null,
            "bottom": null,
            "_model_module": "@jupyter-widgets/base",
            "top": null,
            "grid_column": null,
            "overflow_y": null,
            "overflow_x": null,
            "grid_auto_flow": null,
            "grid_area": null,
            "grid_template_columns": null,
            "flex": null,
            "_model_name": "LayoutModel",
            "justify_items": null,
            "grid_row": null,
            "max_height": null,
            "align_content": null,
            "visibility": null,
            "align_self": null,
            "height": null,
            "min_height": null,
            "padding": null,
            "grid_auto_rows": null,
            "grid_gap": null,
            "max_width": null,
            "order": null,
            "_view_module_version": "1.2.0",
            "grid_template_areas": null,
            "object_position": null,
            "object_fit": null,
            "grid_auto_columns": null,
            "margin": null,
            "display": null,
            "left": null
          }
        },
        "3b53b27d2c1542c0b4ef2129121342ba": {
          "model_module": "@jupyter-widgets/controls",
          "model_name": "IntProgressModel",
          "state": {
            "_view_name": "ProgressView",
            "style": "IPY_MODEL_38781125b4a041c29c1ed879d343748c",
            "_dom_classes": [],
            "description": "",
            "_model_name": "IntProgressModel",
            "bar_style": "success",
            "max": 38872,
            "_view_module": "@jupyter-widgets/controls",
            "_model_module_version": "1.5.0",
            "value": 38872,
            "_view_count": null,
            "_view_module_version": "1.5.0",
            "orientation": "horizontal",
            "min": 0,
            "description_tooltip": null,
            "_model_module": "@jupyter-widgets/controls",
            "layout": "IPY_MODEL_a3e8458583a145799bfe14a847c31816"
          }
        },
        "2aa294e4e8334f83990f8ec4e1f271b1": {
          "model_module": "@jupyter-widgets/controls",
          "model_name": "HTMLModel",
          "state": {
            "_view_name": "HTMLView",
            "style": "IPY_MODEL_5a1e90910e294c8fb472c43e47629cfb",
            "_dom_classes": [],
            "description": "",
            "_model_name": "HTMLModel",
            "placeholder": "​",
            "_view_module": "@jupyter-widgets/controls",
            "_model_module_version": "1.5.0",
            "value": "100% 38872/38872 [11:58&lt;00:00, 54.11it/s]",
            "_view_count": null,
            "_view_module_version": "1.5.0",
            "description_tooltip": null,
            "_model_module": "@jupyter-widgets/controls",
            "layout": "IPY_MODEL_880586d578d04de99e2c8b774a597bea"
          }
        },
        "38781125b4a041c29c1ed879d343748c": {
          "model_module": "@jupyter-widgets/controls",
          "model_name": "ProgressStyleModel",
          "state": {
            "_view_name": "StyleView",
            "_model_name": "ProgressStyleModel",
            "description_width": "",
            "_view_module": "@jupyter-widgets/base",
            "_model_module_version": "1.5.0",
            "_view_count": null,
            "_view_module_version": "1.2.0",
            "bar_color": null,
            "_model_module": "@jupyter-widgets/controls"
          }
        },
        "a3e8458583a145799bfe14a847c31816": {
          "model_module": "@jupyter-widgets/base",
          "model_name": "LayoutModel",
          "state": {
            "_view_name": "LayoutView",
            "grid_template_rows": null,
            "right": null,
            "justify_content": null,
            "_view_module": "@jupyter-widgets/base",
            "overflow": null,
            "_model_module_version": "1.2.0",
            "_view_count": null,
            "flex_flow": null,
            "width": null,
            "min_width": null,
            "border": null,
            "align_items": null,
            "bottom": null,
            "_model_module": "@jupyter-widgets/base",
            "top": null,
            "grid_column": null,
            "overflow_y": null,
            "overflow_x": null,
            "grid_auto_flow": null,
            "grid_area": null,
            "grid_template_columns": null,
            "flex": null,
            "_model_name": "LayoutModel",
            "justify_items": null,
            "grid_row": null,
            "max_height": null,
            "align_content": null,
            "visibility": null,
            "align_self": null,
            "height": null,
            "min_height": null,
            "padding": null,
            "grid_auto_rows": null,
            "grid_gap": null,
            "max_width": null,
            "order": null,
            "_view_module_version": "1.2.0",
            "grid_template_areas": null,
            "object_position": null,
            "object_fit": null,
            "grid_auto_columns": null,
            "margin": null,
            "display": null,
            "left": null
          }
        },
        "5a1e90910e294c8fb472c43e47629cfb": {
          "model_module": "@jupyter-widgets/controls",
          "model_name": "DescriptionStyleModel",
          "state": {
            "_view_name": "StyleView",
            "_model_name": "DescriptionStyleModel",
            "description_width": "",
            "_view_module": "@jupyter-widgets/base",
            "_model_module_version": "1.5.0",
            "_view_count": null,
            "_view_module_version": "1.2.0",
            "_model_module": "@jupyter-widgets/controls"
          }
        },
        "880586d578d04de99e2c8b774a597bea": {
          "model_module": "@jupyter-widgets/base",
          "model_name": "LayoutModel",
          "state": {
            "_view_name": "LayoutView",
            "grid_template_rows": null,
            "right": null,
            "justify_content": null,
            "_view_module": "@jupyter-widgets/base",
            "overflow": null,
            "_model_module_version": "1.2.0",
            "_view_count": null,
            "flex_flow": null,
            "width": null,
            "min_width": null,
            "border": null,
            "align_items": null,
            "bottom": null,
            "_model_module": "@jupyter-widgets/base",
            "top": null,
            "grid_column": null,
            "overflow_y": null,
            "overflow_x": null,
            "grid_auto_flow": null,
            "grid_area": null,
            "grid_template_columns": null,
            "flex": null,
            "_model_name": "LayoutModel",
            "justify_items": null,
            "grid_row": null,
            "max_height": null,
            "align_content": null,
            "visibility": null,
            "align_self": null,
            "height": null,
            "min_height": null,
            "padding": null,
            "grid_auto_rows": null,
            "grid_gap": null,
            "max_width": null,
            "order": null,
            "_view_module_version": "1.2.0",
            "grid_template_areas": null,
            "object_position": null,
            "object_fit": null,
            "grid_auto_columns": null,
            "margin": null,
            "display": null,
            "left": null
          }
        },
        "eb12ed5a4b004742a4a3482fe62d8eaf": {
          "model_module": "@jupyter-widgets/controls",
          "model_name": "HBoxModel",
          "state": {
            "_view_name": "HBoxView",
            "_dom_classes": [],
            "_model_name": "HBoxModel",
            "_view_module": "@jupyter-widgets/controls",
            "_model_module_version": "1.5.0",
            "_view_count": null,
            "_view_module_version": "1.5.0",
            "box_style": "",
            "layout": "IPY_MODEL_9a93edb1ecff4d688fee731f6e718e16",
            "_model_module": "@jupyter-widgets/controls",
            "children": [
              "IPY_MODEL_091b7ebda6e4418facf01e3da6e159b5",
              "IPY_MODEL_1fb221245a464036aead0f8274e5717b"
            ]
          }
        },
        "9a93edb1ecff4d688fee731f6e718e16": {
          "model_module": "@jupyter-widgets/base",
          "model_name": "LayoutModel",
          "state": {
            "_view_name": "LayoutView",
            "grid_template_rows": null,
            "right": null,
            "justify_content": null,
            "_view_module": "@jupyter-widgets/base",
            "overflow": null,
            "_model_module_version": "1.2.0",
            "_view_count": null,
            "flex_flow": null,
            "width": null,
            "min_width": null,
            "border": null,
            "align_items": null,
            "bottom": null,
            "_model_module": "@jupyter-widgets/base",
            "top": null,
            "grid_column": null,
            "overflow_y": null,
            "overflow_x": null,
            "grid_auto_flow": null,
            "grid_area": null,
            "grid_template_columns": null,
            "flex": null,
            "_model_name": "LayoutModel",
            "justify_items": null,
            "grid_row": null,
            "max_height": null,
            "align_content": null,
            "visibility": null,
            "align_self": null,
            "height": null,
            "min_height": null,
            "padding": null,
            "grid_auto_rows": null,
            "grid_gap": null,
            "max_width": null,
            "order": null,
            "_view_module_version": "1.2.0",
            "grid_template_areas": null,
            "object_position": null,
            "object_fit": null,
            "grid_auto_columns": null,
            "margin": null,
            "display": null,
            "left": null
          }
        },
        "091b7ebda6e4418facf01e3da6e159b5": {
          "model_module": "@jupyter-widgets/controls",
          "model_name": "IntProgressModel",
          "state": {
            "_view_name": "ProgressView",
            "style": "IPY_MODEL_a90bfa3fb0c54f88b886d6674f62a946",
            "_dom_classes": [],
            "description": "",
            "_model_name": "IntProgressModel",
            "bar_style": "success",
            "max": 38872,
            "_view_module": "@jupyter-widgets/controls",
            "_model_module_version": "1.5.0",
            "value": 38872,
            "_view_count": null,
            "_view_module_version": "1.5.0",
            "orientation": "horizontal",
            "min": 0,
            "description_tooltip": null,
            "_model_module": "@jupyter-widgets/controls",
            "layout": "IPY_MODEL_996500c11ebb4cd2bb646350d4527d08"
          }
        },
        "1fb221245a464036aead0f8274e5717b": {
          "model_module": "@jupyter-widgets/controls",
          "model_name": "HTMLModel",
          "state": {
            "_view_name": "HTMLView",
            "style": "IPY_MODEL_aea0bcb5c434477dbd4cd5be29bfedef",
            "_dom_classes": [],
            "description": "",
            "_model_name": "HTMLModel",
            "placeholder": "​",
            "_view_module": "@jupyter-widgets/controls",
            "_model_module_version": "1.5.0",
            "value": "100% 38872/38872 [00:13&lt;00:00, 2842.84it/s]",
            "_view_count": null,
            "_view_module_version": "1.5.0",
            "description_tooltip": null,
            "_model_module": "@jupyter-widgets/controls",
            "layout": "IPY_MODEL_f83a2e79bc984d8ba3bf8061fdb553eb"
          }
        },
        "a90bfa3fb0c54f88b886d6674f62a946": {
          "model_module": "@jupyter-widgets/controls",
          "model_name": "ProgressStyleModel",
          "state": {
            "_view_name": "StyleView",
            "_model_name": "ProgressStyleModel",
            "description_width": "",
            "_view_module": "@jupyter-widgets/base",
            "_model_module_version": "1.5.0",
            "_view_count": null,
            "_view_module_version": "1.2.0",
            "bar_color": null,
            "_model_module": "@jupyter-widgets/controls"
          }
        },
        "996500c11ebb4cd2bb646350d4527d08": {
          "model_module": "@jupyter-widgets/base",
          "model_name": "LayoutModel",
          "state": {
            "_view_name": "LayoutView",
            "grid_template_rows": null,
            "right": null,
            "justify_content": null,
            "_view_module": "@jupyter-widgets/base",
            "overflow": null,
            "_model_module_version": "1.2.0",
            "_view_count": null,
            "flex_flow": null,
            "width": null,
            "min_width": null,
            "border": null,
            "align_items": null,
            "bottom": null,
            "_model_module": "@jupyter-widgets/base",
            "top": null,
            "grid_column": null,
            "overflow_y": null,
            "overflow_x": null,
            "grid_auto_flow": null,
            "grid_area": null,
            "grid_template_columns": null,
            "flex": null,
            "_model_name": "LayoutModel",
            "justify_items": null,
            "grid_row": null,
            "max_height": null,
            "align_content": null,
            "visibility": null,
            "align_self": null,
            "height": null,
            "min_height": null,
            "padding": null,
            "grid_auto_rows": null,
            "grid_gap": null,
            "max_width": null,
            "order": null,
            "_view_module_version": "1.2.0",
            "grid_template_areas": null,
            "object_position": null,
            "object_fit": null,
            "grid_auto_columns": null,
            "margin": null,
            "display": null,
            "left": null
          }
        },
        "aea0bcb5c434477dbd4cd5be29bfedef": {
          "model_module": "@jupyter-widgets/controls",
          "model_name": "DescriptionStyleModel",
          "state": {
            "_view_name": "StyleView",
            "_model_name": "DescriptionStyleModel",
            "description_width": "",
            "_view_module": "@jupyter-widgets/base",
            "_model_module_version": "1.5.0",
            "_view_count": null,
            "_view_module_version": "1.2.0",
            "_model_module": "@jupyter-widgets/controls"
          }
        },
        "f83a2e79bc984d8ba3bf8061fdb553eb": {
          "model_module": "@jupyter-widgets/base",
          "model_name": "LayoutModel",
          "state": {
            "_view_name": "LayoutView",
            "grid_template_rows": null,
            "right": null,
            "justify_content": null,
            "_view_module": "@jupyter-widgets/base",
            "overflow": null,
            "_model_module_version": "1.2.0",
            "_view_count": null,
            "flex_flow": null,
            "width": null,
            "min_width": null,
            "border": null,
            "align_items": null,
            "bottom": null,
            "_model_module": "@jupyter-widgets/base",
            "top": null,
            "grid_column": null,
            "overflow_y": null,
            "overflow_x": null,
            "grid_auto_flow": null,
            "grid_area": null,
            "grid_template_columns": null,
            "flex": null,
            "_model_name": "LayoutModel",
            "justify_items": null,
            "grid_row": null,
            "max_height": null,
            "align_content": null,
            "visibility": null,
            "align_self": null,
            "height": null,
            "min_height": null,
            "padding": null,
            "grid_auto_rows": null,
            "grid_gap": null,
            "max_width": null,
            "order": null,
            "_view_module_version": "1.2.0",
            "grid_template_areas": null,
            "object_position": null,
            "object_fit": null,
            "grid_auto_columns": null,
            "margin": null,
            "display": null,
            "left": null
          }
        }
      }
    },
    "accelerator": "GPU"
  },
  "cells": [
    {
      "cell_type": "markdown",
      "metadata": {
        "id": "view-in-github",
        "colab_type": "text"
      },
      "source": [
        "<a href=\"https://colab.research.google.com/github/MoonJaeHoon/Dacon_Behavioral_Data_Analysis/blob/master/%EB%B2%88%EC%99%B8_Camera%EB%B3%80%EC%88%98_%EC%98%A4%ED%86%A0%EC%9D%B8%EC%BD%94%EB%8D%94_%EC%A0%81%EC%9A%A9%ED%9B%84_t_SNE_%EC%8B%9C%EA%B0%81%ED%99%94.ipynb\" target=\"_parent\"><img src=\"https://colab.research.google.com/assets/colab-badge.svg\" alt=\"Open In Colab\"/></a>"
      ]
    },
    {
      "cell_type": "code",
      "metadata": {
        "id": "f1HUBrsTiOXw",
        "colab_type": "code",
        "outputId": "688d07d3-2ac3-4abf-fa0e-03c7bfdb6c8a",
        "colab": {
          "base_uri": "https://localhost:8080/",
          "height": 127
        }
      },
      "source": [
        "from google.colab import drive\n",
        "drive.mount('/content/drive')"
      ],
      "execution_count": 0,
      "outputs": [
        {
          "output_type": "stream",
          "text": [
            "Go to this URL in a browser: https://accounts.google.com/o/oauth2/auth?client_id=947318989803-6bn6qk8qdgf4n4g3pfee6491hc0brc4i.apps.googleusercontent.com&redirect_uri=urn%3aietf%3awg%3aoauth%3a2.0%3aoob&response_type=code&scope=email%20https%3a%2f%2fwww.googleapis.com%2fauth%2fdocs.test%20https%3a%2f%2fwww.googleapis.com%2fauth%2fdrive%20https%3a%2f%2fwww.googleapis.com%2fauth%2fdrive.photos.readonly%20https%3a%2f%2fwww.googleapis.com%2fauth%2fpeopleapi.readonly\n",
            "\n",
            "Enter your authorization code:\n",
            "··········\n",
            "Mounted at /content/drive\n"
          ],
          "name": "stdout"
        }
      ]
    },
    {
      "cell_type": "code",
      "metadata": {
        "id": "nIF5I3jmiVci",
        "colab_type": "code",
        "outputId": "45905e25-a978-462d-b261-2fd9fe45a0f3",
        "colab": {
          "base_uri": "https://localhost:8080/",
          "height": 89
        }
      },
      "source": [
        "import os\n",
        "print( '변경 전 기본 경로 :' )\n",
        "print(  os.getcwd() )\n",
        "os.chdir('./drive/My Drive/데이콘_게임데이터분석')\n",
        "print( '변경 후 파일 경로 :' )\n",
        "print(  os.getcwd()  )\n",
        "\n",
        "import numpy as np\n",
        "import pandas as pd\n",
        "\n",
        "from tqdm import tqdm_notebook              # 진행바\n",
        "from sklearn.metrics import roc_auc_score   # AUC 스코어 계산\n",
        "from sklearn.model_selection import KFold   # K-fold CV    \n",
        "#from bayes_opt import BayesianOptimization  # 베이지안 최적화 라이브러리  \n",
        "from functools import partial               # 함수 변수 고정\n",
        "import lightgbm as lgb                      # LightGBM 라이브러리\n",
        "import warnings                             \n",
        "warnings.filterwarnings(\"ignore\")           # 경고 문구 미표시\n"
      ],
      "execution_count": 0,
      "outputs": [
        {
          "output_type": "stream",
          "text": [
            "변경 전 기본 경로 :\n",
            "/content\n",
            "변경 후 파일 경로 :\n",
            "/content/drive/My Drive/데이콘_게임데이터분석\n"
          ],
          "name": "stdout"
        }
      ]
    },
    {
      "cell_type": "code",
      "metadata": {
        "id": "XXbP_J5tssf0",
        "colab_type": "code",
        "outputId": "79099a44-3445-4cf1-aa02-44cbb5a84656",
        "colab": {
          "base_uri": "https://localhost:8080/",
          "height": 53
        }
      },
      "source": [
        "%time\n",
        "x_train = pd.read_pickle('x_train.pkl')\n",
        "camera_list = x_train.camera_list"
      ],
      "execution_count": 0,
      "outputs": [
        {
          "output_type": "stream",
          "text": [
            "CPU times: user 3 µs, sys: 0 ns, total: 3 µs\n",
            "Wall time: 5.01 µs\n"
          ],
          "name": "stdout"
        }
      ]
    },
    {
      "cell_type": "markdown",
      "metadata": {
        "id": "BmEbQRbzrGeC",
        "colab_type": "text"
      },
      "source": [
        "## player0 와 player1 좌표의 최댓값을 구하기"
      ]
    },
    {
      "cell_type": "code",
      "metadata": {
        "id": "35QvkQoyzmgN",
        "colab_type": "code",
        "colab": {}
      },
      "source": [
        "def get_min_max(camera_list = camera_list):\n",
        "  max_p0 = 10\n",
        "  max_p1 = 10\n",
        "  min_p0 = 10\n",
        "  min_p1 = 10\n",
        "  from tqdm import tqdm_notebook\n",
        "  for i in tqdm_notebook(range( len(camera_list) )):  #\n",
        "    if str(camera_list[i]['player0']) != 'nan':\n",
        "      max_p0_i = camera_list[i]['player0'][:,0].max()\n",
        "      min_p0_i = camera_list[i]['player0'][:,0].min()\n",
        "    else:\n",
        "      print(f'{i}번째 게임에서 플레이어0의 좌표가 없음')\n",
        "      max_p0_i = 10\n",
        "      min_p0_i = 10\n",
        "    if str(camera_list[i]['player1']) != 'nan':\n",
        "      max_p1_i = camera_list[i]['player1'][:,0].max()\n",
        "      min_p1_i = camera_list[i]['player1'][:,0].min()\n",
        "    else:\n",
        "      print(f'{i}번째 게임에서 플레이어1의 좌표가 없음')\n",
        "      max_p1_i=10\n",
        "      min_p1_i=10\n",
        "\n",
        "    max_p0 = max(max_p0 , max_p0_i)\n",
        "    max_p1 = max(max_p1 , max_p1_i)\n",
        "    min_p0 = min(min_p0 , min_p0_i)\n",
        "    min_p1 = min(min_p1 , min_p1_i)\n",
        "  return max_p0, max_p1, min_p0, min_p1\n",
        "\n",
        "max_p0, max_p1, min_p0, min_p1 = get_min_max(camera_list = camera_list)\n"
      ],
      "execution_count": 0,
      "outputs": []
    },
    {
      "cell_type": "code",
      "metadata": {
        "id": "7fiSxkab2xWF",
        "colab_type": "code",
        "outputId": "ddf92f50-6cef-42f1-ac54-f1a6c7af6142",
        "colab": {
          "base_uri": "https://localhost:8080/",
          "height": 89
        }
      },
      "source": [
        "print(max_p0)\n",
        "print(max_p1)\n",
        "print(min_p0)\n",
        "print(min_p1)\n"
      ],
      "execution_count": 0,
      "outputs": [
        {
          "output_type": "stream",
          "text": [
            "169.0\n",
            "169.0\n",
            "0.0\n",
            "0.0\n"
          ],
          "name": "stdout"
        }
      ]
    },
    {
      "cell_type": "markdown",
      "metadata": {
        "colab_type": "text",
        "id": "wnVkBNJAGyln"
      },
      "source": [
        "## player0 와 player1 따로 좌표 차지하는 곳 0 1로 찍기 (MNIST 데이터처럼)"
      ]
    },
    {
      "cell_type": "code",
      "metadata": {
        "id": "ZaE-OWT1rQmu",
        "colab_type": "code",
        "colab": {}
      },
      "source": [
        "############### 모든 게임 전체를 저장할 비어있는 어레이\n",
        "total_array = np.zeros( 38872*(175+175)*175  )\n",
        "total_array = total_array.reshape(  38872,(175+175),175 )\n",
        "\n",
        "################ player0과1에 대한 코드 #################\n",
        "## 한 게임당 player0과 1모두를 저장할 어레이 1~175 : 플레이어0, 171~340 : 플레이어1\n",
        "arr_i_p = np.zeros((175+175)*175).reshape((175+175),175)\n",
        "\n",
        "############ i에 대한 for문 시작\n",
        "## i번째 게임에서 player의 좌표들\n",
        "i = 0\n",
        "player = 'player0'\n",
        "camera_p0_i = camera_list[i]['player0'].astype(int)\n",
        "player = 'player1'\n",
        "camera_p1_i = camera_list[i]['player0'].astype(int)\n",
        "\n",
        "\n",
        "#################### j에 대한 for문 시작\n",
        "## i번째 게임에서 player의 좌표들 중 j번째 좌표\n",
        "j = 15\n",
        "indexing_p0_ij = camera_p0_i[j].tolist()\n",
        "indexing_p1_ij = camera_p1_i[j].tolist()\n",
        "\n",
        "arr_i_p[indexing_p0_ij[0],indexing_p0_ij[1]] = 1\n",
        "arr_i_p[indexing_p1_ij[0]+170,indexing_p1_ij[1]] = 1\n",
        "\n",
        "total_array[i,:,:] = arr_i_p"
      ],
      "execution_count": 0,
      "outputs": []
    },
    {
      "cell_type": "code",
      "metadata": {
        "id": "_U_4qGoxBQjR",
        "colab_type": "code",
        "colab": {}
      },
      "source": [
        "\n",
        "def array_0and1(camera_list = camera_list):\n",
        "  m = 180\n",
        "  ############### 모든 게임 전체를 저장할 비어있는 어레이\n",
        "  total_array = np.zeros( len(camera_list)*(m+m)*m  )\n",
        "  total_array = total_array.reshape(  len(camera_list),(m+m),m )\n",
        "\n",
        "  ############ i에 대한 for문 시작\n",
        "  from tqdm import tqdm_notebook\n",
        "  for i in tqdm_notebook( range( len(camera_list) ) ):\n",
        "    ################ i번째 게임에서 player0과1 모두에 대한 코드 #################\n",
        "    ## 한 게임당 player0과 1모두를 저장할 어레이 1~170 : 플레이어0, 171~340 : 플레이어1\n",
        "    arr_i_p = np.zeros((m+m)*m)\n",
        "    arr_i_p = arr_i_p.reshape((m+m),m)\n",
        "\n",
        "    ## player0의 좌표들 1로 채워넣는 코드##\n",
        "    if str(camera_list[i]['player0']) != 'nan':\n",
        "      for j in range(len(camera_list[i]['player0'])):\n",
        "        ## i번째 게임에서 player0의 좌표들 중 j번째 좌표\n",
        "        indexing_p0_ij = camera_list[i]['player0'].astype(int)[j].tolist()\n",
        "\n",
        "        ################ player0에 대한 좌표들을 모두 1로 채워넣기 ################\n",
        "        arr_i_p[indexing_p0_ij[0],indexing_p0_ij[1]] = 1\n",
        "    else:\n",
        "      print(f'{i}번째 게임에서 플레이어0의 좌표가 없음')\n",
        "    ## player1의 좌표들 1로 채워넣는 코드 ##\n",
        "    if str(camera_list[i]['player1']) != 'nan':\n",
        "      for j in range(len(camera_list[i]['player1'])):\n",
        "        ## i번째 게임에서 player1의 좌표들 중 j번째 좌표\n",
        "        indexing_p1_ij = camera_list[i]['player1'].astype(int)[j].tolist()\n",
        "\n",
        "        ################ player1에 대한 좌표들을 모두 1로 채워넣기 ################\n",
        "        arr_i_p[indexing_p1_ij[0]+170,indexing_p1_ij[1]] = 1\n",
        "    else:\n",
        "      print(f'{i}번째 게임에서 플레이어1의 좌표가 없음')\n",
        "\n",
        "    total_array[i,:,:] = arr_i_p\n",
        "\n",
        "  return total_array"
      ],
      "execution_count": 0,
      "outputs": []
    },
    {
      "cell_type": "code",
      "metadata": {
        "id": "GeD7ANGDL1hX",
        "colab_type": "code",
        "outputId": "9f89e6ef-df93-40b4-a22b-13fa017833f6",
        "colab": {
          "base_uri": "https://localhost:8080/",
          "height": 481,
          "referenced_widgets": [
            "a6f24827e05c41fd9bcb5b56659babe6",
            "467bfaa27b2d4a83aa95cbee995bae6c",
            "3b53b27d2c1542c0b4ef2129121342ba",
            "2aa294e4e8334f83990f8ec4e1f271b1",
            "38781125b4a041c29c1ed879d343748c",
            "a3e8458583a145799bfe14a847c31816",
            "5a1e90910e294c8fb472c43e47629cfb",
            "880586d578d04de99e2c8b774a597bea"
          ]
        }
      },
      "source": [
        "array0and1 = array_0and1(camera_list = camera_list)\n",
        "array0and1.shape\n",
        "#np.save('array0and1', array0and1)"
      ],
      "execution_count": 0,
      "outputs": [
        {
          "output_type": "display_data",
          "data": {
            "application/vnd.jupyter.widget-view+json": {
              "model_id": "a6f24827e05c41fd9bcb5b56659babe6",
              "version_minor": 0,
              "version_major": 2
            },
            "text/plain": [
              "HBox(children=(IntProgress(value=0, max=38872), HTML(value='')))"
            ]
          },
          "metadata": {
            "tags": []
          }
        },
        {
          "output_type": "stream",
          "text": [
            "187번째 게임에서 플레이어1의 좌표가 없음\n",
            "10246번째 게임에서 플레이어0의 좌표가 없음\n",
            "12105번째 게임에서 플레이어1의 좌표가 없음\n",
            "13292번째 게임에서 플레이어1의 좌표가 없음\n",
            "14675번째 게임에서 플레이어1의 좌표가 없음\n",
            "17294번째 게임에서 플레이어1의 좌표가 없음\n",
            "21149번째 게임에서 플레이어0의 좌표가 없음\n",
            "23337번째 게임에서 플레이어0의 좌표가 없음\n",
            "24423번째 게임에서 플레이어1의 좌표가 없음\n",
            "24855번째 게임에서 플레이어1의 좌표가 없음\n",
            "24858번째 게임에서 플레이어1의 좌표가 없음\n",
            "25891번째 게임에서 플레이어0의 좌표가 없음\n",
            "26243번째 게임에서 플레이어1의 좌표가 없음\n",
            "26339번째 게임에서 플레이어1의 좌표가 없음\n",
            "27249번째 게임에서 플레이어1의 좌표가 없음\n",
            "27818번째 게임에서 플레이어0의 좌표가 없음\n",
            "32254번째 게임에서 플레이어1의 좌표가 없음\n",
            "33101번째 게임에서 플레이어1의 좌표가 없음\n",
            "34423번째 게임에서 플레이어1의 좌표가 없음\n",
            "34843번째 게임에서 플레이어1의 좌표가 없음\n",
            "35288번째 게임에서 플레이어0의 좌표가 없음\n",
            "37967번째 게임에서 플레이어1의 좌표가 없음\n",
            "\n"
          ],
          "name": "stdout"
        },
        {
          "output_type": "execute_result",
          "data": {
            "text/plain": [
              "(38872, 360, 180)"
            ]
          },
          "metadata": {
            "tags": []
          },
          "execution_count": 3
        }
      ]
    },
    {
      "cell_type": "markdown",
      "metadata": {
        "id": "HYqrzsenqplD",
        "colab_type": "text"
      },
      "source": [
        "## t-SNE 적용 (너무 오래걸려서 실패)"
      ]
    },
    {
      "cell_type": "code",
      "metadata": {
        "id": "uEWjWVOiiVjL",
        "colab_type": "code",
        "outputId": "a47d1577-70b1-4029-8e8e-ba821fc6cb11",
        "colab": {
          "base_uri": "https://localhost:8080/",
          "height": 143
        }
      },
      "source": [
        "camera_df = pd.read_pickle('camera_array.pkl')\n",
        "camera_df.head()\n",
        "print(camera_df.shape)\n",
        "print(camera_df.info())\n",
        "camera_array = np.array(camera_df)\n",
        "camera_array.shape\n",
        "del camera_df"
      ],
      "execution_count": 0,
      "outputs": [
        {
          "output_type": "stream",
          "text": [
            "(38872, 7884)\n",
            "<class 'pandas.core.frame.DataFrame'>\n",
            "RangeIndex: 38872 entries, 0 to 38871\n",
            "Columns: 7884 entries, 0 to 7883\n",
            "dtypes: float64(7884)\n",
            "memory usage: 2.3 GB\n",
            "None\n"
          ],
          "name": "stdout"
        }
      ]
    },
    {
      "cell_type": "code",
      "metadata": {
        "id": "vl6ruXPniVtR",
        "colab_type": "code",
        "outputId": "3ba878c6-f61b-4abf-dd50-da57f804bfc7",
        "colab": {
          "base_uri": "https://localhost:8080/",
          "height": 71
        }
      },
      "source": [
        "max_0 = 3664    # player0 은 0부터    3664 열 까지\n",
        "max_1 = 4220    # player1 은 3665부터 7884까지\n",
        "\n",
        "from sklearn.manifold import TSNE\n",
        "import matplotlib.pyplot as plt\n",
        "\n",
        "print(camera_array.shape)\n",
        "\n",
        "tsne = TSNE(n_components=2,random_state=0, verbose=1)\n",
        "camera_array_tsne = tsne.fit_transform(camera_array)\n",
        "\n",
        "print(camera_array_tsne.shape)\n"
      ],
      "execution_count": 0,
      "outputs": [
        {
          "output_type": "stream",
          "text": [
            "(38872, 7884)\n",
            "[t-SNE] Computing 91 nearest neighbors...\n",
            "[t-SNE] Indexed 38872 samples in 57.482s...\n"
          ],
          "name": "stdout"
        }
      ]
    },
    {
      "cell_type": "code",
      "metadata": {
        "id": "Dv9wMcg5iV3B",
        "colab_type": "code",
        "colab": {}
      },
      "source": [
        "matplotlib.rc('font', family='AppleGothic') # 한글 출력\n",
        "\n",
        "colors = ['#476A2A', '#7851B8']\n",
        "\n",
        "# 시각화\n",
        "for i in range(len(winner)): # 0부터  digits.data까지 정수\n",
        "    plt.text(camera_array_tsne[i, 0], camera_array_tsne[i, 1], str(winner[i]), # x, y , 그룹\n",
        "             color=colors[winner[i]], # 색상\n",
        "             fontdict={'weight': 'bold', 'size':9}) # font\n",
        "\n",
        "plt.xlim(camera_array_tsne[:, 0].min(), camera_array_tsne[:, 0].max()) # 최소, 최대\n",
        "plt.ylim(camera_array_tsne[:, 1].min(), camera_array_tsne[:, 1].max()) # 최소, 최대\n",
        "plt.xlabel('t-SNE 특성0') # x축 이름\n",
        "plt.ylabel('t-SNE 특성1') # y축 이름\n",
        "plt.show() # 그래프 출력"
      ],
      "execution_count": 0,
      "outputs": []
    },
    {
      "cell_type": "markdown",
      "metadata": {
        "id": "w5BZW8lImSf-",
        "colab_type": "text"
      },
      "source": [
        "## 오토인코더로 차원축소"
      ]
    },
    {
      "cell_type": "code",
      "metadata": {
        "id": "R2MYmk2WuOaA",
        "colab_type": "code",
        "outputId": "5fdb65b9-80cb-4751-83b0-8092cb185a2b",
        "colab": {
          "base_uri": "https://localhost:8080/",
          "height": 161
        }
      },
      "source": [
        "camera_df = pd.read_pickle('camera_array.pkl')\n",
        "camera_df.head()\n",
        "print(camera_df.shape)\n",
        "print(camera_df.info())\n",
        "camera_array = np.array(camera_df)\n",
        "print(camera_array.shape)\n",
        "del camera_df\n",
        "\n",
        "from sklearn.preprocessing import minmax_scale\n",
        "\n",
        "train_scaled = minmax_scale(camera_array, feature_range=(0, 1),axis = 0)\n",
        "#test_scaled = minmax_scale(test_x, feature_range=(0, 1),axis = 0)\n",
        "\n",
        "from sklearn.model_selection import train_test_split\n",
        "from numpy.random import seed\n",
        "\n",
        "X_train, X_test = train_test_split(train_scaled,  train_size = 0.9, random_state = seed(2020))\n"
      ],
      "execution_count": 0,
      "outputs": [
        {
          "output_type": "stream",
          "text": [
            "(38872, 7884)\n",
            "<class 'pandas.core.frame.DataFrame'>\n",
            "RangeIndex: 38872 entries, 0 to 38871\n",
            "Columns: 7884 entries, 0 to 7883\n",
            "dtypes: float64(7884)\n",
            "memory usage: 2.3 GB\n",
            "None\n",
            "(38872, 7884)\n"
          ],
          "name": "stdout"
        }
      ]
    },
    {
      "cell_type": "code",
      "metadata": {
        "id": "0icU0aDmiWF6",
        "colab_type": "code",
        "outputId": "1e18fd54-d4f9-4896-b62a-a4a258bed79e",
        "colab": {
          "base_uri": "https://localhost:8080/",
          "height": 91
        }
      },
      "source": [
        "import keras\n",
        "from tensorflow.keras.models import Sequential, Model, load_model\n",
        "from tensorflow.keras.layers import Input, Dense, Activation, Dropout , Lambda, Flatten, LeakyReLU, ELU\n",
        "from keras.layers import Concatenate, Reshape, BatchNormalization\n",
        "from tensorflow.keras.optimizers import Adam, SGD,RMSprop\n",
        "from tensorflow.keras import  backend as K\n",
        "from tensorflow.keras import metrics\n",
        "from tensorflow.keras.layers import BatchNormalization # 배치정규화\n",
        "from tensorflow.keras.callbacks import EarlyStopping, ModelCheckpoint\n",
        "from keras import regularizers\n",
        "from tensorflow.keras.models import Model\n",
        "from keras.utils.generic_utils import get_custom_objects\n",
        "from keras.callbacks import EarlyStopping, ModelCheckpoint, ReduceLROnPlateau\n",
        "def gelu(x):\n",
        "    return 0.5 * x * (1 + tf.tanh(tf.sqrt(2 / np.pi) * (x + 0.044715 * tf.pow(x, 3))))\n",
        "\n",
        "get_custom_objects().update({'gelu': Activation(gelu)})\n",
        "\n",
        "encoding_dim = 100\n",
        "ncol = camera_array.shape[1]\n",
        "input_dim = Input(shape = (ncol, ))\n",
        "\n",
        "# Encoder Layers\n",
        "encoded1 = Dense(7328, activation = 'elu')(input_dim)\n",
        "encoded2 = Dense(6772, activation = 'elu')(encoded1)\n",
        "encoded3 = Dense(6216, activation = 'elu')(encoded2)\n",
        "encoded4 = Dense(5660, activation = 'elu')(encoded3)\n",
        "encoded5 = Dense(5104, activation = 'elu')(encoded4)\n",
        "encoded6 = Dense(4548, activation = 'elu')(encoded5)\n",
        "encoded7 = Dense(3992, activation = 'elu')(encoded6)\n",
        "encoded8 = Dense(3436, activation = 'elu')(encoded7)\n",
        "encoded9 = Dense(2880, activation = 'elu')(encoded8)\n",
        "encoded10 = Dense(2324, activation = 'elu')(encoded9)\n",
        "encoded11 = Dense(1768, activation = 'elu')(encoded10)\n",
        "encoded12 = Dense(1212, activation = 'elu')(encoded11)\n",
        "encoded13 = Dense(656, activation = 'elu')(encoded12)\n",
        "encoded14 = Dense(encoding_dim, activation = 'elu')(encoded13)\n",
        "\n",
        "# Decoder Layers\n",
        "decoded1 = Dense(656, activation = 'elu')(encoded14)\n",
        "decoded2 = Dense(1212, activation = 'elu')(decoded1)\n",
        "decoded3 = Dense(1768, activation = 'elu')(decoded2)\n",
        "decoded4 = Dense(2324, activation = 'elu')(decoded3)\n",
        "decoded5 = Dense(2880, activation = 'elu')(decoded4)\n",
        "decoded6 = Dense(3436, activation = 'elu')(decoded5)\n",
        "decoded7 = Dense(3992, activation = 'elu')(decoded6)\n",
        "decoded8 = Dense(4548, activation = 'elu')(decoded7)\n",
        "decoded9 = Dense(5104, activation = 'elu')(decoded8)\n",
        "decoded10 = Dense(5660, activation = 'elu')(decoded9)\n",
        "decoded11 = Dense(6216, activation = 'elu')(decoded10)\n",
        "decoded12 = Dense(6772, activation = 'elu')(decoded11)\n",
        "decoded13 = Dense(7328, activation = 'elu')(decoded12)\n",
        "decoded14 = Dense(ncol, activation = 'linear')(decoded13)\n",
        "\n",
        "# Combine Encoder and Deocder layers\n",
        "autoencoder = Model(inputs = input_dim, outputs = decoded14)\n",
        "\n",
        "# Compile the Model\n",
        "autoencoder.compile(optimizer = Adam(lr=1e-5), loss = 'mae', metrics=['mse'])\n",
        "#autoencoder.summary()\n",
        "early_stop = EarlyStopping(monitor= 'val_loss', patience = 20, verbose = 1)\n"
      ],
      "execution_count": 0,
      "outputs": [
        {
          "output_type": "stream",
          "text": [
            "WARNING:tensorflow:From /usr/local/lib/python3.6/dist-packages/tensorflow_core/python/ops/resource_variable_ops.py:1630: calling BaseResourceVariable.__init__ (from tensorflow.python.ops.resource_variable_ops) with constraint is deprecated and will be removed in a future version.\n",
            "Instructions for updating:\n",
            "If using Keras pass *_constraint arguments to layers.\n"
          ],
          "name": "stdout"
        }
      ]
    },
    {
      "cell_type": "markdown",
      "metadata": {
        "id": "C43LDsjwK47t",
        "colab_type": "text"
      },
      "source": [
        "## AE의 MSE가 0.01보다도 작음 (RMSE가 0.1보다도 작음) => 너무 잘 되는듯? 좋음\n",
        "## + 혹시 train_y에 바로 0,1을 예측하는건 효과가 어떨까??"
      ]
    },
    {
      "cell_type": "code",
      "metadata": {
        "id": "oxkHNoXFiWLG",
        "colab_type": "code",
        "outputId": "9e48bd62-4d9d-4d0f-a4af-d2455efe3107",
        "colab": {
          "base_uri": "https://localhost:8080/",
          "height": 395
        }
      },
      "source": [
        "hist = autoencoder.fit(X_train, X_train, epochs = 10, batch_size = 16, shuffle = False, validation_data = (X_test, X_test)  #,callbacks=[early_stop]\n",
        "                       )"
      ],
      "execution_count": 0,
      "outputs": [
        {
          "output_type": "stream",
          "text": [
            "Train on 34984 samples, validate on 3888 samples\n",
            "Epoch 1/10\n",
            "34984/34984 [==============================] - 159s 5ms/sample - loss: 0.0529 - mean_squared_error: 0.0191 - val_loss: 0.0429 - val_mean_squared_error: 0.0133\n",
            "Epoch 2/10\n",
            "34984/34984 [==============================] - 157s 4ms/sample - loss: 0.0401 - mean_squared_error: 0.0122 - val_loss: 0.0394 - val_mean_squared_error: 0.0115\n",
            "Epoch 3/10\n",
            "34984/34984 [==============================] - 156s 4ms/sample - loss: 0.0373 - mean_squared_error: 0.0109 - val_loss: 0.0371 - val_mean_squared_error: 0.0109\n",
            "Epoch 4/10\n",
            "34984/34984 [==============================] - 156s 4ms/sample - loss: 0.0357 - mean_squared_error: 0.0103 - val_loss: 0.0370 - val_mean_squared_error: 0.0105\n",
            "Epoch 5/10\n",
            "34984/34984 [==============================] - 158s 5ms/sample - loss: 0.0347 - mean_squared_error: 0.0098 - val_loss: 0.0352 - val_mean_squared_error: 0.0100\n",
            "Epoch 6/10\n",
            "34984/34984 [==============================] - 158s 5ms/sample - loss: 0.0338 - mean_squared_error: 0.0095 - val_loss: 0.0344 - val_mean_squared_error: 0.0096\n",
            "Epoch 7/10\n",
            "34984/34984 [==============================] - 158s 5ms/sample - loss: 0.0332 - mean_squared_error: 0.0092 - val_loss: 0.0343 - val_mean_squared_error: 0.0094\n",
            "Epoch 8/10\n",
            "34984/34984 [==============================] - 158s 5ms/sample - loss: 0.0326 - mean_squared_error: 0.0090 - val_loss: 0.0337 - val_mean_squared_error: 0.0092\n",
            "Epoch 9/10\n",
            "34984/34984 [==============================] - 156s 4ms/sample - loss: 0.0321 - mean_squared_error: 0.0088 - val_loss: 0.0331 - val_mean_squared_error: 0.0090\n",
            "Epoch 10/10\n",
            "34984/34984 [==============================] - 157s 4ms/sample - loss: 0.0317 - mean_squared_error: 0.0086 - val_loss: 0.0330 - val_mean_squared_error: 0.0088\n"
          ],
          "name": "stdout"
        }
      ]
    },
    {
      "cell_type": "code",
      "metadata": {
        "id": "6SiX5SI3iWQk",
        "colab_type": "code",
        "outputId": "4ef30588-062b-4479-d10e-cfb3c510aa38",
        "colab": {
          "base_uri": "https://localhost:8080/",
          "height": 215
        }
      },
      "source": [
        "encoder = Model(inputs = input_dim, outputs = encoded14)\n",
        "encoded_input = Input(shape = (encoding_dim, ))\n",
        "\n",
        "encoded_train = pd.DataFrame(encoder.predict(train_scaled))\n",
        "encoded_train = encoded_train.add_prefix('auto_feature_')\n",
        "\n",
        "#encoded_test = pd.DataFrame(encoder.predict(test_scaled))\n",
        "#encoded_test = encoded_test.add_prefix('auto_feature_')\n",
        "\n",
        "encoded_train.to_pickle('camera_auto_encoded.pkl')\n",
        "print(encoded_train.describe())"
      ],
      "execution_count": 0,
      "outputs": [
        {
          "output_type": "stream",
          "text": [
            "       auto_feature_0  auto_feature_1  ...  auto_feature_98  auto_feature_99\n",
            "count    38872.000000    38872.000000  ...     38872.000000     38872.000000\n",
            "mean         0.728568       -0.539706  ...        -0.821923         0.337681\n",
            "std          0.404640        0.706691  ...         0.102313         1.025653\n",
            "min         -0.688659       -0.968208  ...        -0.978189        -0.960626\n",
            "25%          0.472747       -0.933194  ...        -0.887633        -0.726421\n",
            "50%          0.718760       -0.897078  ...        -0.848816         0.319790\n",
            "75%          1.000459       -0.550777  ...        -0.788979         1.338249\n",
            "max          2.159030        2.462336  ...         0.023770         2.342477\n",
            "\n",
            "[8 rows x 100 columns]\n"
          ],
          "name": "stdout"
        }
      ]
    },
    {
      "cell_type": "code",
      "metadata": {
        "id": "5RykzA2viWU4",
        "colab_type": "code",
        "outputId": "2dfce54a-396d-4a2d-f93f-fd8e5c145acd",
        "colab": {
          "base_uri": "https://localhost:8080/",
          "height": 35
        }
      },
      "source": [
        "loss_and_metric = autoencoder.evaluate(train_scaled, train_scaled, batch_size=16, verbose=0)\n",
        "print(\"train, loss and metric: {}\".format(loss_and_metric))"
      ],
      "execution_count": 0,
      "outputs": [
        {
          "output_type": "stream",
          "text": [
            "train, loss and metric: [0.03230094443604175, 0.008581218]\n"
          ],
          "name": "stdout"
        }
      ]
    },
    {
      "cell_type": "markdown",
      "metadata": {
        "id": "vcQhkVqdNQih",
        "colab_type": "text"
      },
      "source": [
        "### 오토인코더 결과 t-SNE로 확인해보기"
      ]
    },
    {
      "cell_type": "code",
      "metadata": {
        "id": "bBLu0GnyNP0k",
        "colab_type": "code",
        "outputId": "8fe2da8e-bcfe-4b44-dd34-879ca8dcb02a",
        "colab": {
          "base_uri": "https://localhost:8080/",
          "height": 863
        }
      },
      "source": [
        "max_0 = 3664    # player0 은 0부터    3664 열 까지\n",
        "max_1 = 4220    # player1 은 3665부터 7884까지\n",
        "\n",
        "from sklearn.manifold import TSNE\n",
        "import matplotlib.pyplot as plt\n",
        "import matplotlib\n",
        "\n",
        "print(encoded_train.shape)\n",
        "\n",
        "tsne = TSNE(n_components=2,random_state=0, verbose=1)\n",
        "encoded_train_tsne = tsne.fit_transform(encoded_train)\n",
        "\n",
        "print(encoded_train_tsne.shape)\n"
      ],
      "execution_count": 0,
      "outputs": [
        {
          "output_type": "stream",
          "text": [
            "(38872, 100)\n",
            "[t-SNE] Computing 91 nearest neighbors...\n",
            "[t-SNE] Indexed 38872 samples in 0.620s...\n",
            "[t-SNE] Computed neighbors for 38872 samples in 124.973s...\n",
            "[t-SNE] Computed conditional probabilities for sample 1000 / 38872\n",
            "[t-SNE] Computed conditional probabilities for sample 2000 / 38872\n",
            "[t-SNE] Computed conditional probabilities for sample 3000 / 38872\n",
            "[t-SNE] Computed conditional probabilities for sample 4000 / 38872\n",
            "[t-SNE] Computed conditional probabilities for sample 5000 / 38872\n",
            "[t-SNE] Computed conditional probabilities for sample 6000 / 38872\n",
            "[t-SNE] Computed conditional probabilities for sample 7000 / 38872\n",
            "[t-SNE] Computed conditional probabilities for sample 8000 / 38872\n",
            "[t-SNE] Computed conditional probabilities for sample 9000 / 38872\n",
            "[t-SNE] Computed conditional probabilities for sample 10000 / 38872\n",
            "[t-SNE] Computed conditional probabilities for sample 11000 / 38872\n",
            "[t-SNE] Computed conditional probabilities for sample 12000 / 38872\n",
            "[t-SNE] Computed conditional probabilities for sample 13000 / 38872\n",
            "[t-SNE] Computed conditional probabilities for sample 14000 / 38872\n",
            "[t-SNE] Computed conditional probabilities for sample 15000 / 38872\n",
            "[t-SNE] Computed conditional probabilities for sample 16000 / 38872\n",
            "[t-SNE] Computed conditional probabilities for sample 17000 / 38872\n",
            "[t-SNE] Computed conditional probabilities for sample 18000 / 38872\n",
            "[t-SNE] Computed conditional probabilities for sample 19000 / 38872\n",
            "[t-SNE] Computed conditional probabilities for sample 20000 / 38872\n",
            "[t-SNE] Computed conditional probabilities for sample 21000 / 38872\n",
            "[t-SNE] Computed conditional probabilities for sample 22000 / 38872\n",
            "[t-SNE] Computed conditional probabilities for sample 23000 / 38872\n",
            "[t-SNE] Computed conditional probabilities for sample 24000 / 38872\n",
            "[t-SNE] Computed conditional probabilities for sample 25000 / 38872\n",
            "[t-SNE] Computed conditional probabilities for sample 26000 / 38872\n",
            "[t-SNE] Computed conditional probabilities for sample 27000 / 38872\n",
            "[t-SNE] Computed conditional probabilities for sample 28000 / 38872\n",
            "[t-SNE] Computed conditional probabilities for sample 29000 / 38872\n",
            "[t-SNE] Computed conditional probabilities for sample 30000 / 38872\n",
            "[t-SNE] Computed conditional probabilities for sample 31000 / 38872\n",
            "[t-SNE] Computed conditional probabilities for sample 32000 / 38872\n",
            "[t-SNE] Computed conditional probabilities for sample 33000 / 38872\n",
            "[t-SNE] Computed conditional probabilities for sample 34000 / 38872\n",
            "[t-SNE] Computed conditional probabilities for sample 35000 / 38872\n",
            "[t-SNE] Computed conditional probabilities for sample 36000 / 38872\n",
            "[t-SNE] Computed conditional probabilities for sample 37000 / 38872\n",
            "[t-SNE] Computed conditional probabilities for sample 38000 / 38872\n",
            "[t-SNE] Computed conditional probabilities for sample 38872 / 38872\n",
            "[t-SNE] Mean sigma: 0.464424\n",
            "[t-SNE] KL divergence after 250 iterations with early exaggeration: 86.180016\n",
            "[t-SNE] KL divergence after 1000 iterations: 2.053989\n",
            "(38872, 2)\n"
          ],
          "name": "stdout"
        }
      ]
    },
    {
      "cell_type": "code",
      "metadata": {
        "id": "k9SjU-xyP5YT",
        "colab_type": "code",
        "outputId": "a18bb620-08c9-4418-80fe-8c724489a936",
        "colab": {
          "base_uri": "https://localhost:8080/",
          "height": 71
        }
      },
      "source": [
        "#pd.DataFrame(encoded_train_tsne).to_pickle('encoded_train_tsne.pkl')\n",
        "encoded_train_tsne = pd.read_pickle('encoded_train_tsne.pkl')\n",
        "encoded_train_tsne = np.array(encoded_train_tsne)\n",
        "%time\n",
        "newtrain = pd.read_pickle('newtrain.pkl')\n",
        "print(newtrain.shape)\n",
        "winner = newtrain['winner']"
      ],
      "execution_count": 0,
      "outputs": [
        {
          "output_type": "stream",
          "text": [
            "CPU times: user 2 µs, sys: 0 ns, total: 2 µs\n",
            "Wall time: 4.53 µs\n",
            "(38872, 47)\n"
          ],
          "name": "stdout"
        }
      ]
    },
    {
      "cell_type": "code",
      "metadata": {
        "id": "5mWe21NVNVDy",
        "colab_type": "code",
        "outputId": "c09036ab-a8ac-49bc-8457-02e9c4189f31",
        "colab": {
          "base_uri": "https://localhost:8080/",
          "height": 336,
          "referenced_widgets": [
            "eb12ed5a4b004742a4a3482fe62d8eaf",
            "9a93edb1ecff4d688fee731f6e718e16",
            "091b7ebda6e4418facf01e3da6e159b5",
            "1fb221245a464036aead0f8274e5717b",
            "a90bfa3fb0c54f88b886d6674f62a946",
            "996500c11ebb4cd2bb646350d4527d08",
            "aea0bcb5c434477dbd4cd5be29bfedef",
            "f83a2e79bc984d8ba3bf8061fdb553eb"
          ]
        }
      },
      "source": [
        "\n",
        "import matplotlib\n",
        "import matplotlib.pyplot as plt\n",
        "matplotlib.rc('font', family='AppleGothic') # 한글 출력\n",
        "\n",
        "colors = ['red', 'blue']\n",
        "\n",
        "from tqdm import tqdm_notebook\n",
        "# 시각화\n",
        "for i in  tqdm_notebook( range(len(winner)) ): # 0부터  digits.data까지 정수\n",
        "    plt.text(encoded_train_tsne[i, 0], encoded_train_tsne[i, 1], str(winner[i]), # x, y , 그룹\n",
        "             color=colors[winner[i]], # 색상\n",
        "             fontdict={'weight': 'bold', 'size':9}) # font\n",
        "\n",
        "plt.xlim(encoded_train_tsne[:, 0].min(), encoded_train_tsne[:, 0].max()) # 최소, 최대\n",
        "plt.ylim(encoded_train_tsne[:, 1].min(), encoded_train_tsne[:, 1].max()) # 최소, 최대\n",
        "plt.xlabel('t-SNE 특성0') # x축 이름\n",
        "plt.ylabel('t-SNE 특성1') # y축 이름\n",
        "plt.show() # 그래프 출력"
      ],
      "execution_count": 0,
      "outputs": [
        {
          "output_type": "display_data",
          "data": {
            "application/vnd.jupyter.widget-view+json": {
              "model_id": "eb12ed5a4b004742a4a3482fe62d8eaf",
              "version_minor": 0,
              "version_major": 2
            },
            "text/plain": [
              "HBox(children=(IntProgress(value=0, max=38872), HTML(value='')))"
            ]
          },
          "metadata": {
            "tags": []
          }
        },
        {
          "output_type": "stream",
          "text": [
            "\n"
          ],
          "name": "stdout"
        },
        {
          "output_type": "display_data",
          "data": {
            "image/png": "[encoded data removed]",
            "text/plain": [
              "<Figure size 432x288 with 1 Axes>"
            ]
          },
          "metadata": {
            "tags": []
          }
        }
      ]
    }
  ]
}