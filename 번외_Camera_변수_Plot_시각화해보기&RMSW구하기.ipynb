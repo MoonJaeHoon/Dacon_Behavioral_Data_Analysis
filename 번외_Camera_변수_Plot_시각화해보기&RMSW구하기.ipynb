{
  "nbformat": 4,
  "nbformat_minor": 0,
  "metadata": {
    "colab": {
      "name": "번외_Camera 변수 Plot 시각화해보기&RMSW구하기.ipynb",
      "provenance": [],
      "collapsed_sections": [
        "AdTscNmtuZ8B",
        "0f7gzZelnejC",
        "d61ApJd3nxnR"
      ],
      "machine_shape": "hm",
      "include_colab_link": true
    },
    "kernelspec": {
      "name": "python3",
      "display_name": "Python 3"
    },
    "accelerator": "GPU",
    "widgets": {
      "application/vnd.jupyter.widget-state+json": {
        "9d219506fd5d405f9cb8242ee4d4c5fe": {
          "model_module": "@jupyter-widgets/controls",
          "model_name": "HBoxModel",
          "state": {
            "_view_name": "HBoxView",
            "_dom_classes": [],
            "_model_name": "HBoxModel",
            "_view_module": "@jupyter-widgets/controls",
            "_model_module_version": "1.5.0",
            "_view_count": null,
            "_view_module_version": "1.5.0",
            "box_style": "",
            "layout": "IPY_MODEL_90366be13429434a8e9c028b9c00fcb1",
            "_model_module": "@jupyter-widgets/controls",
            "children": [
              "IPY_MODEL_86406816a0084dda99375119e832a05c",
              "IPY_MODEL_c712c36f41094f78a065c2905435f178"
            ]
          }
        },
        "90366be13429434a8e9c028b9c00fcb1": {
          "model_module": "@jupyter-widgets/base",
          "model_name": "LayoutModel",
          "state": {
            "_view_name": "LayoutView",
            "grid_template_rows": null,
            "right": null,
            "justify_content": null,
            "_view_module": "@jupyter-widgets/base",
            "overflow": null,
            "_model_module_version": "1.2.0",
            "_view_count": null,
            "flex_flow": null,
            "width": null,
            "min_width": null,
            "border": null,
            "align_items": null,
            "bottom": null,
            "_model_module": "@jupyter-widgets/base",
            "top": null,
            "grid_column": null,
            "overflow_y": null,
            "overflow_x": null,
            "grid_auto_flow": null,
            "grid_area": null,
            "grid_template_columns": null,
            "flex": null,
            "_model_name": "LayoutModel",
            "justify_items": null,
            "grid_row": null,
            "max_height": null,
            "align_content": null,
            "visibility": null,
            "align_self": null,
            "height": null,
            "min_height": null,
            "padding": null,
            "grid_auto_rows": null,
            "grid_gap": null,
            "max_width": null,
            "order": null,
            "_view_module_version": "1.2.0",
            "grid_template_areas": null,
            "object_position": null,
            "object_fit": null,
            "grid_auto_columns": null,
            "margin": null,
            "display": null,
            "left": null
          }
        },
        "86406816a0084dda99375119e832a05c": {
          "model_module": "@jupyter-widgets/controls",
          "model_name": "IntProgressModel",
          "state": {
            "_view_name": "ProgressView",
            "style": "IPY_MODEL_669ad3c9914f4452bfb341afc0d06ef2",
            "_dom_classes": [],
            "description": "",
            "_model_name": "IntProgressModel",
            "bar_style": "success",
            "max": 38872,
            "_view_module": "@jupyter-widgets/controls",
            "_model_module_version": "1.5.0",
            "value": 38872,
            "_view_count": null,
            "_view_module_version": "1.5.0",
            "orientation": "horizontal",
            "min": 0,
            "description_tooltip": null,
            "_model_module": "@jupyter-widgets/controls",
            "layout": "IPY_MODEL_e23bc0dcac874bfa81c34e368fa333f7"
          }
        },
        "c712c36f41094f78a065c2905435f178": {
          "model_module": "@jupyter-widgets/controls",
          "model_name": "HTMLModel",
          "state": {
            "_view_name": "HTMLView",
            "style": "IPY_MODEL_42b01c39cfbf4288ab665a8ca3696148",
            "_dom_classes": [],
            "description": "",
            "_model_name": "HTMLModel",
            "placeholder": "​",
            "_view_module": "@jupyter-widgets/controls",
            "_model_module_version": "1.5.0",
            "value": "100% 38872/38872 [56:31&lt;00:00, 11.71it/s]",
            "_view_count": null,
            "_view_module_version": "1.5.0",
            "description_tooltip": null,
            "_model_module": "@jupyter-widgets/controls",
            "layout": "IPY_MODEL_b4b0c4f6ac844e4c95241f048b02be2c"
          }
        },
        "669ad3c9914f4452bfb341afc0d06ef2": {
          "model_module": "@jupyter-widgets/controls",
          "model_name": "ProgressStyleModel",
          "state": {
            "_view_name": "StyleView",
            "_model_name": "ProgressStyleModel",
            "description_width": "",
            "_view_module": "@jupyter-widgets/base",
            "_model_module_version": "1.5.0",
            "_view_count": null,
            "_view_module_version": "1.2.0",
            "bar_color": null,
            "_model_module": "@jupyter-widgets/controls"
          }
        },
        "e23bc0dcac874bfa81c34e368fa333f7": {
          "model_module": "@jupyter-widgets/base",
          "model_name": "LayoutModel",
          "state": {
            "_view_name": "LayoutView",
            "grid_template_rows": null,
            "right": null,
            "justify_content": null,
            "_view_module": "@jupyter-widgets/base",
            "overflow": null,
            "_model_module_version": "1.2.0",
            "_view_count": null,
            "flex_flow": null,
            "width": null,
            "min_width": null,
            "border": null,
            "align_items": null,
            "bottom": null,
            "_model_module": "@jupyter-widgets/base",
            "top": null,
            "grid_column": null,
            "overflow_y": null,
            "overflow_x": null,
            "grid_auto_flow": null,
            "grid_area": null,
            "grid_template_columns": null,
            "flex": null,
            "_model_name": "LayoutModel",
            "justify_items": null,
            "grid_row": null,
            "max_height": null,
            "align_content": null,
            "visibility": null,
            "align_self": null,
            "height": null,
            "min_height": null,
            "padding": null,
            "grid_auto_rows": null,
            "grid_gap": null,
            "max_width": null,
            "order": null,
            "_view_module_version": "1.2.0",
            "grid_template_areas": null,
            "object_position": null,
            "object_fit": null,
            "grid_auto_columns": null,
            "margin": null,
            "display": null,
            "left": null
          }
        },
        "42b01c39cfbf4288ab665a8ca3696148": {
          "model_module": "@jupyter-widgets/controls",
          "model_name": "DescriptionStyleModel",
          "state": {
            "_view_name": "StyleView",
            "_model_name": "DescriptionStyleModel",
            "description_width": "",
            "_view_module": "@jupyter-widgets/base",
            "_model_module_version": "1.5.0",
            "_view_count": null,
            "_view_module_version": "1.2.0",
            "_model_module": "@jupyter-widgets/controls"
          }
        },
        "b4b0c4f6ac844e4c95241f048b02be2c": {
          "model_module": "@jupyter-widgets/base",
          "model_name": "LayoutModel",
          "state": {
            "_view_name": "LayoutView",
            "grid_template_rows": null,
            "right": null,
            "justify_content": null,
            "_view_module": "@jupyter-widgets/base",
            "overflow": null,
            "_model_module_version": "1.2.0",
            "_view_count": null,
            "flex_flow": null,
            "width": null,
            "min_width": null,
            "border": null,
            "align_items": null,
            "bottom": null,
            "_model_module": "@jupyter-widgets/base",
            "top": null,
            "grid_column": null,
            "overflow_y": null,
            "overflow_x": null,
            "grid_auto_flow": null,
            "grid_area": null,
            "grid_template_columns": null,
            "flex": null,
            "_model_name": "LayoutModel",
            "justify_items": null,
            "grid_row": null,
            "max_height": null,
            "align_content": null,
            "visibility": null,
            "align_self": null,
            "height": null,
            "min_height": null,
            "padding": null,
            "grid_auto_rows": null,
            "grid_gap": null,
            "max_width": null,
            "order": null,
            "_view_module_version": "1.2.0",
            "grid_template_areas": null,
            "object_position": null,
            "object_fit": null,
            "grid_auto_columns": null,
            "margin": null,
            "display": null,
            "left": null
          }
        },
        "66d2ae621bb1475dbd69a81595e1fe55": {
          "model_module": "@jupyter-widgets/controls",
          "model_name": "HBoxModel",
          "state": {
            "_view_name": "HBoxView",
            "_dom_classes": [],
            "_model_name": "HBoxModel",
            "_view_module": "@jupyter-widgets/controls",
            "_model_module_version": "1.5.0",
            "_view_count": null,
            "_view_module_version": "1.5.0",
            "box_style": "",
            "layout": "IPY_MODEL_2b7b5500c61c4f1c9e8e9cb1a65683d0",
            "_model_module": "@jupyter-widgets/controls",
            "children": [
              "IPY_MODEL_e70a6dd45e87432dbe6acc5bfb684b37",
              "IPY_MODEL_bff220ed92d649b3a283632f53b96dbd"
            ]
          }
        },
        "2b7b5500c61c4f1c9e8e9cb1a65683d0": {
          "model_module": "@jupyter-widgets/base",
          "model_name": "LayoutModel",
          "state": {
            "_view_name": "LayoutView",
            "grid_template_rows": null,
            "right": null,
            "justify_content": null,
            "_view_module": "@jupyter-widgets/base",
            "overflow": null,
            "_model_module_version": "1.2.0",
            "_view_count": null,
            "flex_flow": null,
            "width": null,
            "min_width": null,
            "border": null,
            "align_items": null,
            "bottom": null,
            "_model_module": "@jupyter-widgets/base",
            "top": null,
            "grid_column": null,
            "overflow_y": null,
            "overflow_x": null,
            "grid_auto_flow": null,
            "grid_area": null,
            "grid_template_columns": null,
            "flex": null,
            "_model_name": "LayoutModel",
            "justify_items": null,
            "grid_row": null,
            "max_height": null,
            "align_content": null,
            "visibility": null,
            "align_self": null,
            "height": null,
            "min_height": null,
            "padding": null,
            "grid_auto_rows": null,
            "grid_gap": null,
            "max_width": null,
            "order": null,
            "_view_module_version": "1.2.0",
            "grid_template_areas": null,
            "object_position": null,
            "object_fit": null,
            "grid_auto_columns": null,
            "margin": null,
            "display": null,
            "left": null
          }
        },
        "e70a6dd45e87432dbe6acc5bfb684b37": {
          "model_module": "@jupyter-widgets/controls",
          "model_name": "IntProgressModel",
          "state": {
            "_view_name": "ProgressView",
            "style": "IPY_MODEL_0615432bf28d47a9a7ead4a0696c4fda",
            "_dom_classes": [],
            "description": "",
            "_model_name": "IntProgressModel",
            "bar_style": "success",
            "max": 38872,
            "_view_module": "@jupyter-widgets/controls",
            "_model_module_version": "1.5.0",
            "value": 38872,
            "_view_count": null,
            "_view_module_version": "1.5.0",
            "orientation": "horizontal",
            "min": 0,
            "description_tooltip": null,
            "_model_module": "@jupyter-widgets/controls",
            "layout": "IPY_MODEL_5f38d50434b54318b329876a73da8575"
          }
        },
        "bff220ed92d649b3a283632f53b96dbd": {
          "model_module": "@jupyter-widgets/controls",
          "model_name": "HTMLModel",
          "state": {
            "_view_name": "HTMLView",
            "style": "IPY_MODEL_2d806a1a6d344bed9f74b7b7c88cc22d",
            "_dom_classes": [],
            "description": "",
            "_model_name": "HTMLModel",
            "placeholder": "​",
            "_view_module": "@jupyter-widgets/controls",
            "_model_module_version": "1.5.0",
            "value": "100% 38872/38872 [53:12&lt;00:00, 12.17it/s]",
            "_view_count": null,
            "_view_module_version": "1.5.0",
            "description_tooltip": null,
            "_model_module": "@jupyter-widgets/controls",
            "layout": "IPY_MODEL_ed5099013d6e41979578e77339d10010"
          }
        },
        "0615432bf28d47a9a7ead4a0696c4fda": {
          "model_module": "@jupyter-widgets/controls",
          "model_name": "ProgressStyleModel",
          "state": {
            "_view_name": "StyleView",
            "_model_name": "ProgressStyleModel",
            "description_width": "",
            "_view_module": "@jupyter-widgets/base",
            "_model_module_version": "1.5.0",
            "_view_count": null,
            "_view_module_version": "1.2.0",
            "bar_color": null,
            "_model_module": "@jupyter-widgets/controls"
          }
        },
        "5f38d50434b54318b329876a73da8575": {
          "model_module": "@jupyter-widgets/base",
          "model_name": "LayoutModel",
          "state": {
            "_view_name": "LayoutView",
            "grid_template_rows": null,
            "right": null,
            "justify_content": null,
            "_view_module": "@jupyter-widgets/base",
            "overflow": null,
            "_model_module_version": "1.2.0",
            "_view_count": null,
            "flex_flow": null,
            "width": null,
            "min_width": null,
            "border": null,
            "align_items": null,
            "bottom": null,
            "_model_module": "@jupyter-widgets/base",
            "top": null,
            "grid_column": null,
            "overflow_y": null,
            "overflow_x": null,
            "grid_auto_flow": null,
            "grid_area": null,
            "grid_template_columns": null,
            "flex": null,
            "_model_name": "LayoutModel",
            "justify_items": null,
            "grid_row": null,
            "max_height": null,
            "align_content": null,
            "visibility": null,
            "align_self": null,
            "height": null,
            "min_height": null,
            "padding": null,
            "grid_auto_rows": null,
            "grid_gap": null,
            "max_width": null,
            "order": null,
            "_view_module_version": "1.2.0",
            "grid_template_areas": null,
            "object_position": null,
            "object_fit": null,
            "grid_auto_columns": null,
            "margin": null,
            "display": null,
            "left": null
          }
        },
        "2d806a1a6d344bed9f74b7b7c88cc22d": {
          "model_module": "@jupyter-widgets/controls",
          "model_name": "DescriptionStyleModel",
          "state": {
            "_view_name": "StyleView",
            "_model_name": "DescriptionStyleModel",
            "description_width": "",
            "_view_module": "@jupyter-widgets/base",
            "_model_module_version": "1.5.0",
            "_view_count": null,
            "_view_module_version": "1.2.0",
            "_model_module": "@jupyter-widgets/controls"
          }
        },
        "ed5099013d6e41979578e77339d10010": {
          "model_module": "@jupyter-widgets/base",
          "model_name": "LayoutModel",
          "state": {
            "_view_name": "LayoutView",
            "grid_template_rows": null,
            "right": null,
            "justify_content": null,
            "_view_module": "@jupyter-widgets/base",
            "overflow": null,
            "_model_module_version": "1.2.0",
            "_view_count": null,
            "flex_flow": null,
            "width": null,
            "min_width": null,
            "border": null,
            "align_items": null,
            "bottom": null,
            "_model_module": "@jupyter-widgets/base",
            "top": null,
            "grid_column": null,
            "overflow_y": null,
            "overflow_x": null,
            "grid_auto_flow": null,
            "grid_area": null,
            "grid_template_columns": null,
            "flex": null,
            "_model_name": "LayoutModel",
            "justify_items": null,
            "grid_row": null,
            "max_height": null,
            "align_content": null,
            "visibility": null,
            "align_self": null,
            "height": null,
            "min_height": null,
            "padding": null,
            "grid_auto_rows": null,
            "grid_gap": null,
            "max_width": null,
            "order": null,
            "_view_module_version": "1.2.0",
            "grid_template_areas": null,
            "object_position": null,
            "object_fit": null,
            "grid_auto_columns": null,
            "margin": null,
            "display": null,
            "left": null
          }
        },
        "864802cdefed48b3b6b69bfba2f017ce": {
          "model_module": "@jupyter-widgets/controls",
          "model_name": "HBoxModel",
          "state": {
            "_view_name": "HBoxView",
            "_dom_classes": [],
            "_model_name": "HBoxModel",
            "_view_module": "@jupyter-widgets/controls",
            "_model_module_version": "1.5.0",
            "_view_count": null,
            "_view_module_version": "1.5.0",
            "box_style": "",
            "layout": "IPY_MODEL_254a2da29d6649b3ba9425aa6b0a3226",
            "_model_module": "@jupyter-widgets/controls",
            "children": [
              "IPY_MODEL_db6c081f3ef0407fb66c5b9d2f087b01",
              "IPY_MODEL_f9b98e7641054543a98374960790b92d"
            ]
          }
        },
        "254a2da29d6649b3ba9425aa6b0a3226": {
          "model_module": "@jupyter-widgets/base",
          "model_name": "LayoutModel",
          "state": {
            "_view_name": "LayoutView",
            "grid_template_rows": null,
            "right": null,
            "justify_content": null,
            "_view_module": "@jupyter-widgets/base",
            "overflow": null,
            "_model_module_version": "1.2.0",
            "_view_count": null,
            "flex_flow": null,
            "width": null,
            "min_width": null,
            "border": null,
            "align_items": null,
            "bottom": null,
            "_model_module": "@jupyter-widgets/base",
            "top": null,
            "grid_column": null,
            "overflow_y": null,
            "overflow_x": null,
            "grid_auto_flow": null,
            "grid_area": null,
            "grid_template_columns": null,
            "flex": null,
            "_model_name": "LayoutModel",
            "justify_items": null,
            "grid_row": null,
            "max_height": null,
            "align_content": null,
            "visibility": null,
            "align_self": null,
            "height": null,
            "min_height": null,
            "padding": null,
            "grid_auto_rows": null,
            "grid_gap": null,
            "max_width": null,
            "order": null,
            "_view_module_version": "1.2.0",
            "grid_template_areas": null,
            "object_position": null,
            "object_fit": null,
            "grid_auto_columns": null,
            "margin": null,
            "display": null,
            "left": null
          }
        },
        "db6c081f3ef0407fb66c5b9d2f087b01": {
          "model_module": "@jupyter-widgets/controls",
          "model_name": "IntProgressModel",
          "state": {
            "_view_name": "ProgressView",
            "style": "IPY_MODEL_c094d3d4fca441e5a5381792e4df0857",
            "_dom_classes": [],
            "description": "",
            "_model_name": "IntProgressModel",
            "bar_style": "success",
            "max": 38872,
            "_view_module": "@jupyter-widgets/controls",
            "_model_module_version": "1.5.0",
            "value": 38872,
            "_view_count": null,
            "_view_module_version": "1.5.0",
            "orientation": "horizontal",
            "min": 0,
            "description_tooltip": null,
            "_model_module": "@jupyter-widgets/controls",
            "layout": "IPY_MODEL_2b0fccdd73e34918b740f337df58f51d"
          }
        },
        "f9b98e7641054543a98374960790b92d": {
          "model_module": "@jupyter-widgets/controls",
          "model_name": "HTMLModel",
          "state": {
            "_view_name": "HTMLView",
            "style": "IPY_MODEL_cbe67b4ac4ca423d8d1153cc1d4958e1",
            "_dom_classes": [],
            "description": "",
            "_model_name": "HTMLModel",
            "placeholder": "​",
            "_view_module": "@jupyter-widgets/controls",
            "_model_module_version": "1.5.0",
            "value": "100% 38872/38872 [36:58&lt;00:00, 19.15it/s]",
            "_view_count": null,
            "_view_module_version": "1.5.0",
            "description_tooltip": null,
            "_model_module": "@jupyter-widgets/controls",
            "layout": "IPY_MODEL_bad9b8107ec04472b537f1fbedc6bd66"
          }
        },
        "c094d3d4fca441e5a5381792e4df0857": {
          "model_module": "@jupyter-widgets/controls",
          "model_name": "ProgressStyleModel",
          "state": {
            "_view_name": "StyleView",
            "_model_name": "ProgressStyleModel",
            "description_width": "",
            "_view_module": "@jupyter-widgets/base",
            "_model_module_version": "1.5.0",
            "_view_count": null,
            "_view_module_version": "1.2.0",
            "bar_color": null,
            "_model_module": "@jupyter-widgets/controls"
          }
        },
        "2b0fccdd73e34918b740f337df58f51d": {
          "model_module": "@jupyter-widgets/base",
          "model_name": "LayoutModel",
          "state": {
            "_view_name": "LayoutView",
            "grid_template_rows": null,
            "right": null,
            "justify_content": null,
            "_view_module": "@jupyter-widgets/base",
            "overflow": null,
            "_model_module_version": "1.2.0",
            "_view_count": null,
            "flex_flow": null,
            "width": null,
            "min_width": null,
            "border": null,
            "align_items": null,
            "bottom": null,
            "_model_module": "@jupyter-widgets/base",
            "top": null,
            "grid_column": null,
            "overflow_y": null,
            "overflow_x": null,
            "grid_auto_flow": null,
            "grid_area": null,
            "grid_template_columns": null,
            "flex": null,
            "_model_name": "LayoutModel",
            "justify_items": null,
            "grid_row": null,
            "max_height": null,
            "align_content": null,
            "visibility": null,
            "align_self": null,
            "height": null,
            "min_height": null,
            "padding": null,
            "grid_auto_rows": null,
            "grid_gap": null,
            "max_width": null,
            "order": null,
            "_view_module_version": "1.2.0",
            "grid_template_areas": null,
            "object_position": null,
            "object_fit": null,
            "grid_auto_columns": null,
            "margin": null,
            "display": null,
            "left": null
          }
        },
        "cbe67b4ac4ca423d8d1153cc1d4958e1": {
          "model_module": "@jupyter-widgets/controls",
          "model_name": "DescriptionStyleModel",
          "state": {
            "_view_name": "StyleView",
            "_model_name": "DescriptionStyleModel",
            "description_width": "",
            "_view_module": "@jupyter-widgets/base",
            "_model_module_version": "1.5.0",
            "_view_count": null,
            "_view_module_version": "1.2.0",
            "_model_module": "@jupyter-widgets/controls"
          }
        },
        "bad9b8107ec04472b537f1fbedc6bd66": {
          "model_module": "@jupyter-widgets/base",
          "model_name": "LayoutModel",
          "state": {
            "_view_name": "LayoutView",
            "grid_template_rows": null,
            "right": null,
            "justify_content": null,
            "_view_module": "@jupyter-widgets/base",
            "overflow": null,
            "_model_module_version": "1.2.0",
            "_view_count": null,
            "flex_flow": null,
            "width": null,
            "min_width": null,
            "border": null,
            "align_items": null,
            "bottom": null,
            "_model_module": "@jupyter-widgets/base",
            "top": null,
            "grid_column": null,
            "overflow_y": null,
            "overflow_x": null,
            "grid_auto_flow": null,
            "grid_area": null,
            "grid_template_columns": null,
            "flex": null,
            "_model_name": "LayoutModel",
            "justify_items": null,
            "grid_row": null,
            "max_height": null,
            "align_content": null,
            "visibility": null,
            "align_self": null,
            "height": null,
            "min_height": null,
            "padding": null,
            "grid_auto_rows": null,
            "grid_gap": null,
            "max_width": null,
            "order": null,
            "_view_module_version": "1.2.0",
            "grid_template_areas": null,
            "object_position": null,
            "object_fit": null,
            "grid_auto_columns": null,
            "margin": null,
            "display": null,
            "left": null
          }
        }
      }
    }
  },
  "cells": [
    {
      "cell_type": "markdown",
      "metadata": {
        "id": "view-in-github",
        "colab_type": "text"
      },
      "source": [
        "<a href=\"https://colab.research.google.com/github/MoonJaeHoon/Dacon_Behavioral_Data_Analysis/blob/master/%EB%B2%88%EC%99%B8_Camera_%EB%B3%80%EC%88%98_Plot_%EC%8B%9C%EA%B0%81%ED%99%94%ED%95%B4%EB%B3%B4%EA%B8%B0%26RMSW%EA%B5%AC%ED%95%98%EA%B8%B0.ipynb\" target=\"_parent\"><img src=\"https://colab.research.google.com/assets/colab-badge.svg\" alt=\"Open In Colab\"/></a>"
      ]
    },
    {
      "cell_type": "code",
      "metadata": {
        "id": "rHoLar7IwEME",
        "colab_type": "code",
        "outputId": "e73999c7-d212-45ca-8b76-970840234577",
        "colab": {
          "base_uri": "https://localhost:8080/",
          "height": 127
        }
      },
      "source": [
        "from google.colab import drive\n",
        "drive.mount('/content/drive')"
      ],
      "execution_count": 0,
      "outputs": [
        {
          "output_type": "stream",
          "text": [
            "Go to this URL in a browser: https://accounts.google.com/o/oauth2/auth?client_id=947318989803-6bn6qk8qdgf4n4g3pfee6491hc0brc4i.apps.googleusercontent.com&redirect_uri=urn%3aietf%3awg%3aoauth%3a2.0%3aoob&response_type=code&scope=email%20https%3a%2f%2fwww.googleapis.com%2fauth%2fdocs.test%20https%3a%2f%2fwww.googleapis.com%2fauth%2fdrive%20https%3a%2f%2fwww.googleapis.com%2fauth%2fdrive.photos.readonly%20https%3a%2f%2fwww.googleapis.com%2fauth%2fpeopleapi.readonly\n",
            "\n",
            "Enter your authorization code:\n",
            "··········\n",
            "Mounted at /content/drive\n"
          ],
          "name": "stdout"
        }
      ]
    },
    {
      "cell_type": "code",
      "metadata": {
        "id": "JZBLlDR8iYgT",
        "colab_type": "code",
        "outputId": "0100726b-4fbf-4462-f643-5a929ab04024",
        "colab": {
          "base_uri": "https://localhost:8080/",
          "height": 125
        }
      },
      "source": [
        "import os\n",
        "print( '변경 전 기본 경로 :' )\n",
        "print(  os.getcwd() )\n",
        "os.chdir('./drive/My Drive/데이콘_게임데이터분석')\n",
        "print( '변경 후 파일 경로 :' )\n",
        "print(  os.getcwd()  )\n",
        "\n",
        "import numpy as np\n",
        "import pandas as pd\n",
        "\n",
        "from tqdm import tqdm_notebook              # 진행바\n",
        "from sklearn.metrics import roc_auc_score   # AUC 스코어 계산\n",
        "from sklearn.model_selection import KFold   # K-fold CV    \n",
        "#from bayes_opt import BayesianOptimization  # 베이지안 최적화 라이브러리  \n",
        "from functools import partial               # 함수 변수 고정\n",
        "import lightgbm as lgb                      # LightGBM 라이브러리\n",
        "import warnings                             \n",
        "warnings.filterwarnings(\"ignore\")           # 경고 문구 미표시\n",
        "%time\n",
        "train = pd.read_csv('./train.csv')\n",
        "\n",
        "#%time\n",
        "#test = pd.read_pickle('./test.pkl')"
      ],
      "execution_count": 0,
      "outputs": [
        {
          "output_type": "stream",
          "text": [
            "변경 전 기본 경로 :\n",
            "/content\n",
            "변경 후 파일 경로 :\n",
            "/content/drive/My Drive/데이콘_게임데이터분석\n",
            "CPU times: user 2 µs, sys: 0 ns, total: 2 µs\n",
            "Wall time: 4.77 µs\n"
          ],
          "name": "stdout"
        }
      ]
    },
    {
      "cell_type": "markdown",
      "metadata": {
        "id": "pl9p8V78tV4t",
        "colab_type": "text"
      },
      "source": [
        "## 함수명: plot_camera\n",
        "### Args: DataFrame, game_id\n",
        "\n",
        "* 데이터 프레임 (train, test)와 game_id를 입력하면 카메라에 해당하는 위치를 표시해 줍니다.\n",
        "* 추가로 해당 게임의 전체 게임시간,  승자, 플레이어의 종족을 표기합니다.\n"
      ]
    },
    {
      "cell_type": "code",
      "metadata": {
        "id": "OT86XjB3tJ3T",
        "colab_type": "code",
        "colab": {}
      },
      "source": [
        "import matplotlib.pyplot as plt\n",
        "def plot_camera(dataframe, game_id):\n",
        "    distance_list = []\n",
        "    dataframe = dataframe.loc[dataframe['game_id']==game_id]\n",
        "    dataframe = dataframe.loc[dataframe['event']=='Camera']\n",
        "    dataframe_0 = dataframe.loc[dataframe['player']==0]\n",
        "    dataframe_1 = dataframe.loc[dataframe['player']==1]\n",
        "\n",
        "    winner = dataframe['winner'].iloc[0]\n",
        "    game_time = dataframe['time'].values[-1]\n",
        "\n",
        "    if dataframe_0.shape[0]!=0:\n",
        "      player_0_species = dataframe_0['species'].iloc[0]\n",
        "      player0_camera = np.array([item.replace('at (', '').replace(')', '').split(',') for item in dataframe_0['event_contents']]).astype(float)\n",
        "      player0_median = [np.median(player0_camera[:,0]) ,   np.median(player0_camera[:,1])]\n",
        "      #print(f'Player0의 카메라 좌표 중앙값은 {player0_median}입니다')\n",
        "      player0_RMSE = (  np.sqrt( np.sum([ (x-player0_median[0])**2  for x in player0_camera[:,0] ]  )/len(player0_camera[:,0]  )   +\n",
        "                        np.sum([ (x-player0_median[1])**2  for x in player0_camera[:,1] ]  )/len(player0_camera[:,1]  ) )  )\n",
        "    else:\n",
        "      player0_camera = np.nan\n",
        "\n",
        "\n",
        "    if dataframe_1.shape[0]!=0:\n",
        "      player_1_species = dataframe_1['species'].iloc[0]\n",
        "      player1_camera = np.array([item.replace('at (', '').replace(')', '').split(',') for item in dataframe_1['event_contents']]).astype(float)\n",
        "\n",
        "      player1_median = [np.median(player1_camera[:,0]) ,   np.median(player1_camera[:,1])]\n",
        "      #print(f'Player1의 카메라 좌표 중앙값은 {player1_median}입니다')\n",
        "      player1_RMSE = (  np.sqrt( np.sum([ (x-player1_median[0])**2  for x in player1_camera[:,0] ]  )/len(player1_camera[:,0]  )   +\n",
        "                        np.sum([ (x-player1_median[1])**2  for x in player1_camera[:,1] ]  )/len(player1_camera[:,1]  ) )  )\n",
        "    else:\n",
        "      player1_camera = np.nan      \n",
        "    \n",
        "    print(f'게임번호 {game_id}입니다')\n",
        "\n",
        "    try:\n",
        "      print(f'Player0의 카메라 좌표 RMSW은 {player0_RMSE}입니다')\n",
        "      plt.scatter(player0_camera[:, 0], player0_camera[:, 1], label='player_0', alpha=0.3, color='b', s=50)\n",
        "    except:\n",
        "      print('player0의 Camera 플랏은 없습니다')\n",
        "\n",
        "    try:\n",
        "      print(f'Player1의 카메라 좌표 RMSW는 {player1_RMSE}입니다')\n",
        "      plt.scatter(player1_camera[:, 0], player1_camera[:, 1], label='player_1', alpha=0.3, color='r', s=50)\n",
        "    except:\n",
        "      print('player1의 Camera 플랏은 없습니다')\n",
        "\n",
        "    plt.legend()\n",
        "    plt.show()\n",
        "    \n",
        "    #print('게임 시간은 : %s'%(game_time))\n",
        "    print('승자는 Player_%i'%(winner))\n",
        "    #print('Player_0 종족 : %s'%(player_0_species))\n",
        "    #print('Player_1 종족 : %s'%(player_1_species))\n"
      ],
      "execution_count": 0,
      "outputs": []
    },
    {
      "cell_type": "code",
      "metadata": {
        "id": "UQdBnfLVlUNo",
        "colab_type": "code",
        "colab": {}
      },
      "source": [
        "#mydictionary = {}\n",
        "dataframe = train.loc[train['game_id']==91]\n",
        "dataframe = dataframe.loc[dataframe['event']=='Camera']\n",
        "dataframe_0 = dataframe.loc[dataframe['player']==0]\n",
        "dataframe_1 = dataframe.loc[dataframe['player']==1]\n",
        "player0_camera = np.array([item.replace('at (', '').replace(')', '').split(',') for item in dataframe_0['event_contents']]).astype(float)\n",
        "player1_camera = np.array([item.replace('at (', '').replace(')', '').split(',') for item in dataframe_1['event_contents']]).astype(float)\n",
        "mydictionary['player0'] = player0_camera\n",
        "mydictionary['player1'] = player1_camera"
      ],
      "execution_count": 0,
      "outputs": []
    },
    {
      "cell_type": "code",
      "metadata": {
        "id": "Ldrp2_PG0dcV",
        "colab_type": "code",
        "colab": {}
      },
      "source": [
        ""
      ],
      "execution_count": 0,
      "outputs": []
    },
    {
      "cell_type": "markdown",
      "metadata": {
        "id": "OEW28rwct7QO",
        "colab_type": "text"
      },
      "source": [
        "## 실제 게임별 플랏 그려보기"
      ]
    },
    {
      "cell_type": "code",
      "metadata": {
        "id": "uz3ogBTctOCM",
        "colab_type": "code",
        "outputId": "a4f72670-0970-4999-ccf0-4606558d0ed6",
        "colab": {
          "base_uri": "https://localhost:8080/",
          "height": 338
        }
      },
      "source": [
        "plot_camera(train, 0)\n"
      ],
      "execution_count": 0,
      "outputs": [
        {
          "output_type": "stream",
          "text": [
            "게임번호 0입니다\n",
            "Player0의 카메라 좌표 RMSE은 43.85466969842698입니다\n",
            "Player1의 카메라 좌표 RMSE는 10.33567934664109입니다\n"
          ],
          "name": "stdout"
        },
        {
          "output_type": "display_data",
          "data": {
            "image/png": "[encoded data removed]",
            "text/plain": [
              "<Figure size 432x288 with 1 Axes>"
            ]
          },
          "metadata": {
            "tags": []
          }
        },
        {
          "output_type": "stream",
          "text": [
            "승자는 Player_1\n"
          ],
          "name": "stdout"
        }
      ]
    },
    {
      "cell_type": "code",
      "metadata": {
        "id": "2BKEVbwk4cdw",
        "colab_type": "code",
        "outputId": "56428a0a-1668-45f8-ee12-a1d8dfab42ba",
        "colab": {
          "base_uri": "https://localhost:8080/",
          "height": 337
        }
      },
      "source": [
        "plot_camera(train, 50)\n"
      ],
      "execution_count": 0,
      "outputs": [
        {
          "output_type": "stream",
          "text": [
            "게임번호 50입니다\n",
            "Player0의 카메라 좌표 RMSE은 62.42271976379657입니다\n",
            "Player1의 카메라 좌표 RMSE는 42.629128336452716입니다\n"
          ],
          "name": "stdout"
        },
        {
          "output_type": "display_data",
          "data": {
            "image/png": "[encoded data removed]",
            "text/plain": [
              "<Figure size 432x288 with 1 Axes>"
            ]
          },
          "metadata": {
            "tags": []
          }
        },
        {
          "output_type": "stream",
          "text": [
            "승자는 Player_1\n"
          ],
          "name": "stdout"
        }
      ]
    },
    {
      "cell_type": "code",
      "metadata": {
        "id": "r5qndEY8td-Z",
        "colab_type": "code",
        "outputId": "1615bc61-4d20-4d0d-eb62-7c64b935a9c3",
        "colab": {
          "base_uri": "https://localhost:8080/",
          "height": 337
        }
      },
      "source": [
        "plot_camera(train, 100)\n"
      ],
      "execution_count": 0,
      "outputs": [
        {
          "output_type": "stream",
          "text": [
            "게임번호 100입니다\n",
            "Player0의 카메라 좌표 RMSE은 37.99665247311314입니다\n",
            "Player1의 카메라 좌표 RMSE는 77.77091541944066입니다\n"
          ],
          "name": "stdout"
        },
        {
          "output_type": "display_data",
          "data": {
            "image/png": "[encoded data removed]",
            "text/plain": [
              "<Figure size 432x288 with 1 Axes>"
            ]
          },
          "metadata": {
            "tags": []
          }
        },
        {
          "output_type": "stream",
          "text": [
            "승자는 Player_1\n"
          ],
          "name": "stdout"
        }
      ]
    },
    {
      "cell_type": "code",
      "metadata": {
        "id": "OCUX312L0l_2",
        "colab_type": "code",
        "outputId": "a47c4d3f-e0de-4e30-c362-a50b70fda796",
        "colab": {
          "base_uri": "https://localhost:8080/",
          "height": 337
        }
      },
      "source": [
        "plot_camera(train, 187)\n"
      ],
      "execution_count": 0,
      "outputs": [
        {
          "output_type": "stream",
          "text": [
            "게임번호 187입니다\n",
            "Player0의 카메라 좌표 RMSE은 15.041478796536335입니다\n",
            "player1의 Camera 플랏은 없습니다\n"
          ],
          "name": "stdout"
        },
        {
          "output_type": "display_data",
          "data": {
            "image/png": "[encoded data removed]",
            "text/plain": [
              "<Figure size 432x288 with 1 Axes>"
            ]
          },
          "metadata": {
            "tags": []
          }
        },
        {
          "output_type": "stream",
          "text": [
            "승자는 Player_0\n"
          ],
          "name": "stdout"
        }
      ]
    },
    {
      "cell_type": "code",
      "metadata": {
        "id": "ev1b26c4tf1-",
        "colab_type": "code",
        "outputId": "8a5835ff-f403-438a-a455-8abd17ae70c9",
        "colab": {
          "base_uri": "https://localhost:8080/",
          "height": 337
        }
      },
      "source": [
        "plot_camera(train, 2000)\n"
      ],
      "execution_count": 0,
      "outputs": [
        {
          "output_type": "stream",
          "text": [
            "게임번호 2000입니다\n",
            "Player0의 카메라 좌표 RMSE은 11.550096755125626입니다\n",
            "Player1의 카메라 좌표 RMSE는 51.61145550689172입니다\n"
          ],
          "name": "stdout"
        },
        {
          "output_type": "display_data",
          "data": {
            "image/png": "[encoded data removed]",
            "text/plain": [
              "<Figure size 432x288 with 1 Axes>"
            ]
          },
          "metadata": {
            "tags": []
          }
        },
        {
          "output_type": "stream",
          "text": [
            "승자는 Player_1\n"
          ],
          "name": "stdout"
        }
      ]
    },
    {
      "cell_type": "code",
      "metadata": {
        "id": "WRDE5rgDCSmc",
        "colab_type": "code",
        "outputId": "4d96b238-8c96-41b6-8086-6c828d781a63",
        "colab": {
          "base_uri": "https://localhost:8080/",
          "height": 337
        }
      },
      "source": [
        "plot_camera(train, 10246)\n"
      ],
      "execution_count": 0,
      "outputs": [
        {
          "output_type": "stream",
          "text": [
            "게임번호 10246입니다\n",
            "player0의 Camera 플랏은 없습니다\n",
            "Player1의 카메라 좌표 RMSE는 1.713450637146428입니다\n"
          ],
          "name": "stdout"
        },
        {
          "output_type": "display_data",
          "data": {
            "image/png": "[encoded data removed]",
            "text/plain": [
              "<Figure size 432x288 with 1 Axes>"
            ]
          },
          "metadata": {
            "tags": []
          }
        },
        {
          "output_type": "stream",
          "text": [
            "승자는 Player_1\n"
          ],
          "name": "stdout"
        }
      ]
    },
    {
      "cell_type": "code",
      "metadata": {
        "id": "oJtRn3kc4rAN",
        "colab_type": "code",
        "outputId": "7403ac34-85a2-4514-8cdd-c0170e57aa0d",
        "colab": {
          "base_uri": "https://localhost:8080/",
          "height": 341
        }
      },
      "source": [
        "plot_camera(train, 12105)\n"
      ],
      "execution_count": 0,
      "outputs": [
        {
          "output_type": "stream",
          "text": [
            "게임번호 12105입니다\n",
            "Player0의 카메라 좌표 RMSE은 22.126735489877984입니다\n",
            "player1의 Camera 플랏은 없습니다\n"
          ],
          "name": "stdout"
        },
        {
          "output_type": "display_data",
          "data": {
            "image/png": "[encoded data removed]",
            "text/plain": [
              "<Figure size 432x288 with 1 Axes>"
            ]
          },
          "metadata": {
            "tags": []
          }
        },
        {
          "output_type": "stream",
          "text": [
            "승자는 Player_0\n"
          ],
          "name": "stdout"
        }
      ]
    },
    {
      "cell_type": "code",
      "metadata": {
        "id": "2zPQAjQh4tjf",
        "colab_type": "code",
        "outputId": "3ceb63f7-c334-4baa-9ac2-38ab54841c22",
        "colab": {
          "base_uri": "https://localhost:8080/",
          "height": 339
        }
      },
      "source": [
        "plot_camera(train, 13292)\n"
      ],
      "execution_count": 0,
      "outputs": [
        {
          "output_type": "stream",
          "text": [
            "게임번호 13292입니다\n",
            "Player0의 카메라 좌표 RMSE은 10.68257578745077입니다\n",
            "player1의 Camera 플랏은 없습니다\n"
          ],
          "name": "stdout"
        },
        {
          "output_type": "display_data",
          "data": {
            "image/png": "[encoded data removed]",
            "text/plain": [
              "<Figure size 432x288 with 1 Axes>"
            ]
          },
          "metadata": {
            "tags": []
          }
        },
        {
          "output_type": "stream",
          "text": [
            "승자는 Player_0\n"
          ],
          "name": "stdout"
        }
      ]
    },
    {
      "cell_type": "code",
      "metadata": {
        "id": "z7EB6wjK4yeD",
        "colab_type": "code",
        "outputId": "0ed0e0f6-ad91-494a-e9f7-20b5268db4b2",
        "colab": {
          "base_uri": "https://localhost:8080/",
          "height": 337
        }
      },
      "source": [
        "plot_camera(train, 17294)\n"
      ],
      "execution_count": 0,
      "outputs": [
        {
          "output_type": "stream",
          "text": [
            "게임번호 17294입니다\n",
            "Player0의 카메라 좌표 RMSE은 14.949982445676808입니다\n",
            "player1의 Camera 플랏은 없습니다\n"
          ],
          "name": "stdout"
        },
        {
          "output_type": "display_data",
          "data": {
            "image/png": "[encoded data removed]",
            "text/plain": [
              "<Figure size 432x288 with 1 Axes>"
            ]
          },
          "metadata": {
            "tags": []
          }
        },
        {
          "output_type": "stream",
          "text": [
            "승자는 Player_1\n"
          ],
          "name": "stdout"
        }
      ]
    },
    {
      "cell_type": "markdown",
      "metadata": {
        "id": "AdTscNmtuZ8B",
        "colab_type": "text"
      },
      "source": [
        "# 각 게임별 좌표들을 dictionary 형태로 train_x에 저장 (변수명 : Camera_list)"
      ]
    },
    {
      "cell_type": "code",
      "metadata": {
        "id": "_wQY3fyt03Jb",
        "colab_type": "code",
        "outputId": "ca1e51d8-79e5-4342-a1c5-db890c4d8d58",
        "colab": {
          "base_uri": "https://localhost:8080/",
          "height": 67,
          "referenced_widgets": [
            "9d219506fd5d405f9cb8242ee4d4c5fe",
            "90366be13429434a8e9c028b9c00fcb1",
            "86406816a0084dda99375119e832a05c",
            "c712c36f41094f78a065c2905435f178",
            "669ad3c9914f4452bfb341afc0d06ef2",
            "e23bc0dcac874bfa81c34e368fa333f7",
            "42b01c39cfbf4288ab665a8ca3696148",
            "b4b0c4f6ac844e4c95241f048b02be2c"
          ]
        }
      },
      "source": [
        "\n",
        "\n",
        "from tqdm import tqdm_notebook\n",
        "def Add_cameraList(input = train):\n",
        "  camera_list = []\n",
        "  GID = train.game_id.unique().tolist()\n",
        "  ## for문 안에\n",
        "  for i in tqdm_notebook(GID):\n",
        "    mydictionary = {}\n",
        "    dataframe = input.loc[input['game_id']==i]\n",
        "    dataframe = dataframe.loc[dataframe['event']=='Camera']\n",
        "    dataframe_0 = dataframe.loc[dataframe['player']==0]\n",
        "    dataframe_1 = dataframe.loc[dataframe['player']==1]\n",
        "    if dataframe_0.shape[0]!=0:\n",
        "      player0_camera = np.array([item.replace('at (', '').replace(')', '').split(',') for item in dataframe_0['event_contents']]).astype(float)\n",
        "    else:\n",
        "      player0_camera = np.nan\n",
        "\n",
        "    if dataframe_1.shape[0]!=0:\n",
        "      player1_camera = np.array([item.replace('at (', '').replace(')', '').split(',') for item in dataframe_1['event_contents']]).astype(float)\n",
        "    else:\n",
        "      player1_camera = np.nan\n",
        "\n",
        "    mydictionary['player0'] = player0_camera\n",
        "    mydictionary['player1'] = player1_camera\n",
        "\n",
        "    camera_list.append(mydictionary)\n",
        "\n",
        "  return camera_list\n",
        "\n",
        "camera_list = Add_cameraList(train)"
      ],
      "execution_count": 0,
      "outputs": [
        {
          "output_type": "display_data",
          "data": {
            "application/vnd.jupyter.widget-view+json": {
              "model_id": "9d219506fd5d405f9cb8242ee4d4c5fe",
              "version_minor": 0,
              "version_major": 2
            },
            "text/plain": [
              "HBox(children=(IntProgress(value=0, max=38872), HTML(value='')))"
            ]
          },
          "metadata": {
            "tags": []
          }
        },
        {
          "output_type": "stream",
          "text": [
            "\n"
          ],
          "name": "stdout"
        }
      ]
    },
    {
      "cell_type": "code",
      "metadata": {
        "id": "zNQaHeb5g8ro",
        "colab_type": "code",
        "colab": {}
      },
      "source": [
        "x_train = pd.read_pickle('x_train.pkl')\n",
        "x_train['camera_list'] = camera_list\n",
        "x_train.to_pickle('x_train.pkl')\n",
        "x_train.head()"
      ],
      "execution_count": 0,
      "outputs": []
    },
    {
      "cell_type": "markdown",
      "metadata": {
        "id": "0f7gzZelnejC",
        "colab_type": "text"
      },
      "source": [
        "### Camera_list 일렬로 세움 player0와 player1 각각, 모든 각 게임들중 카메라 리스트가 가장 긴 리스트는 len이 몇일까?\n",
        "* player 0: 3664, player 1: 4220"
      ]
    },
    {
      "cell_type": "code",
      "metadata": {
        "id": "DKXsPFM-7AQs",
        "colab_type": "code",
        "outputId": "303c9157-8199-4d66-fd16-7a4f7dad6565",
        "colab": {
          "base_uri": "https://localhost:8080/",
          "height": 445,
          "referenced_widgets": [
            "66d2ae621bb1475dbd69a81595e1fe55",
            "2b7b5500c61c4f1c9e8e9cb1a65683d0",
            "e70a6dd45e87432dbe6acc5bfb684b37",
            "bff220ed92d649b3a283632f53b96dbd",
            "0615432bf28d47a9a7ead4a0696c4fda",
            "5f38d50434b54318b329876a73da8575",
            "2d806a1a6d344bed9f74b7b7c88cc22d",
            "ed5099013d6e41979578e77339d10010"
          ]
        }
      },
      "source": [
        "\n",
        "def location_length(camera_list = x_train.camera_list):\n",
        "  result_list0 = []\n",
        "  length_list0 = []\n",
        "  result_list1 = []\n",
        "  length_list1 = []\n",
        "\n",
        "  for i in tqdm_notebook( range( len(camera_list)   ) ): # \n",
        "    \n",
        "    player = 'player0'\n",
        "    result_list0 = []\n",
        "    if str(camera_list[i][player]) != 'nan':\n",
        "      for j in range( len( camera_list[i][player].tolist() )  ):\n",
        "        \n",
        "          location_j = camera_list[i][player].tolist()[j]\n",
        "          result_list0 += location_j                  ## i번째 게임에서 p0의 좌표들 result_list0에 모두 저장됨\n",
        "    else:\n",
        "      print(f'{i}번째 경기에서 player0의 카메라 없음')\n",
        "    length_list0.append( len(result_list0)  )         ## i번째 게임에서 p0의 좌표 개수가 몇인지 append\n",
        "\n",
        "    player = 'player1'\n",
        "    result_list1 = []\n",
        "    if str(camera_list[i][player]) != 'nan':\n",
        "      for j in range( len( camera_list[i][player].tolist() )  ):\n",
        "        \n",
        "          location_j = camera_list[i][player].tolist()[j]\n",
        "          result_list1 += location_j                   ## i번째 게임에서 p1의 좌표들 result_list1에 모두 저장됨 \n",
        "    else:\n",
        "      print(f'{i}번째 경기에서 player1의 카메라 없음')\n",
        "    length_list1.append( len(result_list1)  )          ## i번째 게임에서 p1의 좌표 개수가 몇인지 append\n",
        "  return length_list0, length_list1\n",
        "\n",
        "length_list0, length_list1 = location_length()\n"
      ],
      "execution_count": 0,
      "outputs": [
        {
          "output_type": "display_data",
          "data": {
            "application/vnd.jupyter.widget-view+json": {
              "model_id": "66d2ae621bb1475dbd69a81595e1fe55",
              "version_minor": 0,
              "version_major": 2
            },
            "text/plain": [
              "HBox(children=(IntProgress(value=0, max=38872), HTML(value='')))"
            ]
          },
          "metadata": {
            "tags": []
          }
        },
        {
          "output_type": "stream",
          "text": [
            "187번째 경기에서 player1의 카메라 없음\n",
            "10246번째 경기에서 player0의 카메라 없음\n",
            "12105번째 경기에서 player1의 카메라 없음\n",
            "13292번째 경기에서 player1의 카메라 없음\n",
            "14675번째 경기에서 player1의 카메라 없음\n",
            "17294번째 경기에서 player1의 카메라 없음\n",
            "21149번째 경기에서 player0의 카메라 없음\n",
            "23337번째 경기에서 player0의 카메라 없음\n",
            "24423번째 경기에서 player1의 카메라 없음\n",
            "24855번째 경기에서 player1의 카메라 없음\n",
            "24858번째 경기에서 player1의 카메라 없음\n",
            "25891번째 경기에서 player0의 카메라 없음\n",
            "26243번째 경기에서 player1의 카메라 없음\n",
            "26339번째 경기에서 player1의 카메라 없음\n",
            "27249번째 경기에서 player1의 카메라 없음\n",
            "27818번째 경기에서 player0의 카메라 없음\n",
            "32254번째 경기에서 player1의 카메라 없음\n",
            "33101번째 경기에서 player1의 카메라 없음\n",
            "34423번째 경기에서 player1의 카메라 없음\n",
            "34843번째 경기에서 player1의 카메라 없음\n",
            "35288번째 경기에서 player0의 카메라 없음\n",
            "37967번째 경기에서 player1의 카메라 없음\n"
          ],
          "name": "stdout"
        }
      ]
    },
    {
      "cell_type": "code",
      "metadata": {
        "id": "xn77YLhfMkaR",
        "colab_type": "code",
        "outputId": "67c3f991-7b0b-4839-cf77-f7fd056e8ed0",
        "colab": {
          "base_uri": "https://localhost:8080/",
          "height": 53
        }
      },
      "source": [
        "print(np.max(length_list0))\n",
        "print(np.max(length_list1))\n"
      ],
      "execution_count": 0,
      "outputs": [
        {
          "output_type": "stream",
          "text": [
            "3664\n",
            "4020\n"
          ],
          "name": "stdout"
        }
      ]
    },
    {
      "cell_type": "markdown",
      "metadata": {
        "id": "d61ApJd3nxnR",
        "colab_type": "text"
      },
      "source": [
        "# 각 게임당 player0 와 player1의 카메라 리스트를 일렬로 병합해서 (빈 곳은 0으로 채움) array형태로 저장"
      ]
    },
    {
      "cell_type": "code",
      "metadata": {
        "id": "yBODrqHON0V9",
        "colab_type": "code",
        "colab": {}
      },
      "source": [
        "x_train = pd.read_pickle('x_train.pkl')\n",
        "camera_list = x_train.camera_list"
      ],
      "execution_count": 0,
      "outputs": []
    },
    {
      "cell_type": "code",
      "metadata": {
        "id": "Tx-tqyurKvrD",
        "colab_type": "code",
        "outputId": "3b89113c-f20e-47ab-a46b-c08f0122adfe",
        "colab": {
          "base_uri": "https://localhost:8080/",
          "height": 35
        }
      },
      "source": [
        "\n",
        "## result_list0 : i번째 게임에서 플레이어0의 모든 카메라 좌표들을 일렬로 세운거\n",
        "player = 'player0'\n",
        "i = 10246\n",
        "result_list0 = []\n",
        "if str(camera_list[i][player]) != 'nan':\n",
        "  for j in range( len( camera_list[i][player].tolist() )  ):\n",
        "    location_j = camera_list[i][player].tolist()[j]\n",
        "    result_list0 += location_j\n",
        "else:\n",
        "  print(f'{i}번째 경기에서 player0의 카메라 없음')\n",
        "  \n",
        "result_list0 = result_list0 + np.zeros(3664 - len(result_list0)).tolist()\n",
        "\n",
        "## result_list1 : i번째 게임에서 플레이어1의 모든 카메라 좌표들을 일렬로 세운거\n",
        "player = 'player1'\n",
        "result_list1 = []\n",
        "if str(camera_list[i][player]) != 'nan':\n",
        "  for j in range( len( camera_list[i][player].tolist() )  ):\n",
        "    location_j = camera_list[i][player].tolist()[j]\n",
        "    result_list1 += location_j\n",
        "else:\n",
        "  print(f'{i}번째 경기에서 player0의 카메라 없음')\n",
        "result_list1 = result_list1 + np.zeros(4220 - len(result_list1)).tolist()\n",
        "\n",
        "####### result_list0와 result_list1 모두 일렬로 합쳐버리기 => 게임 i번째에서의 카메라 리스트가 일렬이 됨.\n",
        "result_list = result_list0 + result_list1\n",
        "result_array = np.zeros(  len(camera_list)* (3664+4220) )\n",
        "result_array = result_array.reshape(  len(camera_list), 3664+4220)"
      ],
      "execution_count": 0,
      "outputs": [
        {
          "output_type": "stream",
          "text": [
            "10246번째 경기에서 player0의 카메라 없음\n"
          ],
          "name": "stdout"
        }
      ]
    },
    {
      "cell_type": "code",
      "metadata": {
        "id": "THH-1WpFKX2c",
        "colab_type": "code",
        "outputId": "2a14f7cc-cec3-421d-e227-83634e4ddb7f",
        "colab": {
          "base_uri": "https://localhost:8080/",
          "height": 463,
          "referenced_widgets": [
            "864802cdefed48b3b6b69bfba2f017ce",
            "254a2da29d6649b3ba9425aa6b0a3226",
            "db6c081f3ef0407fb66c5b9d2f087b01",
            "f9b98e7641054543a98374960790b92d",
            "c094d3d4fca441e5a5381792e4df0857",
            "2b0fccdd73e34918b740f337df58f51d",
            "cbe67b4ac4ca423d8d1153cc1d4958e1",
            "bad9b8107ec04472b537f1fbedc6bd66"
          ]
        }
      },
      "source": [
        "\n",
        "def for_reduction_camera_array(camera_list = camera_list):\n",
        "  ### 빈 array 미리 생성\n",
        "  max_0 = 3664\n",
        "  max_1 = 4220\n",
        "  result_array = np.zeros(  len(camera_list)* (max_0+max_1) ).reshape(  len(camera_list), (max_0+max_1)  )\n",
        "\n",
        "  from tqdm import tqdm_notebook\n",
        "  for i in tqdm_notebook(range( len(camera_list) ) ): # \n",
        "    player = 'player0'\n",
        "    result_list0 = []\n",
        "    if str(camera_list[i][player]) != 'nan':\n",
        "\n",
        "      for j in range( len( camera_list[i][player].tolist() )  ):\n",
        "          location_j = camera_list[i][player].tolist()[j]\n",
        "          result_list0 += location_j\n",
        "          ## result_list0 : i번째 게임에서 플레이어0의 모든 카메라 좌표들을 일렬로 세운거\n",
        "    else:\n",
        "      print(f'{i}번째 경기에서 player0의 카메라 없음')\n",
        "    result_list0 = result_list0 + np.zeros(max_0 - len(result_list0)).tolist()\n",
        "\n",
        "\n",
        "    player = 'player1'\n",
        "    result_list1 = []\n",
        "    if str(camera_list[i][player]) != 'nan':\n",
        "      for j in range( len( camera_list[i][player].tolist() )  ):\n",
        "          location_j = camera_list[i][player].tolist()[j]\n",
        "          result_list1 += location_j\n",
        "          ## result_list1 : i번째 게임에서 플레이어1의 모든 카메라 좌표들을 일렬로 세운거\n",
        "    else:\n",
        "      print(f'{i}번째 경기에서 player1의 카메라 없음')\n",
        "    result_list1 = result_list1 + np.zeros(max_1 - len(result_list1)).tolist()\n",
        "\n",
        "    ####### result_list0와 result_list1 모두 일렬로 합쳐버리기 => 게임 i번째에서의 카메라 리스트가 일렬이 됨.\n",
        "    result_list = result_list0 + result_list1\n",
        "    ### result_list를 ID 순서를 고려하여 result_array의 해당 row에 저장\n",
        "    result_array[i,:] = result_list\n",
        "  return result_array\n",
        "\n",
        "camera_array = for_reduction_camera_array(camera_list = camera_list)"
      ],
      "execution_count": 0,
      "outputs": [
        {
          "output_type": "display_data",
          "data": {
            "application/vnd.jupyter.widget-view+json": {
              "model_id": "864802cdefed48b3b6b69bfba2f017ce",
              "version_minor": 0,
              "version_major": 2
            },
            "text/plain": [
              "HBox(children=(IntProgress(value=0, max=38872), HTML(value='')))"
            ]
          },
          "metadata": {
            "tags": []
          }
        },
        {
          "output_type": "stream",
          "text": [
            "187번째 경기에서 player1의 카메라 없음\n",
            "10246번째 경기에서 player0의 카메라 없음\n",
            "12105번째 경기에서 player1의 카메라 없음\n",
            "13292번째 경기에서 player1의 카메라 없음\n",
            "14675번째 경기에서 player1의 카메라 없음\n",
            "17294번째 경기에서 player1의 카메라 없음\n",
            "21149번째 경기에서 player0의 카메라 없음\n",
            "23337번째 경기에서 player0의 카메라 없음\n",
            "24423번째 경기에서 player1의 카메라 없음\n",
            "24855번째 경기에서 player1의 카메라 없음\n",
            "24858번째 경기에서 player1의 카메라 없음\n",
            "25891번째 경기에서 player0의 카메라 없음\n",
            "26243번째 경기에서 player1의 카메라 없음\n",
            "26339번째 경기에서 player1의 카메라 없음\n",
            "27249번째 경기에서 player1의 카메라 없음\n",
            "27818번째 경기에서 player0의 카메라 없음\n",
            "32254번째 경기에서 player1의 카메라 없음\n",
            "33101번째 경기에서 player1의 카메라 없음\n",
            "34423번째 경기에서 player1의 카메라 없음\n",
            "34843번째 경기에서 player1의 카메라 없음\n",
            "35288번째 경기에서 player0의 카메라 없음\n",
            "37967번째 경기에서 player1의 카메라 없음\n",
            "\n"
          ],
          "name": "stdout"
        }
      ]
    },
    {
      "cell_type": "code",
      "metadata": {
        "id": "20AwDFRx_mTI",
        "colab_type": "code",
        "colab": {}
      },
      "source": [
        "pd.DataFrame(camera_array).to_pickle('camera_array.pkl')"
      ],
      "execution_count": 0,
      "outputs": []
    }
  ]
}