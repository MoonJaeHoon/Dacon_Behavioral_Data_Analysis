{
  "nbformat": 4,
  "nbformat_minor": 0,
  "metadata": {
    "colab": {
      "name": "4_1번_In_RightClick_정규식활용_Generating_Features.ipynb",
      "provenance": [],
      "collapsed_sections": [
        "_9LhJ7SnQhF8"
      ],
      "machine_shape": "hm",
      "include_colab_link": true
    },
    "kernelspec": {
      "name": "python3",
      "display_name": "Python 3"
    }
  },
  "cells": [
    {
      "cell_type": "markdown",
      "metadata": {
        "id": "view-in-github",
        "colab_type": "text"
      },
      "source": [
        "<a href=\"https://colab.research.google.com/github/MoonJaeHoon/Dacon_Behavioral_Data_Analysis/blob/master/4_1%EB%B2%88_In_RightClick_%EC%A0%95%EA%B7%9C%EC%8B%9D%ED%99%9C%EC%9A%A9_Generating_Features.ipynb\" target=\"_parent\"><img src=\"https://colab.research.google.com/assets/colab-badge.svg\" alt=\"Open In Colab\"/></a>"
      ]
    },
    {
      "cell_type": "code",
      "metadata": {
        "id": "f1HUBrsTiOXw",
        "colab_type": "code",
        "outputId": "cd81bfef-0918-442a-e87c-6d4cf5c009bc",
        "colab": {
          "base_uri": "https://localhost:8080/",
          "height": 127
        }
      },
      "source": [
        "from google.colab import drive\n",
        "drive.mount('/content/drive')"
      ],
      "execution_count": 0,
      "outputs": [
        {
          "output_type": "stream",
          "text": [
            "Go to this URL in a browser: https://accounts.google.com/o/oauth2/auth?client_id=947318989803-6bn6qk8qdgf4n4g3pfee6491hc0brc4i.apps.googleusercontent.com&redirect_uri=urn%3aietf%3awg%3aoauth%3a2.0%3aoob&response_type=code&scope=email%20https%3a%2f%2fwww.googleapis.com%2fauth%2fdocs.test%20https%3a%2f%2fwww.googleapis.com%2fauth%2fdrive%20https%3a%2f%2fwww.googleapis.com%2fauth%2fdrive.photos.readonly%20https%3a%2f%2fwww.googleapis.com%2fauth%2fpeopleapi.readonly\n",
            "\n",
            "Enter your authorization code:\n",
            "··········\n",
            "Mounted at /content/drive\n"
          ],
          "name": "stdout"
        }
      ]
    },
    {
      "cell_type": "code",
      "metadata": {
        "id": "nIF5I3jmiVci",
        "colab_type": "code",
        "outputId": "03102249-41e5-449d-956b-1532f99c06a5",
        "colab": {
          "base_uri": "https://localhost:8080/",
          "height": 125
        }
      },
      "source": [
        "import os\n",
        "print( '변경 전 기본 경로 :' )\n",
        "print(  os.getcwd() )\n",
        "os.chdir('./drive/My Drive/데이콘_게임데이터분석')\n",
        "print( '변경 후 파일 경로 :' )\n",
        "print(  os.getcwd()  )\n",
        "\n",
        "import numpy as np\n",
        "import pandas as pd\n",
        "\n",
        "from tqdm import tqdm_notebook              # 진행바\n",
        "from sklearn.metrics import roc_auc_score   # AUC 스코어 계산\n",
        "from sklearn.model_selection import KFold   # K-fold CV    \n",
        "#from bayes_opt import BayesianOptimization  # 베이지안 최적화 라이브러리  \n",
        "from functools import partial               # 함수 변수 고정\n",
        "import lightgbm as lgb                      # LightGBM 라이브러리\n",
        "import warnings                             \n",
        "warnings.filterwarnings(\"ignore\")           # 경고 문구 미표시\n",
        "%time\n",
        "train = pd.read_csv('./train.csv')\n",
        "\n",
        "#%time\n",
        "#test = pd.read_pickle('./test.pkl')"
      ],
      "execution_count": 0,
      "outputs": [
        {
          "output_type": "stream",
          "text": [
            "변경 전 기본 경로 :\n",
            "/content\n",
            "변경 후 파일 경로 :\n",
            "/content/drive/My Drive/데이콘_게임데이터분석\n",
            "CPU times: user 2 µs, sys: 1 µs, total: 3 µs\n",
            "Wall time: 5.01 µs\n"
          ],
          "name": "stdout"
        }
      ]
    },
    {
      "cell_type": "markdown",
      "metadata": {
        "id": "zkDkig6uFaCt",
        "colab_type": "text"
      },
      "source": [
        "## Train 으로부터 mytrain 데이터 생성"
      ]
    },
    {
      "cell_type": "code",
      "metadata": {
        "id": "fddJzomQX1ZW",
        "colab_type": "code",
        "outputId": "7a8f3629-e0b1-4728-b281-c661c62df746",
        "colab": {
          "base_uri": "https://localhost:8080/",
          "height": 233
        }
      },
      "source": [
        "Right = train.loc[train['event']=='Right Click',:]\n",
        "Right['event_contents'].value_counts()"
      ],
      "execution_count": 0,
      "outputs": [
        {
          "output_type": "execute_result",
          "data": {
            "text/plain": [
              "Target: None [00A80001]; Location: (18.0, 147.5, 49120)                              27042\n",
              "Target: None [00040001]; Location: (29.0, 15.5, 49104)                               25418\n",
              "Target: DestructibleSignsConstruction [00740001]; Location: (20.0, 128.5, 49136)     24670\n",
              "Target: DestructibleSignsConstruction [02580001]; Location: (157.0, 142.5, 49120)    22346\n",
              "Target: DestructibleSignsConstruction [00280001]; Location: (163.0, 15.5, 49088)     21714\n",
              "                                                                                     ...  \n",
              "Location: (34.037109375, 122.664794921875, 49137)                                        1\n",
              "Location: (120.57275390625, 54.349365234375, 40944)                                      1\n",
              "Location: (48.806396484375, 107.644775390625, 40941)                                     1\n",
              "Location: (156.521240234375, 50.44970703125, 32768)                                      1\n",
              "Location: (141.2587890625, 142.493896484375, 40933)                                      1\n",
              "Name: event_contents, Length: 9107652, dtype: int64"
            ]
          },
          "metadata": {
            "tags": []
          },
          "execution_count": 3
        }
      ]
    },
    {
      "cell_type": "code",
      "metadata": {
        "id": "Ayo2uTrUQg_O",
        "colab_type": "code",
        "outputId": "8c4761fc-3338-46a9-cbf6-fd04816d0b7b",
        "colab": {
          "base_uri": "https://localhost:8080/",
          "height": 233
        }
      },
      "source": [
        "import re\n",
        "def SUB(x):\n",
        "    result = re.sub(' ','',str(x)) + ','\n",
        "    #result = re.sub('[[0-9]+]',    '',     result)\n",
        "    result = re.sub(\"([\\(\\[]).*?([\\)\\]])\", \"\\g<1>\\g<2>\", result)\n",
        "    #result = re.sub('Location:.+',    'Location:',     result)\n",
        "    return result\n",
        "\n",
        "Right['event_contents'] = Right.apply(lambda x: SUB(x['event_contents']), axis=1)\n",
        "Right['event_contents'].value_counts()"
      ],
      "execution_count": 0,
      "outputs": [
        {
          "output_type": "execute_result",
          "data": {
            "text/plain": [
              "Location:(),                                           8889163\n",
              "Target:DestructibleSignsConstruction[];Location:(),     828419\n",
              "Target:None[];Location:(),                              627809\n",
              "Target:Assimilator[];Location:(),                       129630\n",
              "Target:Refinery[];Location:(),                          125320\n",
              "                                                        ...   \n",
              "Target:Infestor[];Location:(),                               3\n",
              "Target:AiurLightBridgeAbandonedNE8[];Location:(),            3\n",
              "Target:ChangelingMarineShield[];Location:(),                 2\n",
              "Target:HydraliskBurrowed[];Location:(),                      2\n",
              "Target:BroodLord[];Location:(),                              1\n",
              "Name: event_contents, Length: 176, dtype: int64"
            ]
          },
          "metadata": {
            "tags": []
          },
          "execution_count": 4
        }
      ]
    },
    {
      "cell_type": "code",
      "metadata": {
        "id": "DUcp1NmwNJPq",
        "colab_type": "code",
        "colab": {}
      },
      "source": [
        "game_id = train.game_id.unique().tolist()\n",
        "columns = ['text0','text1','winner']\n",
        "mytrain = np.zeros(len(game_id)*len(columns))\n",
        "mytrain = mytrain.reshape(len(game_id),len(columns))\n",
        "mytrain = pd.DataFrame(mytrain, columns=columns)\n",
        "mytrain.index = game_id\n",
        "mytrain.winner = train.loc[train['player']==0,:].groupby(    ['game_id'] )['winner'].max()\n",
        "mytrain.loc[:,'text0'] = Right.loc[Right['player']==0,:].loc[Right['event']=='Right Click',:].groupby(['game_id']).event_contents.sum()\n",
        "mytrain.loc[:,'text1'] = Right.loc[Right['player']==1,:].loc[Right['event']=='Right Click',:].groupby(['game_id']).event_contents.sum()\n",
        "del train\n",
        "del Right\n",
        "mytrain = mytrain.fillna('')\n"
      ],
      "execution_count": 0,
      "outputs": []
    },
    {
      "cell_type": "markdown",
      "metadata": {
        "id": "8JjM3HUWfUZy",
        "colab_type": "text"
      },
      "source": [
        "## Test 로부터 mytest 데이터 생성"
      ]
    },
    {
      "cell_type": "code",
      "metadata": {
        "id": "9V3k08cWfTy_",
        "colab_type": "code",
        "outputId": "d0fc175f-45ce-456f-c97f-0ba88e902e29",
        "colab": {
          "base_uri": "https://localhost:8080/",
          "height": 233
        }
      },
      "source": [
        "test = pd.read_csv('test.csv')\n",
        "Right = test.loc[test['event']=='Right Click',:]\n",
        "\n",
        "Right['event_contents'] = Right.apply(lambda x: SUB(x['event_contents']), axis=1)\n",
        "Right['event_contents'].value_counts()"
      ],
      "execution_count": 0,
      "outputs": [
        {
          "output_type": "execute_result",
          "data": {
            "text/plain": [
              "Location:(),                                           3791362\n",
              "Target:DestructibleSignsConstruction[];Location:(),     350819\n",
              "Target:None[];Location:(),                              268819\n",
              "Target:Refinery[];Location:(),                           54571\n",
              "Target:Assimilator[];Location:(),                        54353\n",
              "                                                        ...   \n",
              "Target:Ultralisk[];Location:(),                              2\n",
              "Target:Infestor[];Location:(),                               1\n",
              "Target:ChangelingMarineShield[];Location:(),                 1\n",
              "Target:LurkerEgg[];Location:(),                              1\n",
              "Target:BanelingBurrowed[];Location:(),                       1\n",
              "Name: event_contents, Length: 172, dtype: int64"
            ]
          },
          "metadata": {
            "tags": []
          },
          "execution_count": 6
        }
      ]
    },
    {
      "cell_type": "code",
      "metadata": {
        "id": "CzoqCPuJfZFr",
        "colab_type": "code",
        "colab": {}
      },
      "source": [
        "game_id = test.game_id.unique().tolist()\n",
        "columns = ['text0','text1']\n",
        "mytest = np.zeros(len(game_id)*len(columns))\n",
        "mytest = mytest.reshape(len(game_id),len(columns))\n",
        "mytest = pd.DataFrame(mytest, columns=columns)\n",
        "mytest.index = game_id\n",
        "\n",
        "mytest.loc[:,'text0'] = Right.loc[Right['player']==0,:].loc[Right['event']=='Right Click',:].groupby(['game_id']).event_contents.sum()\n",
        "mytest.loc[:,'text1'] = Right.loc[Right['player']==1,:].loc[Right['event']=='Right Click',:].groupby(['game_id']).event_contents.sum()\n",
        "del test\n",
        "del Right\n",
        "mytest = mytest.fillna('')\n"
      ],
      "execution_count": 0,
      "outputs": []
    },
    {
      "cell_type": "markdown",
      "metadata": {
        "id": "k8nRNgjVP6wl",
        "colab_type": "text"
      },
      "source": [
        "### 1. CountVevtorizer"
      ]
    },
    {
      "cell_type": "code",
      "metadata": {
        "id": "p2CeZLzAP-M_",
        "colab_type": "code",
        "outputId": "cef066e3-4f05-477f-8ec8-7d3c469219fd",
        "colab": {
          "base_uri": "https://localhost:8080/",
          "height": 71
        }
      },
      "source": [
        "from sklearn.feature_extraction.text import TfidfVectorizer\n",
        "from sklearn.pipeline import Pipeline\n",
        "from sklearn.metrics import accuracy_score, roc_auc_score\n",
        "import pandas as pd\n",
        "import numpy as np\n",
        "import pickle\n",
        "from sklearn.model_selection import train_test_split\n",
        "from nltk.corpus import stopwords\n",
        "from sklearn.feature_extraction.text import TfidfTransformer\n",
        "from sklearn.feature_extraction.text import CountVectorizer\n",
        "def tokenizer(text):\n",
        "    return text.split(',')\n",
        "\n",
        "########### 사용할 모수들 ###################\n",
        "min_df = 1\n",
        "ngram_range = (1,1)\n",
        "seed = 42\n",
        "\n",
        "######################## 데이터로부터 단어가방 생성 ####################\n",
        "vectorizer0 = CountVectorizer(min_df=min_df, ngram_range=ngram_range)\n",
        "revised_reviews0 = [' '.join(review.split(',')) for review in mytrain.text0]\n",
        "vector_reviews0 = vectorizer0.fit_transform(revised_reviews0)\n",
        "print(vector_reviews0.shape)\n",
        "\n",
        "vectorizer1 = CountVectorizer(min_df=min_df, ngram_range=ngram_range)\n",
        "revised_reviews1 = [' '.join(review.split(',')) for review in mytrain.text1]\n",
        "vector_reviews1 = vectorizer1.fit_transform(revised_reviews1)\n",
        "print(vector_reviews1.shape)\n",
        "\n",
        "player0 = pd.DataFrame(   vector_reviews0.toarray()*1, columns = vectorizer0.get_feature_names()  )\n",
        "player0 = player0.add_prefix('player0_')\n",
        "player1 = pd.DataFrame(   vector_reviews1.toarray()*1, columns = vectorizer1.get_feature_names()  )\n",
        "player1 = player1.add_prefix('player1_')\n",
        "X = pd.concat([player0,player1],axis=1)\n",
        "y = mytrain.winner\n",
        "print(X.shape)\n",
        "#del vectorizer0, vectorizer1, revised_reviews0, revised_reviews1, vector_reviews0, vector_reviews1\n",
        "#del player0, player1\n"
      ],
      "execution_count": 0,
      "outputs": [
        {
          "output_type": "stream",
          "text": [
            "(38872, 176)\n",
            "(38872, 175)\n",
            "(38872, 351)\n"
          ],
          "name": "stdout"
        }
      ]
    },
    {
      "cell_type": "code",
      "metadata": {
        "id": "h1ExZTO8wURN",
        "colab_type": "code",
        "outputId": "d8cc14cb-928f-4891-e7ca-96317ad58b6d",
        "colab": {
          "base_uri": "https://localhost:8080/",
          "height": 71
        }
      },
      "source": [
        "#del X_train, X_valid, y_train, y_valid\n",
        "########### 사용할 모수들 ###################\n",
        "ngram_range = (1,1)\n",
        "\n",
        "######################## 데이터로부터 단어가방 생성 ####################\n",
        "vectorizer0 = CountVectorizer(min_df=min_df, ngram_range=ngram_range)\n",
        "revised_reviews0 = [' '.join(review.split(',')) for review in mytest.text0]\n",
        "vector_reviews0 = vectorizer0.fit_transform(revised_reviews0)\n",
        "print(vector_reviews0.shape)\n",
        "\n",
        "vectorizer1 = CountVectorizer(min_df=min_df, ngram_range=ngram_range)\n",
        "revised_reviews1 = [' '.join(review.split(',')) for review in mytest.text1]\n",
        "vector_reviews1 = vectorizer1.fit_transform(revised_reviews1)\n",
        "print(vector_reviews1.shape)\n",
        "\n",
        "player0 = pd.DataFrame(   vector_reviews0.toarray()*1, columns = vectorizer0.get_feature_names()  )\n",
        "player0 = player0.add_prefix('player0_')\n",
        "player1 = pd.DataFrame(   vector_reviews1.toarray()*1, columns = vectorizer1.get_feature_names()  )\n",
        "player1 = player1.add_prefix('player1_')\n",
        "\n",
        "#del vectorizer0, vectorizer1, revised_reviews0, revised_reviews1, vector_reviews0, vector_reviews1\n",
        "\n",
        "X_test = pd.concat([player0,player1],axis=1)\n",
        "print(X_test.shape)\n",
        "\n",
        "#del player0, player1"
      ],
      "execution_count": 0,
      "outputs": [
        {
          "output_type": "stream",
          "text": [
            "(16787, 171)\n",
            "(16787, 167)\n",
            "(16787, 338)\n"
          ],
          "name": "stdout"
        }
      ]
    },
    {
      "cell_type": "code",
      "metadata": {
        "id": "wMAOgZTLwfQ2",
        "colab_type": "code",
        "outputId": "31a66aa4-e46f-4f1b-a4b8-f4b557d4a5b2",
        "colab": {
          "base_uri": "https://localhost:8080/",
          "height": 71
        }
      },
      "source": [
        "print(len(X.columns))\n",
        "print(len(X_test.columns))\n",
        "print(  len(    set(X.columns) & set(X_test.columns)   ) )\n",
        "\n",
        "use_col = list(    set(X.columns) & set(X_test.columns)   )\n",
        "\n",
        "X = X.loc[:,use_col]\n",
        "X_test = X_test.loc[:,use_col]"
      ],
      "execution_count": 0,
      "outputs": [
        {
          "output_type": "stream",
          "text": [
            "351\n",
            "338\n",
            "336\n"
          ],
          "name": "stdout"
        }
      ]
    },
    {
      "cell_type": "code",
      "metadata": {
        "id": "UU4CC7EvwWkT",
        "colab_type": "code",
        "outputId": "5349f1d9-1221-443f-9dfc-8fec7ef53c83",
        "colab": {
          "base_uri": "https://localhost:8080/",
          "height": 53
        }
      },
      "source": [
        "\n",
        "###################### 모델링 시작 #######################\n",
        "X_train, X_valid, y_train, y_valid = train_test_split(X, y,   stratify=y, random_state=seed)\n",
        "from sklearn.naive_bayes import BernoulliNB\n",
        "#model_bern = BernoulliNB().fit(X_train, y_train)\n",
        "from sklearn.naive_bayes import MultinomialNB\n",
        "#MNB = MultinomialNB(alpha=1).fit(X_train,y_train)\n",
        "from sklearn.ensemble import RandomForestClassifier\n",
        "rf = RandomForestClassifier(n_estimators=1000, random_state=seed).fit(X_train, y_train)\n",
        "print('랜포 학습완료')\n",
        "from lightgbm import LGBMClassifier\n",
        "lgbm = LGBMClassifier(random_state=seed).fit(X_train,y_train)\n",
        "print('LGBM 학습완료')"
      ],
      "execution_count": 0,
      "outputs": [
        {
          "output_type": "stream",
          "text": [
            "랜포 학습완료\n",
            "LGBM 학습완료\n"
          ],
          "name": "stdout"
        }
      ]
    },
    {
      "cell_type": "code",
      "metadata": {
        "id": "oKohTPrXb8kI",
        "colab_type": "code",
        "colab": {}
      },
      "source": [
        "## 랜포\n",
        "# Location 다 통일  min_df=1 : 0.6036 vs min_df=2 : 0.6054\n",
        "# Location 구별 min_df=50 : 0.5652\n",
        "y_pred = rf.predict_proba(X_valid)[:,1]\n",
        "print(rf)\n",
        "print(\"테스트 정확도: {:.4f}\".format(roc_auc_score(y_valid, y_pred)))\n",
        "\n",
        "## LGBM\n",
        "# Location 다 통일  min_df=1 : 0.6058 vs min_df=2 : 0.6058\n",
        "# Location 구별 min_df=50 : 0.5850\n",
        "y_pred = lgbm.predict_proba(X_valid)[:,1]\n",
        "print(lgbm)\n",
        "print(\"테스트 정확도: {:.4f}\".format(roc_auc_score(y_valid, y_pred)))"
      ],
      "execution_count": 0,
      "outputs": []
    },
    {
      "cell_type": "markdown",
      "metadata": {
        "id": "_9LhJ7SnQhF8",
        "colab_type": "text"
      },
      "source": [
        "### 2. TF-IDF"
      ]
    },
    {
      "cell_type": "code",
      "metadata": {
        "id": "nPbrCTLtQio-",
        "colab_type": "code",
        "outputId": "86c104b4-e2d6-4961-95ad-fa7c6276d96d",
        "colab": {
          "base_uri": "https://localhost:8080/",
          "height": 71
        }
      },
      "source": [
        "from sklearn.feature_extraction.text import TfidfVectorizer\n",
        "from sklearn.pipeline import Pipeline\n",
        "from sklearn.metrics import accuracy_score, roc_auc_score\n",
        "import pandas as pd\n",
        "import numpy as np\n",
        "import pickle\n",
        "from sklearn.model_selection import train_test_split\n",
        "from nltk.corpus import stopwords\n",
        "from sklearn.feature_extraction.text import TfidfTransformer\n",
        "from sklearn.feature_extraction.text import CountVectorizer\n",
        "def tokenizer(text):\n",
        "    return text.split(',')\n",
        "\n",
        "########### 사용할 모수들 ###################\n",
        "min_df = 1\n",
        "ngram_range = (1,1)\n",
        "seed = 42\n",
        "\n",
        "######################## 데이터로부터 단어가방 생성 ####################\n",
        "vectorizer0 = TfidfVectorizer(min_df=min_df, ngram_range=ngram_range)\n",
        "revised_reviews0 = [' '.join(review.split(',')) for review in mytrain.text0]\n",
        "vector_reviews0 = vectorizer0.fit_transform(revised_reviews0)\n",
        "print(vector_reviews0.shape)\n",
        "\n",
        "vectorizer1 = TfidfVectorizer(min_df=min_df, ngram_range=ngram_range)\n",
        "revised_reviews1 = [' '.join(review.split(',')) for review in mytrain.text1]\n",
        "vector_reviews1 = vectorizer1.fit_transform(revised_reviews1)\n",
        "print(vector_reviews1.shape)\n",
        "\n",
        "player0 = pd.DataFrame(   vector_reviews0.toarray()*1, columns = vectorizer0.get_feature_names()  )\n",
        "player0 = player0.add_prefix('player0_')\n",
        "player1 = pd.DataFrame(   vector_reviews1.toarray()*1, columns = vectorizer1.get_feature_names()  )\n",
        "player1 = player1.add_prefix('player1_')\n",
        "X = pd.concat([player0,player1],axis=1)\n",
        "y = mytrain.winner\n",
        "print(X.shape)\n",
        "#del vectorizer0, vectorizer1, revised_reviews0, revised_reviews1, vector_reviews0, vector_reviews1\n",
        "#del player0, player1\n"
      ],
      "execution_count": 0,
      "outputs": [
        {
          "output_type": "stream",
          "text": [
            "(38872, 176)\n",
            "(38872, 175)\n",
            "(38872, 351)\n"
          ],
          "name": "stdout"
        }
      ]
    },
    {
      "cell_type": "code",
      "metadata": {
        "id": "CqVn5eNjWP8m",
        "colab_type": "code",
        "outputId": "295797c0-79fe-44be-9aaf-127804652f78",
        "colab": {
          "base_uri": "https://localhost:8080/",
          "height": 71
        }
      },
      "source": [
        "#del X_train, X_valid, y_train, y_valid\n",
        "########### 사용할 모수들 ###################\n",
        "\n",
        "\n",
        "######################## 데이터로부터 단어가방 생성 ####################\n",
        "vectorizer0 = TfidfVectorizer(min_df=min_df, ngram_range=ngram_range)\n",
        "revised_reviews0 = [' '.join(review.split(',')) for review in mytest.text0]\n",
        "vector_reviews0 = vectorizer0.fit_transform(revised_reviews0)\n",
        "print(vector_reviews0.shape)\n",
        "\n",
        "vectorizer1 = TfidfVectorizer(min_df=min_df, ngram_range=ngram_range)\n",
        "revised_reviews1 = [' '.join(review.split(',')) for review in mytest.text1]\n",
        "vector_reviews1 = vectorizer1.fit_transform(revised_reviews1)\n",
        "print(vector_reviews1.shape)\n",
        "\n",
        "player0 = pd.DataFrame(   vector_reviews0.toarray()*1, columns = vectorizer0.get_feature_names()  )\n",
        "player0 = player0.add_prefix('player0_')\n",
        "player1 = pd.DataFrame(   vector_reviews1.toarray()*1, columns = vectorizer1.get_feature_names()  )\n",
        "player1 = player1.add_prefix('player1_')\n",
        "\n",
        "#del vectorizer0, vectorizer1, revised_reviews0, revised_reviews1, vector_reviews0, vector_reviews1\n",
        "\n",
        "X_test = pd.concat([player0,player1],axis=1)\n",
        "print(X_test.shape)\n",
        "\n",
        "#del player0, player1"
      ],
      "execution_count": 0,
      "outputs": [
        {
          "output_type": "stream",
          "text": [
            "(16787, 171)\n",
            "(16787, 167)\n",
            "(16787, 338)\n"
          ],
          "name": "stdout"
        }
      ]
    },
    {
      "cell_type": "code",
      "metadata": {
        "id": "UFQz7IfoZsSC",
        "colab_type": "code",
        "outputId": "5ef4816f-258b-4027-aee5-1b97a0398d4d",
        "colab": {
          "base_uri": "https://localhost:8080/",
          "height": 71
        }
      },
      "source": [
        "print(len(X.columns))\n",
        "print(len(X_test.columns))\n",
        "print(  len(    set(X.columns) & set(X_test.columns)   ) )\n",
        "\n",
        "use_col = list(    set(X.columns) & set(X_test.columns)   )\n",
        "\n",
        "X = X.loc[:,use_col]\n",
        "X_test = X_test.loc[:,use_col]"
      ],
      "execution_count": 0,
      "outputs": [
        {
          "output_type": "stream",
          "text": [
            "351\n",
            "338\n",
            "336\n"
          ],
          "name": "stdout"
        }
      ]
    },
    {
      "cell_type": "code",
      "metadata": {
        "id": "_JAh9NlTFWCf",
        "colab_type": "code",
        "outputId": "a06bf33b-70a7-44da-91ec-7dcafaa623f6",
        "colab": {
          "base_uri": "https://localhost:8080/",
          "height": 53
        }
      },
      "source": [
        "\n",
        "###################### 모델링 시작 #######################\n",
        "X_train, X_valid, y_train, y_valid = train_test_split(X, y,   stratify=y, random_state=seed)\n",
        "from sklearn.naive_bayes import BernoulliNB\n",
        "#model_bern = BernoulliNB().fit(X_train, y_train)\n",
        "from sklearn.naive_bayes import MultinomialNB\n",
        "#MNB = MultinomialNB(alpha=1).fit(X_train,y_train)\n",
        "from sklearn.ensemble import RandomForestClassifier\n",
        "rf = RandomForestClassifier(n_estimators=1000, random_state=seed).fit(X_train, y_train)\n",
        "print('랜포 학습완료')\n",
        "from lightgbm import LGBMClassifier\n",
        "lgbm = LGBMClassifier(random_state=seed).fit(X_train,y_train)\n",
        "print('LGBM 학습완료')"
      ],
      "execution_count": 0,
      "outputs": [
        {
          "output_type": "stream",
          "text": [
            "랜포 학습완료\n",
            "LGBM 학습완료\n"
          ],
          "name": "stdout"
        }
      ]
    },
    {
      "cell_type": "code",
      "metadata": {
        "id": "V5Kmcm4eFb1_",
        "colab_type": "code",
        "outputId": "4bd5c7ee-eaa1-4668-d767-d886db1694bb",
        "colab": {
          "base_uri": "https://localhost:8080/",
          "height": 305
        }
      },
      "source": [
        "## 랜포 #  min_df=1 : 0.5874 vs min_df=2 : \n",
        "y_pred = rf.predict_proba(X_valid)[:,1]\n",
        "print(rf)\n",
        "print(\"테스트 정확도: {:.4f}\".format(roc_auc_score(y_valid, y_pred)))\n",
        "\n",
        "## LGBM #  min_df=1 : 0.5840 vs min_df=2 :\n",
        "y_pred = lgbm.predict_proba(X_valid)[:,1]\n",
        "print(lgbm)\n",
        "print(\"테스트 정확도: {:.4f}\".format(roc_auc_score(y_valid, y_pred)))"
      ],
      "execution_count": 0,
      "outputs": [
        {
          "output_type": "stream",
          "text": [
            "RandomForestClassifier(bootstrap=True, ccp_alpha=0.0, class_weight=None,\n",
            "                       criterion='gini', max_depth=None, max_features='auto',\n",
            "                       max_leaf_nodes=None, max_samples=None,\n",
            "                       min_impurity_decrease=0.0, min_impurity_split=None,\n",
            "                       min_samples_leaf=1, min_samples_split=2,\n",
            "                       min_weight_fraction_leaf=0.0, n_estimators=1000,\n",
            "                       n_jobs=None, oob_score=False, random_state=42, verbose=0,\n",
            "                       warm_start=False)\n",
            "테스트 정확도: 0.5874\n",
            "LGBMClassifier(boosting_type='gbdt', class_weight=None, colsample_bytree=1.0,\n",
            "               importance_type='split', learning_rate=0.1, max_depth=-1,\n",
            "               min_child_samples=20, min_child_weight=0.001, min_split_gain=0.0,\n",
            "               n_estimators=100, n_jobs=-1, num_leaves=31, objective=None,\n",
            "               random_state=42, reg_alpha=0.0, reg_lambda=0.0, silent=True,\n",
            "               subsample=1.0, subsample_for_bin=200000, subsample_freq=0)\n",
            "테스트 정확도: 0.5840\n"
          ],
          "name": "stdout"
        }
      ]
    },
    {
      "cell_type": "markdown",
      "metadata": {
        "id": "-SFACZ16gQdW",
        "colab_type": "text"
      },
      "source": [
        "## (예측을 위함)테스트 데이터 단어가방 생성"
      ]
    },
    {
      "cell_type": "code",
      "metadata": {
        "id": "IZBYPXdsz9KU",
        "colab_type": "code",
        "outputId": "3aa05b75-d7ed-4049-a4f7-39f5da161a62",
        "colab": {
          "base_uri": "https://localhost:8080/",
          "height": 107
        }
      },
      "source": [
        "X_test.info()"
      ],
      "execution_count": 0,
      "outputs": [
        {
          "output_type": "stream",
          "text": [
            "<class 'pandas.core.frame.DataFrame'>\n",
            "RangeIndex: 16787 entries, 0 to 16786\n",
            "Columns: 336 entries, player1_cyberneticscore to player1_hydraliskden\n",
            "dtypes: int64(336)\n",
            "memory usage: 43.0 MB\n"
          ],
          "name": "stdout"
        }
      ]
    },
    {
      "cell_type": "code",
      "metadata": {
        "id": "HAMC00p-z6bY",
        "colab_type": "code",
        "colab": {}
      },
      "source": [
        "X.to_pickle('train_Right.pkl')"
      ],
      "execution_count": 0,
      "outputs": []
    },
    {
      "cell_type": "code",
      "metadata": {
        "id": "2ixtvxAsRSE2",
        "colab_type": "code",
        "colab": {}
      },
      "source": [
        "X_test.to_pickle('test_Right.pkl')"
      ],
      "execution_count": 0,
      "outputs": []
    },
    {
      "cell_type": "code",
      "metadata": {
        "id": "NQ04joGERZRV",
        "colab_type": "code",
        "outputId": "8ea17e45-e2eb-4947-b9be-0e98a119d793",
        "colab": {
          "base_uri": "https://localhost:8080/",
          "height": 160
        }
      },
      "source": [
        "X_test = pd.read_pickle('test_Right.pkl')\n",
        "X_test.head(2)"
      ],
      "execution_count": 0,
      "outputs": [
        {
          "output_type": "execute_result",
          "data": {
            "text/html": [
              "<div>\n",
              "<style scoped>\n",
              "    .dataframe tbody tr th:only-of-type {\n",
              "        vertical-align: middle;\n",
              "    }\n",
              "\n",
              "    .dataframe tbody tr th {\n",
              "        vertical-align: top;\n",
              "    }\n",
              "\n",
              "    .dataframe thead th {\n",
              "        text-align: right;\n",
              "    }\n",
              "</style>\n",
              "<table border=\"1\" class=\"dataframe\">\n",
              "  <thead>\n",
              "    <tr style=\"text-align: right;\">\n",
              "      <th></th>\n",
              "      <th>player0_starport</th>\n",
              "      <th>player0_roach</th>\n",
              "      <th>player0_barracksflying</th>\n",
              "      <th>player0_battlecruiser</th>\n",
              "      <th>player1_fungalgrowthmissile</th>\n",
              "      <th>player1_aiurlightbridgene8</th>\n",
              "      <th>player1_observer</th>\n",
              "      <th>player0_factorytechlab</th>\n",
              "      <th>player0_sporecrawler</th>\n",
              "      <th>player1_viking</th>\n",
              "      <th>player0_supplydepot</th>\n",
              "      <th>player1_armory</th>\n",
              "      <th>player0_stalker</th>\n",
              "      <th>player0_adeptpiercingweapon</th>\n",
              "      <th>player0_mutalisk</th>\n",
              "      <th>player0_assimilator</th>\n",
              "      <th>player0_barracksreactor</th>\n",
              "      <th>player0_engineeringbay</th>\n",
              "      <th>player0_changelingzergling</th>\n",
              "      <th>player0_extendingbridgenewide10out</th>\n",
              "      <th>player0_overseer</th>\n",
              "      <th>player0_sporecrawleruprooted</th>\n",
              "      <th>player1_commandcenter</th>\n",
              "      <th>player1_phoenix</th>\n",
              "      <th>player1_barracksflying</th>\n",
              "      <th>player1_warpgate</th>\n",
              "      <th>player1_warpprism</th>\n",
              "      <th>player0_locustmpflying</th>\n",
              "      <th>player0_fleetbeacon</th>\n",
              "      <th>player0_bunker</th>\n",
              "      <th>player0_immortal</th>\n",
              "      <th>player0_none</th>\n",
              "      <th>player1_factoryreactor</th>\n",
              "      <th>player1_swarmhost</th>\n",
              "      <th>player1_banshee</th>\n",
              "      <th>player1_zealot</th>\n",
              "      <th>player1_weapon</th>\n",
              "      <th>player1_corruptor</th>\n",
              "      <th>player1_beacon_terran</th>\n",
              "      <th>player1_extendingbridgenwwide8out</th>\n",
              "      <th>...</th>\n",
              "      <th>player0_disruptor</th>\n",
              "      <th>player0_aiurlightbridgeabandonedne10out</th>\n",
              "      <th>player1_broodlordweapon</th>\n",
              "      <th>player1_ravager</th>\n",
              "      <th>player1_pylon</th>\n",
              "      <th>player0_changelingzerglingwings</th>\n",
              "      <th>player1_darkshrine</th>\n",
              "      <th>player0_techlab</th>\n",
              "      <th>player0_bypassarmordrone</th>\n",
              "      <th>player0_weapon</th>\n",
              "      <th>player1_cyclonemissilelargeair</th>\n",
              "      <th>player0_fungalgrowthmissile</th>\n",
              "      <th>player0_creeptumorburrowed</th>\n",
              "      <th>player0_roboticsfacility</th>\n",
              "      <th>player0_queenburrowed</th>\n",
              "      <th>player1_queen</th>\n",
              "      <th>player1_siegetanksieged</th>\n",
              "      <th>player1_twilightcouncil</th>\n",
              "      <th>player0_drone</th>\n",
              "      <th>player0_banelingnest</th>\n",
              "      <th>player0_starporttechlab</th>\n",
              "      <th>player1_roboticsfacility</th>\n",
              "      <th>player0_planetaryfortress</th>\n",
              "      <th>player0_armory</th>\n",
              "      <th>player0_beacon_terran</th>\n",
              "      <th>player1_barracksreactor</th>\n",
              "      <th>player0_extractor</th>\n",
              "      <th>player1_roboticsbay</th>\n",
              "      <th>player0_aiurlightbridgene8</th>\n",
              "      <th>player1_sporecrawleruprooted</th>\n",
              "      <th>player1_techlab</th>\n",
              "      <th>player0_warpgate</th>\n",
              "      <th>player1_queenburrowed</th>\n",
              "      <th>player0_adept</th>\n",
              "      <th>player0_cyclonemissilelargeair</th>\n",
              "      <th>player0_orbitalcommand</th>\n",
              "      <th>player1_destructibleice2x6horizontal</th>\n",
              "      <th>player0_sensortower</th>\n",
              "      <th>player0_supplydepotlowered</th>\n",
              "      <th>player1_overlord</th>\n",
              "    </tr>\n",
              "  </thead>\n",
              "  <tbody>\n",
              "    <tr>\n",
              "      <th>0</th>\n",
              "      <td>0</td>\n",
              "      <td>0</td>\n",
              "      <td>0</td>\n",
              "      <td>0</td>\n",
              "      <td>0</td>\n",
              "      <td>0</td>\n",
              "      <td>0</td>\n",
              "      <td>0</td>\n",
              "      <td>0</td>\n",
              "      <td>0</td>\n",
              "      <td>0</td>\n",
              "      <td>0</td>\n",
              "      <td>0</td>\n",
              "      <td>0</td>\n",
              "      <td>0</td>\n",
              "      <td>8</td>\n",
              "      <td>0</td>\n",
              "      <td>0</td>\n",
              "      <td>0</td>\n",
              "      <td>0</td>\n",
              "      <td>0</td>\n",
              "      <td>0</td>\n",
              "      <td>0</td>\n",
              "      <td>0</td>\n",
              "      <td>0</td>\n",
              "      <td>0</td>\n",
              "      <td>0</td>\n",
              "      <td>0</td>\n",
              "      <td>0</td>\n",
              "      <td>0</td>\n",
              "      <td>0</td>\n",
              "      <td>18</td>\n",
              "      <td>0</td>\n",
              "      <td>0</td>\n",
              "      <td>0</td>\n",
              "      <td>0</td>\n",
              "      <td>0</td>\n",
              "      <td>0</td>\n",
              "      <td>0</td>\n",
              "      <td>0</td>\n",
              "      <td>...</td>\n",
              "      <td>0</td>\n",
              "      <td>0</td>\n",
              "      <td>0</td>\n",
              "      <td>0</td>\n",
              "      <td>0</td>\n",
              "      <td>0</td>\n",
              "      <td>0</td>\n",
              "      <td>0</td>\n",
              "      <td>0</td>\n",
              "      <td>0</td>\n",
              "      <td>0</td>\n",
              "      <td>0</td>\n",
              "      <td>0</td>\n",
              "      <td>0</td>\n",
              "      <td>0</td>\n",
              "      <td>0</td>\n",
              "      <td>0</td>\n",
              "      <td>0</td>\n",
              "      <td>0</td>\n",
              "      <td>0</td>\n",
              "      <td>0</td>\n",
              "      <td>0</td>\n",
              "      <td>0</td>\n",
              "      <td>0</td>\n",
              "      <td>0</td>\n",
              "      <td>0</td>\n",
              "      <td>0</td>\n",
              "      <td>0</td>\n",
              "      <td>0</td>\n",
              "      <td>0</td>\n",
              "      <td>0</td>\n",
              "      <td>0</td>\n",
              "      <td>0</td>\n",
              "      <td>0</td>\n",
              "      <td>0</td>\n",
              "      <td>0</td>\n",
              "      <td>0</td>\n",
              "      <td>0</td>\n",
              "      <td>0</td>\n",
              "      <td>0</td>\n",
              "    </tr>\n",
              "    <tr>\n",
              "      <th>1</th>\n",
              "      <td>0</td>\n",
              "      <td>0</td>\n",
              "      <td>0</td>\n",
              "      <td>0</td>\n",
              "      <td>0</td>\n",
              "      <td>0</td>\n",
              "      <td>0</td>\n",
              "      <td>0</td>\n",
              "      <td>0</td>\n",
              "      <td>0</td>\n",
              "      <td>0</td>\n",
              "      <td>0</td>\n",
              "      <td>0</td>\n",
              "      <td>0</td>\n",
              "      <td>0</td>\n",
              "      <td>0</td>\n",
              "      <td>0</td>\n",
              "      <td>0</td>\n",
              "      <td>0</td>\n",
              "      <td>0</td>\n",
              "      <td>0</td>\n",
              "      <td>0</td>\n",
              "      <td>0</td>\n",
              "      <td>0</td>\n",
              "      <td>0</td>\n",
              "      <td>0</td>\n",
              "      <td>0</td>\n",
              "      <td>0</td>\n",
              "      <td>0</td>\n",
              "      <td>0</td>\n",
              "      <td>0</td>\n",
              "      <td>0</td>\n",
              "      <td>0</td>\n",
              "      <td>0</td>\n",
              "      <td>0</td>\n",
              "      <td>0</td>\n",
              "      <td>0</td>\n",
              "      <td>0</td>\n",
              "      <td>0</td>\n",
              "      <td>0</td>\n",
              "      <td>...</td>\n",
              "      <td>0</td>\n",
              "      <td>0</td>\n",
              "      <td>0</td>\n",
              "      <td>0</td>\n",
              "      <td>0</td>\n",
              "      <td>0</td>\n",
              "      <td>0</td>\n",
              "      <td>0</td>\n",
              "      <td>0</td>\n",
              "      <td>0</td>\n",
              "      <td>0</td>\n",
              "      <td>0</td>\n",
              "      <td>0</td>\n",
              "      <td>0</td>\n",
              "      <td>0</td>\n",
              "      <td>0</td>\n",
              "      <td>0</td>\n",
              "      <td>0</td>\n",
              "      <td>0</td>\n",
              "      <td>0</td>\n",
              "      <td>0</td>\n",
              "      <td>0</td>\n",
              "      <td>0</td>\n",
              "      <td>0</td>\n",
              "      <td>0</td>\n",
              "      <td>0</td>\n",
              "      <td>2</td>\n",
              "      <td>0</td>\n",
              "      <td>0</td>\n",
              "      <td>0</td>\n",
              "      <td>0</td>\n",
              "      <td>0</td>\n",
              "      <td>0</td>\n",
              "      <td>0</td>\n",
              "      <td>0</td>\n",
              "      <td>0</td>\n",
              "      <td>0</td>\n",
              "      <td>0</td>\n",
              "      <td>0</td>\n",
              "      <td>0</td>\n",
              "    </tr>\n",
              "  </tbody>\n",
              "</table>\n",
              "<p>2 rows × 336 columns</p>\n",
              "</div>"
            ],
            "text/plain": [
              "   player0_starport  ...  player1_overlord\n",
              "0                 0  ...                 0\n",
              "1                 0  ...                 0\n",
              "\n",
              "[2 rows x 336 columns]"
            ]
          },
          "metadata": {
            "tags": []
          },
          "execution_count": 12
        }
      ]
    },
    {
      "cell_type": "code",
      "metadata": {
        "id": "Ac48tz8-gl_E",
        "colab_type": "code",
        "outputId": "7e29bab9-376e-4a2f-f903-04a5fc9e6048",
        "colab": {
          "base_uri": "https://localhost:8080/",
          "height": 235
        }
      },
      "source": [
        "pred = rf.predict_proba(X_test)[:,1]\n",
        "\n",
        "submission = pd.read_csv('sample_submission.csv', index_col=0)\n",
        "submission['winner'] = submission['winner'] + pred\n",
        "submission.to_csv('제출/텍스트전처리_RightClick만으로_단어임베딩만으로.csv', encoding='utf8')\n",
        "submission.head()"
      ],
      "execution_count": 0,
      "outputs": [
        {
          "output_type": "execute_result",
          "data": {
            "text/html": [
              "<div>\n",
              "<style scoped>\n",
              "    .dataframe tbody tr th:only-of-type {\n",
              "        vertical-align: middle;\n",
              "    }\n",
              "\n",
              "    .dataframe tbody tr th {\n",
              "        vertical-align: top;\n",
              "    }\n",
              "\n",
              "    .dataframe thead th {\n",
              "        text-align: right;\n",
              "    }\n",
              "</style>\n",
              "<table border=\"1\" class=\"dataframe\">\n",
              "  <thead>\n",
              "    <tr style=\"text-align: right;\">\n",
              "      <th></th>\n",
              "      <th>winner</th>\n",
              "    </tr>\n",
              "    <tr>\n",
              "      <th>game_id</th>\n",
              "      <th></th>\n",
              "    </tr>\n",
              "  </thead>\n",
              "  <tbody>\n",
              "    <tr>\n",
              "      <th>38872</th>\n",
              "      <td>0.362</td>\n",
              "    </tr>\n",
              "    <tr>\n",
              "      <th>38873</th>\n",
              "      <td>0.583</td>\n",
              "    </tr>\n",
              "    <tr>\n",
              "      <th>38874</th>\n",
              "      <td>0.562</td>\n",
              "    </tr>\n",
              "    <tr>\n",
              "      <th>38875</th>\n",
              "      <td>0.552</td>\n",
              "    </tr>\n",
              "    <tr>\n",
              "      <th>38876</th>\n",
              "      <td>0.432</td>\n",
              "    </tr>\n",
              "  </tbody>\n",
              "</table>\n",
              "</div>"
            ],
            "text/plain": [
              "         winner\n",
              "game_id        \n",
              "38872     0.362\n",
              "38873     0.583\n",
              "38874     0.562\n",
              "38875     0.552\n",
              "38876     0.432"
            ]
          },
          "metadata": {
            "tags": []
          },
          "execution_count": 34
        }
      ]
    },
    {
      "cell_type": "code",
      "metadata": {
        "id": "rW5X0jA1utPs",
        "colab_type": "code",
        "colab": {}
      },
      "source": [
        ""
      ],
      "execution_count": 0,
      "outputs": []
    }
  ]
}