{
  "nbformat": 4,
  "nbformat_minor": 0,
  "metadata": {
    "colab": {
      "name": "2_3번_In_Ability_정규식활용없이_Generating_Features.ipynb",
      "provenance": [],
      "collapsed_sections": [],
      "machine_shape": "hm",
      "include_colab_link": true
    },
    "kernelspec": {
      "name": "python3",
      "display_name": "Python 3"
    }
  },
  "cells": [
    {
      "cell_type": "markdown",
      "metadata": {
        "id": "view-in-github",
        "colab_type": "text"
      },
      "source": [
        "<a href=\"https://colab.research.google.com/github/MoonJaeHoon/Dacon_Behavioral_Data_Analysis/blob/master/2_3%EB%B2%88_In_Ability_%EC%A0%95%EA%B7%9C%EC%8B%9D%ED%99%9C%EC%9A%A9%EC%97%86%EC%9D%B4_Generating_Features.ipynb\" target=\"_parent\"><img src=\"https://colab.research.google.com/assets/colab-badge.svg\" alt=\"Open In Colab\"/></a>"
      ]
    },
    {
      "cell_type": "code",
      "metadata": {
        "id": "f1HUBrsTiOXw",
        "colab_type": "code",
        "outputId": "5bcca239-07aa-4739-e04a-5689cf4f24ee",
        "colab": {
          "base_uri": "https://localhost:8080/",
          "height": 127
        }
      },
      "source": [
        "from google.colab import drive\n",
        "drive.mount('/content/drive')"
      ],
      "execution_count": 0,
      "outputs": [
        {
          "output_type": "stream",
          "text": [
            "Go to this URL in a browser: https://accounts.google.com/o/oauth2/auth?client_id=947318989803-6bn6qk8qdgf4n4g3pfee6491hc0brc4i.apps.googleusercontent.com&redirect_uri=urn%3aietf%3awg%3aoauth%3a2.0%3aoob&response_type=code&scope=email%20https%3a%2f%2fwww.googleapis.com%2fauth%2fdocs.test%20https%3a%2f%2fwww.googleapis.com%2fauth%2fdrive%20https%3a%2f%2fwww.googleapis.com%2fauth%2fdrive.photos.readonly%20https%3a%2f%2fwww.googleapis.com%2fauth%2fpeopleapi.readonly\n",
            "\n",
            "Enter your authorization code:\n",
            "··········\n",
            "Mounted at /content/drive\n"
          ],
          "name": "stdout"
        }
      ]
    },
    {
      "cell_type": "code",
      "metadata": {
        "id": "nIF5I3jmiVci",
        "colab_type": "code",
        "outputId": "cf2a10b6-da05-4d4f-eacb-cebaf43df758",
        "colab": {
          "base_uri": "https://localhost:8080/",
          "height": 125
        }
      },
      "source": [
        "import os\n",
        "print( '변경 전 기본 경로 :' )\n",
        "print(  os.getcwd() )\n",
        "os.chdir('./drive/My Drive/데이콘_게임데이터분석')\n",
        "print( '변경 후 파일 경로 :' )\n",
        "print(  os.getcwd()  )\n",
        "\n",
        "import numpy as np\n",
        "import pandas as pd\n",
        "\n",
        "from tqdm import tqdm_notebook              # 진행바\n",
        "from sklearn.metrics import roc_auc_score   # AUC 스코어 계산\n",
        "from sklearn.model_selection import KFold   # K-fold CV    \n",
        "#from bayes_opt import BayesianOptimization  # 베이지안 최적화 라이브러리  \n",
        "from functools import partial               # 함수 변수 고정\n",
        "import lightgbm as lgb                      # LightGBM 라이브러리\n",
        "import warnings                             \n",
        "warnings.filterwarnings(\"ignore\")           # 경고 문구 미표시\n",
        "%time\n",
        "train = pd.read_csv('./train.csv')\n",
        "\n",
        "#%time\n",
        "#test = pd.read_pickle('./test.pkl')"
      ],
      "execution_count": 0,
      "outputs": [
        {
          "output_type": "stream",
          "text": [
            "변경 전 기본 경로 :\n",
            "/content\n",
            "변경 후 파일 경로 :\n",
            "/content/drive/My Drive/데이콘_게임데이터분석\n",
            "CPU times: user 2 µs, sys: 1 µs, total: 3 µs\n",
            "Wall time: 4.77 µs\n"
          ],
          "name": "stdout"
        }
      ]
    },
    {
      "cell_type": "markdown",
      "metadata": {
        "id": "zkDkig6uFaCt",
        "colab_type": "text"
      },
      "source": [
        "## Train 으로부터 mytrain 데이터 생성"
      ]
    },
    {
      "cell_type": "code",
      "metadata": {
        "id": "Ayo2uTrUQg_O",
        "colab_type": "code",
        "outputId": "063a4bf8-67ab-4c7c-b7f4-5f58dbcbe61e",
        "colab": {
          "base_uri": "https://localhost:8080/",
          "height": 233
        }
      },
      "source": [
        "Ability = train.loc[train['event']=='Ability',:]\n",
        "import re\n",
        "def SUB(x):\n",
        "    result = re.sub(' ','',str(x)) + ','\n",
        "    result = re.sub('[;]','_',result)\n",
        "    result = re.sub('[:]','_',result)\n",
        "    #result = re.sub('[[0-9]+]',    '',     result)\n",
        "    #result = re.sub(\"([\\(\\[]).*?([\\)\\]])\", \"\\g<1>\\g<2>\", result)\n",
        "    #result = re.sub('Location:.+',    'Location:',     result)\n",
        "    return result\n",
        "\n",
        "Ability['event_contents'] = Ability.apply(lambda x: SUB(x['event_contents']), axis=1)\n",
        "Ability['event_contents'].value_counts()"
      ],
      "execution_count": 0,
      "outputs": [
        {
          "output_type": "execute_result",
          "data": {
            "text/plain": [
              "(1360)-TrainSCV,                                                           350376\n",
              "(1820)-MorphDrone,                                                         287254\n",
              "(15E0)-TrainProbe,                                                         258765\n",
              "(13E0)-TrainMarine,                                                        134801\n",
              "(1822)-MorphOverlord,                                                       90700\n",
              "                                                                            ...  \n",
              "(1AC5)-WarpInSentry_Location_(69.760986328125,113.34814453125,40912),           1\n",
              "(5A0)-Attack_Location_(140.83935546875,81.169677734375,32556),                  1\n",
              "(5A0)-Attack_Location_(144.671630859375,52.86572265625,40907),                  1\n",
              "(1160)-ScannerSweep_Location_(122.098388671875,142.302001953125,49124),         1\n",
              "(1160)-ScannerSweep_Location_(23.80859375,19.069580078125,49105),               1\n",
              "Name: event_contents, Length: 906693, dtype: int64"
            ]
          },
          "metadata": {
            "tags": []
          },
          "execution_count": 3
        }
      ]
    },
    {
      "cell_type": "code",
      "metadata": {
        "id": "DUcp1NmwNJPq",
        "colab_type": "code",
        "colab": {}
      },
      "source": [
        "game_id = train.game_id.unique().tolist()\n",
        "columns = ['text0','text1','winner']\n",
        "mytrain = np.zeros(len(game_id)*len(columns))\n",
        "mytrain = mytrain.reshape(len(game_id),len(columns))\n",
        "mytrain = pd.DataFrame(mytrain, columns=columns)\n",
        "mytrain.index = game_id\n",
        "mytrain.winner = train.loc[train['player']==0,:].groupby(    ['game_id'] )['winner'].max()\n",
        "mytrain.loc[:,'text0'] = Ability.loc[Ability['player']==0,:].loc[Ability['event']=='Ability',:].groupby(['game_id']).event_contents.sum()\n",
        "mytrain.loc[:,'text1'] = Ability.loc[Ability['player']==1,:].loc[Ability['event']=='Ability',:].groupby(['game_id']).event_contents.sum()\n",
        "del train\n",
        "del Ability\n",
        "mytrain = mytrain.fillna('')\n"
      ],
      "execution_count": 0,
      "outputs": []
    },
    {
      "cell_type": "markdown",
      "metadata": {
        "id": "8JjM3HUWfUZy",
        "colab_type": "text"
      },
      "source": [
        "## Test 로부터 mytest 데이터 생성"
      ]
    },
    {
      "cell_type": "code",
      "metadata": {
        "id": "9V3k08cWfTy_",
        "colab_type": "code",
        "outputId": "ee68e29e-7b8d-465b-dc7c-e3bee3d111f8",
        "colab": {
          "base_uri": "https://localhost:8080/",
          "height": 233
        }
      },
      "source": [
        "test = pd.read_csv('test.csv')\n",
        "Ability = test.loc[test['event']=='Ability',:]\n",
        "\n",
        "Ability['event_contents'] = Ability.apply(lambda x: SUB(x['event_contents']), axis=1)\n",
        "Ability['event_contents'].value_counts()"
      ],
      "execution_count": 0,
      "outputs": [
        {
          "output_type": "execute_result",
          "data": {
            "text/plain": [
              "(1360)-TrainSCV,                                                                         153269\n",
              "(1820)-MorphDrone,                                                                       122634\n",
              "(15E0)-TrainProbe,                                                                       110138\n",
              "(13E0)-TrainMarine,                                                                       58875\n",
              "(1822)-MorphOverlord,                                                                     38779\n",
              "                                                                                          ...  \n",
              "(1AC1)-WarpInStalker_Location_(117.087890625,142.580322265625,49122),                         1\n",
              "(5A0)-Attack_Target_Drone[04000001]_Location_(146.38037109375,22.727294921875,49120),         1\n",
              "(1142)-UnloadTargetMedivac_Location_(153.00390625,15.556640625,49136),                        1\n",
              "(5A0)-Attack_Location_(144.08740234375,44.3408203125,40941),                                  1\n",
              "(5A0)-Attack_Location_(117.12255859375,57.51611328125,40943),                                 1\n",
              "Name: event_contents, Length: 429287, dtype: int64"
            ]
          },
          "metadata": {
            "tags": []
          },
          "execution_count": 5
        }
      ]
    },
    {
      "cell_type": "code",
      "metadata": {
        "id": "CzoqCPuJfZFr",
        "colab_type": "code",
        "colab": {}
      },
      "source": [
        "game_id = test.game_id.unique().tolist()\n",
        "columns = ['text0','text1']\n",
        "mytest = np.zeros(len(game_id)*len(columns))\n",
        "mytest = mytest.reshape(len(game_id),len(columns))\n",
        "mytest = pd.DataFrame(mytest, columns=columns)\n",
        "mytest.index = game_id\n",
        "\n",
        "mytest.loc[:,'text0'] = Ability.loc[Ability['player']==0,:].loc[Ability['event']=='Ability',:].groupby(['game_id']).event_contents.sum()\n",
        "mytest.loc[:,'text1'] = Ability.loc[Ability['player']==1,:].loc[Ability['event']=='Ability',:].groupby(['game_id']).event_contents.sum()\n",
        "del test\n",
        "del Ability\n",
        "mytest = mytest.fillna('')\n"
      ],
      "execution_count": 0,
      "outputs": []
    },
    {
      "cell_type": "markdown",
      "metadata": {
        "id": "anbjc5CjPwZy",
        "colab_type": "text"
      },
      "source": [
        "## PipeLine 없이 모델링"
      ]
    },
    {
      "cell_type": "markdown",
      "metadata": {
        "id": "k8nRNgjVP6wl",
        "colab_type": "text"
      },
      "source": [
        "### 1. CountVevtorizer"
      ]
    },
    {
      "cell_type": "code",
      "metadata": {
        "id": "p2CeZLzAP-M_",
        "colab_type": "code",
        "outputId": "ccdf0537-c290-48cb-cb19-4c91e0a575d7",
        "colab": {
          "base_uri": "https://localhost:8080/",
          "height": 71
        }
      },
      "source": [
        "from sklearn.feature_extraction.text import TfidfVectorizer\n",
        "from sklearn.pipeline import Pipeline\n",
        "from sklearn.metrics import accuracy_score, roc_auc_score\n",
        "import pandas as pd\n",
        "import numpy as np\n",
        "import pickle\n",
        "from sklearn.model_selection import train_test_split\n",
        "from nltk.corpus import stopwords\n",
        "from sklearn.feature_extraction.text import TfidfTransformer\n",
        "from sklearn.feature_extraction.text import CountVectorizer\n",
        "def tokenizer(text):\n",
        "    return text.split(',')\n",
        "\n",
        "########### 사용할 모수들 ###################\n",
        "min_df = 400\n",
        "ngram_range = (1,1)\n",
        "seed = 42\n",
        "\n",
        "######################## 데이터로부터 단어가방 생성 ####################\n",
        "vectorizer0 = CountVectorizer(min_df=min_df, ngram_range=ngram_range)\n",
        "revised_reviews0 = [' '.join(review.split(',')) for review in mytrain.text0]\n",
        "vector_reviews0 = vectorizer0.fit_transform(revised_reviews0)\n",
        "print(vector_reviews0.shape)\n",
        "\n",
        "vectorizer1 = CountVectorizer(min_df=min_df, ngram_range=ngram_range)\n",
        "revised_reviews1 = [' '.join(review.split(',')) for review in mytrain.text1]\n",
        "vector_reviews1 = vectorizer1.fit_transform(revised_reviews1)\n",
        "print(vector_reviews1.shape)\n",
        "\n",
        "player0 = pd.DataFrame(   vector_reviews0.toarray()*1, columns = vectorizer0.get_feature_names()  )\n",
        "player0 = player0.add_prefix('player0_')\n",
        "player1 = pd.DataFrame(   vector_reviews1.toarray()*1, columns = vectorizer1.get_feature_names()  )\n",
        "player1 = player1.add_prefix('player1_')\n",
        "X = pd.concat([player0,player1],axis=1)\n",
        "y = mytrain.winner\n",
        "print(X.shape)\n",
        "del vectorizer0, vectorizer1, revised_reviews0, revised_reviews1, vector_reviews0, vector_reviews1\n",
        "del player0, player1\n"
      ],
      "execution_count": 0,
      "outputs": [
        {
          "output_type": "stream",
          "text": [
            "(38872, 750)\n",
            "(38872, 757)\n",
            "(38872, 1507)\n"
          ],
          "name": "stdout"
        }
      ]
    },
    {
      "cell_type": "code",
      "metadata": {
        "id": "h1ExZTO8wURN",
        "colab_type": "code",
        "outputId": "a0f49f24-5d68-45b0-8171-bd6175028297",
        "colab": {
          "base_uri": "https://localhost:8080/",
          "height": 71
        }
      },
      "source": [
        "#del X_train, X_valid, y_train, y_valid\n",
        "########### 사용할 모수들 ###################\n",
        "min_df = 80\n",
        "seed = 42\n",
        "\n",
        "######################## 데이터로부터 단어가방 생성 ####################\n",
        "vectorizer0 = CountVectorizer(min_df=min_df, ngram_range=ngram_range)\n",
        "revised_reviews0 = [' '.join(review.split(',')) for review in mytest.text0]\n",
        "vector_reviews0 = vectorizer0.fit_transform(revised_reviews0)\n",
        "print(vector_reviews0.shape)\n",
        "\n",
        "vectorizer1 = CountVectorizer(min_df=min_df, ngram_range=ngram_range)\n",
        "revised_reviews1 = [' '.join(review.split(',')) for review in mytest.text1]\n",
        "vector_reviews1 = vectorizer1.fit_transform(revised_reviews1)\n",
        "print(vector_reviews1.shape)\n",
        "\n",
        "player0 = pd.DataFrame(   vector_reviews0.toarray()*1, columns = vectorizer0.get_feature_names()  )\n",
        "player0 = player0.add_prefix('player0_')\n",
        "player1 = pd.DataFrame(   vector_reviews1.toarray()*1, columns = vectorizer1.get_feature_names()  )\n",
        "player1 = player1.add_prefix('player1_')\n",
        "\n",
        "del vectorizer0, vectorizer1, revised_reviews0, revised_reviews1, vector_reviews0, vector_reviews1\n",
        "\n",
        "X_test = pd.concat([player0,player1],axis=1)\n",
        "print(X_test.shape)\n",
        "\n",
        "del player0, player1"
      ],
      "execution_count": 0,
      "outputs": [
        {
          "output_type": "stream",
          "text": [
            "(16787, 1417)\n",
            "(16787, 1438)\n",
            "(16787, 2855)\n"
          ],
          "name": "stdout"
        }
      ]
    },
    {
      "cell_type": "code",
      "metadata": {
        "id": "wMAOgZTLwfQ2",
        "colab_type": "code",
        "outputId": "53734e7e-634d-49ab-b3f0-f1025ffc1d0e",
        "colab": {
          "base_uri": "https://localhost:8080/",
          "height": 71
        }
      },
      "source": [
        "print(len(X.columns))\n",
        "print(len(X_test.columns))\n",
        "print(  len(    set(X.columns) & set(X_test.columns)   ) )\n",
        "\n",
        "use_col = list(    set(X.columns) & set(X_test.columns)   )\n",
        "\n",
        "X = X.loc[:,use_col]\n",
        "X_test = X_test.loc[:,use_col]"
      ],
      "execution_count": 0,
      "outputs": [
        {
          "output_type": "stream",
          "text": [
            "1507\n",
            "2855\n",
            "1507\n"
          ],
          "name": "stdout"
        }
      ]
    },
    {
      "cell_type": "markdown",
      "metadata": {
        "id": "4Ye0oMGnhP5o",
        "colab_type": "text"
      },
      "source": [
        "## 단어임베딩 저장한 pkl 불러와서 Training"
      ]
    },
    {
      "cell_type": "code",
      "metadata": {
        "id": "oKohTPrXb8kI",
        "colab_type": "code",
        "outputId": "92cf5ef4-fa36-4d1d-8613-47ba66de817a",
        "colab": {
          "base_uri": "https://localhost:8080/",
          "height": 305
        }
      },
      "source": [
        "## min_df=400\n",
        "\n",
        "## 랜포 #  ngram (1,1) : 0.6883 \n",
        "y_pred = rf.predict_proba(X_valid)[:,1]\n",
        "print(rf)\n",
        "print(\"테스트 정확도: {:.4f}\".format(roc_auc_score(y_valid, y_pred)))\n",
        "\n",
        "## LGBM #  ngram (1,1) : 0.6824\n",
        "y_pred = lgbm.predict_proba(X_valid)[:,1]\n",
        "print(lgbm)\n",
        "print(\"테스트 정확도: {:.4f}\".format(roc_auc_score(y_valid, y_pred)))"
      ],
      "execution_count": 0,
      "outputs": [
        {
          "output_type": "stream",
          "text": [
            "RandomForestClassifier(bootstrap=True, ccp_alpha=0.0, class_weight=None,\n",
            "                       criterion='gini', max_depth=None, max_features='auto',\n",
            "                       max_leaf_nodes=None, max_samples=None,\n",
            "                       min_impurity_decrease=0.0, min_impurity_split=None,\n",
            "                       min_samples_leaf=1, min_samples_split=2,\n",
            "                       min_weight_fraction_leaf=0.0, n_estimators=1000,\n",
            "                       n_jobs=None, oob_score=False, random_state=42, verbose=0,\n",
            "                       warm_start=False)\n",
            "테스트 정확도: 0.6839\n",
            "LGBMClassifier(boosting_type='gbdt', class_weight=None, colsample_bytree=1.0,\n",
            "               importance_type='split', learning_rate=0.1, max_depth=-1,\n",
            "               min_child_samples=20, min_child_weight=0.001, min_split_gain=0.0,\n",
            "               n_estimators=100, n_jobs=-1, num_leaves=31, objective=None,\n",
            "               random_state=42, reg_alpha=0.0, reg_lambda=0.0, silent=True,\n",
            "               subsample=1.0, subsample_for_bin=200000, subsample_freq=0)\n",
            "테스트 정확도: 0.6651\n"
          ],
          "name": "stdout"
        }
      ]
    },
    {
      "cell_type": "code",
      "metadata": {
        "id": "YtnZ6ZhT8apR",
        "colab_type": "code",
        "outputId": "833c3e4f-8ba7-4390-d659-df9e649c632d",
        "colab": {
          "base_uri": "https://localhost:8080/",
          "height": 160
        }
      },
      "source": [
        "X = X.add_prefix('raw_')\n",
        "X_test = X_test.add_prefix('raw_')\n",
        "\n",
        "print(X.shape)\n",
        "print(X_test.shape)\n",
        "\n",
        "X.head(2)\n",
        "X_test.head(2)"
      ],
      "execution_count": 0,
      "outputs": [
        {
          "output_type": "execute_result",
          "data": {
            "text/html": [
              "<div>\n",
              "<style scoped>\n",
              "    .dataframe tbody tr th:only-of-type {\n",
              "        vertical-align: middle;\n",
              "    }\n",
              "\n",
              "    .dataframe tbody tr th {\n",
              "        vertical-align: top;\n",
              "    }\n",
              "\n",
              "    .dataframe thead th {\n",
              "        text-align: right;\n",
              "    }\n",
              "</style>\n",
              "<table border=\"1\" class=\"dataframe\">\n",
              "  <thead>\n",
              "    <tr style=\"text-align: right;\">\n",
              "      <th></th>\n",
              "      <th>player0_40939</th>\n",
              "      <th>player1_01c80001</th>\n",
              "      <th>player0_1cc0</th>\n",
              "      <th>player0_68</th>\n",
              "      <th>player1_00240001</th>\n",
              "      <th>player0_34</th>\n",
              "      <th>player0_163</th>\n",
              "      <th>player0_1026</th>\n",
              "      <th>player0_02180001</th>\n",
              "      <th>player0_03d00001</th>\n",
              "      <th>player0_03bc0001</th>\n",
              "      <th>player0_50</th>\n",
              "      <th>player0_147</th>\n",
              "      <th>player1_1426</th>\n",
              "      <th>player1_74</th>\n",
              "      <th>player1_17a3</th>\n",
              "      <th>player1_00d40001</th>\n",
              "      <th>player0_040c0001</th>\n",
              "      <th>player0_17a3</th>\n",
              "      <th>player1_47</th>\n",
              "      <th>player1_1c80</th>\n",
              "      <th>player0_setrallypoint_location_</th>\n",
              "      <th>player1_87</th>\n",
              "      <th>player0_16e6</th>\n",
              "      <th>player0_49097</th>\n",
              "      <th>player1_03240001</th>\n",
              "      <th>player0_rootspinecrawler_location_</th>\n",
              "      <th>player0_01ac0001</th>\n",
              "      <th>player0_1261</th>\n",
              "      <th>player1_77</th>\n",
              "      <th>player0_59</th>\n",
              "      <th>player0_1542</th>\n",
              "      <th>player1_warpinstalker_location_</th>\n",
              "      <th>player0_49135</th>\n",
              "      <th>player1_researchevolvemuscularaugments</th>\n",
              "      <th>player0_upgradeterraninfantryarmor1</th>\n",
              "      <th>player0_107</th>\n",
              "      <th>player1_buildhydraliskden_location_</th>\n",
              "      <th>player0_00fc0001</th>\n",
              "      <th>player1_03b00001</th>\n",
              "      <th>...</th>\n",
              "      <th>player1_40936</th>\n",
              "      <th>player0_3480</th>\n",
              "      <th>player1_41845703125</th>\n",
              "      <th>player1_1142</th>\n",
              "      <th>player0_028c0001</th>\n",
              "      <th>player1_extrasupplies_target_supplydepot</th>\n",
              "      <th>player0_101</th>\n",
              "      <th>player1_03cc0001</th>\n",
              "      <th>player1_01980001</th>\n",
              "      <th>player1_18</th>\n",
              "      <th>player0_110</th>\n",
              "      <th>player0_upgradevehicleweapons1</th>\n",
              "      <th>player0_03a00001</th>\n",
              "      <th>player1_4160</th>\n",
              "      <th>player0_1820</th>\n",
              "      <th>player0_49122</th>\n",
              "      <th>player1_49103</th>\n",
              "      <th>player1_20a0</th>\n",
              "      <th>player0_2120</th>\n",
              "      <th>player1_00200001</th>\n",
              "      <th>player1_queentransfusion_target_queen</th>\n",
              "      <th>player1_chronoboost_target_stargate</th>\n",
              "      <th>player0_buildassimilator_target_creeponlyblocker4x4</th>\n",
              "      <th>player0_31</th>\n",
              "      <th>player1_480</th>\n",
              "      <th>player0_40931</th>\n",
              "      <th>player1_16ee</th>\n",
              "      <th>player0_01640001</th>\n",
              "      <th>player0_evolvecentrifugalhooks</th>\n",
              "      <th>player1_03a40001</th>\n",
              "      <th>player1_627685546875</th>\n",
              "      <th>player1_attack_target_overlord</th>\n",
              "      <th>player1_171</th>\n",
              "      <th>player1_setworkerrally_target_none</th>\n",
              "      <th>player1_52</th>\n",
              "      <th>player0_02dc0001</th>\n",
              "      <th>player1_1160</th>\n",
              "      <th>player0_03680001</th>\n",
              "      <th>player0_133</th>\n",
              "      <th>player1_15a0</th>\n",
              "    </tr>\n",
              "  </thead>\n",
              "  <tbody>\n",
              "    <tr>\n",
              "      <th>0</th>\n",
              "      <td>0</td>\n",
              "      <td>0</td>\n",
              "      <td>0</td>\n",
              "      <td>0</td>\n",
              "      <td>0</td>\n",
              "      <td>2</td>\n",
              "      <td>0</td>\n",
              "      <td>0</td>\n",
              "      <td>0</td>\n",
              "      <td>0</td>\n",
              "      <td>0</td>\n",
              "      <td>0</td>\n",
              "      <td>0</td>\n",
              "      <td>0</td>\n",
              "      <td>0</td>\n",
              "      <td>0</td>\n",
              "      <td>0</td>\n",
              "      <td>0</td>\n",
              "      <td>0</td>\n",
              "      <td>0</td>\n",
              "      <td>0</td>\n",
              "      <td>0</td>\n",
              "      <td>0</td>\n",
              "      <td>0</td>\n",
              "      <td>0</td>\n",
              "      <td>0</td>\n",
              "      <td>0</td>\n",
              "      <td>0</td>\n",
              "      <td>0</td>\n",
              "      <td>0</td>\n",
              "      <td>0</td>\n",
              "      <td>2</td>\n",
              "      <td>0</td>\n",
              "      <td>0</td>\n",
              "      <td>0</td>\n",
              "      <td>0</td>\n",
              "      <td>0</td>\n",
              "      <td>0</td>\n",
              "      <td>0</td>\n",
              "      <td>0</td>\n",
              "      <td>...</td>\n",
              "      <td>0</td>\n",
              "      <td>0</td>\n",
              "      <td>0</td>\n",
              "      <td>0</td>\n",
              "      <td>0</td>\n",
              "      <td>0</td>\n",
              "      <td>0</td>\n",
              "      <td>0</td>\n",
              "      <td>0</td>\n",
              "      <td>0</td>\n",
              "      <td>0</td>\n",
              "      <td>0</td>\n",
              "      <td>0</td>\n",
              "      <td>0</td>\n",
              "      <td>0</td>\n",
              "      <td>2</td>\n",
              "      <td>0</td>\n",
              "      <td>0</td>\n",
              "      <td>0</td>\n",
              "      <td>0</td>\n",
              "      <td>0</td>\n",
              "      <td>0</td>\n",
              "      <td>0</td>\n",
              "      <td>0</td>\n",
              "      <td>0</td>\n",
              "      <td>2</td>\n",
              "      <td>0</td>\n",
              "      <td>0</td>\n",
              "      <td>0</td>\n",
              "      <td>0</td>\n",
              "      <td>0</td>\n",
              "      <td>0</td>\n",
              "      <td>0</td>\n",
              "      <td>0</td>\n",
              "      <td>0</td>\n",
              "      <td>0</td>\n",
              "      <td>0</td>\n",
              "      <td>1</td>\n",
              "      <td>0</td>\n",
              "      <td>0</td>\n",
              "    </tr>\n",
              "    <tr>\n",
              "      <th>1</th>\n",
              "      <td>0</td>\n",
              "      <td>0</td>\n",
              "      <td>0</td>\n",
              "      <td>0</td>\n",
              "      <td>0</td>\n",
              "      <td>0</td>\n",
              "      <td>0</td>\n",
              "      <td>0</td>\n",
              "      <td>0</td>\n",
              "      <td>0</td>\n",
              "      <td>0</td>\n",
              "      <td>0</td>\n",
              "      <td>0</td>\n",
              "      <td>0</td>\n",
              "      <td>0</td>\n",
              "      <td>0</td>\n",
              "      <td>0</td>\n",
              "      <td>0</td>\n",
              "      <td>0</td>\n",
              "      <td>2</td>\n",
              "      <td>0</td>\n",
              "      <td>0</td>\n",
              "      <td>0</td>\n",
              "      <td>0</td>\n",
              "      <td>0</td>\n",
              "      <td>0</td>\n",
              "      <td>0</td>\n",
              "      <td>0</td>\n",
              "      <td>0</td>\n",
              "      <td>0</td>\n",
              "      <td>0</td>\n",
              "      <td>0</td>\n",
              "      <td>0</td>\n",
              "      <td>0</td>\n",
              "      <td>0</td>\n",
              "      <td>0</td>\n",
              "      <td>0</td>\n",
              "      <td>0</td>\n",
              "      <td>0</td>\n",
              "      <td>0</td>\n",
              "      <td>...</td>\n",
              "      <td>0</td>\n",
              "      <td>0</td>\n",
              "      <td>0</td>\n",
              "      <td>0</td>\n",
              "      <td>0</td>\n",
              "      <td>0</td>\n",
              "      <td>0</td>\n",
              "      <td>0</td>\n",
              "      <td>0</td>\n",
              "      <td>0</td>\n",
              "      <td>0</td>\n",
              "      <td>0</td>\n",
              "      <td>0</td>\n",
              "      <td>0</td>\n",
              "      <td>7</td>\n",
              "      <td>0</td>\n",
              "      <td>0</td>\n",
              "      <td>0</td>\n",
              "      <td>0</td>\n",
              "      <td>0</td>\n",
              "      <td>0</td>\n",
              "      <td>0</td>\n",
              "      <td>0</td>\n",
              "      <td>0</td>\n",
              "      <td>0</td>\n",
              "      <td>0</td>\n",
              "      <td>0</td>\n",
              "      <td>0</td>\n",
              "      <td>0</td>\n",
              "      <td>0</td>\n",
              "      <td>0</td>\n",
              "      <td>0</td>\n",
              "      <td>0</td>\n",
              "      <td>0</td>\n",
              "      <td>1</td>\n",
              "      <td>0</td>\n",
              "      <td>0</td>\n",
              "      <td>0</td>\n",
              "      <td>0</td>\n",
              "      <td>0</td>\n",
              "    </tr>\n",
              "  </tbody>\n",
              "</table>\n",
              "<p>2 rows × 1507 columns</p>\n",
              "</div>"
            ],
            "text/plain": [
              "   player0_40939  player1_01c80001  ...  player0_133  player1_15a0\n",
              "0              0                 0  ...            0             0\n",
              "1              0                 0  ...            0             0\n",
              "\n",
              "[2 rows x 1507 columns]"
            ]
          },
          "metadata": {
            "tags": []
          },
          "execution_count": 10
        }
      ]
    },
    {
      "cell_type": "code",
      "metadata": {
        "id": "HAMC00p-z6bY",
        "colab_type": "code",
        "colab": {}
      },
      "source": [
        "X.to_pickle('train_Ability_Raw.pkl')\n",
        "X_test.to_pickle('test_Ability_Raw.pkl')"
      ],
      "execution_count": 0,
      "outputs": []
    }
  ]
}
