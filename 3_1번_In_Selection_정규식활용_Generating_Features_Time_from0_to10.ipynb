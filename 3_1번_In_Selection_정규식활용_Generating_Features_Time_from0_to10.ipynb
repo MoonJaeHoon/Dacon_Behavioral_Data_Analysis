{
  "nbformat": 4,
  "nbformat_minor": 0,
  "metadata": {
    "colab": {
      "name": "3_1번_In_Selection_정규식활용_Generating_Features_Time_from0_to10.ipynb",
      "provenance": [],
      "collapsed_sections": [],
      "machine_shape": "hm",
      "include_colab_link": true
    },
    "kernelspec": {
      "name": "python3",
      "display_name": "Python 3"
    }
  },
  "cells": [
    {
      "cell_type": "markdown",
      "metadata": {
        "id": "view-in-github",
        "colab_type": "text"
      },
      "source": [
        "<a href=\"https://colab.research.google.com/github/MoonJaeHoon/Dacon_Behavioral_Data_Analysis/blob/master/3_1%EB%B2%88_In_Selection_%EC%A0%95%EA%B7%9C%EC%8B%9D%ED%99%9C%EC%9A%A9_Generating_Features_Time_from0_to10.ipynb\" target=\"_parent\"><img src=\"https://colab.research.google.com/assets/colab-badge.svg\" alt=\"Open In Colab\"/></a>"
      ]
    },
    {
      "cell_type": "code",
      "metadata": {
        "id": "f1HUBrsTiOXw",
        "colab_type": "code",
        "outputId": "33f97137-e7df-4a73-b1d3-650460d2dfbf",
        "colab": {
          "base_uri": "https://localhost:8080/",
          "height": 127
        }
      },
      "source": [
        "from google.colab import drive\n",
        "drive.mount('/content/drive')"
      ],
      "execution_count": 0,
      "outputs": [
        {
          "output_type": "stream",
          "text": [
            "Go to this URL in a browser: https://accounts.google.com/o/oauth2/auth?client_id=947318989803-6bn6qk8qdgf4n4g3pfee6491hc0brc4i.apps.googleusercontent.com&redirect_uri=urn%3aietf%3awg%3aoauth%3a2.0%3aoob&response_type=code&scope=email%20https%3a%2f%2fwww.googleapis.com%2fauth%2fdocs.test%20https%3a%2f%2fwww.googleapis.com%2fauth%2fdrive%20https%3a%2f%2fwww.googleapis.com%2fauth%2fdrive.photos.readonly%20https%3a%2f%2fwww.googleapis.com%2fauth%2fpeopleapi.readonly\n",
            "\n",
            "Enter your authorization code:\n",
            "··········\n",
            "Mounted at /content/drive\n"
          ],
          "name": "stdout"
        }
      ]
    },
    {
      "cell_type": "code",
      "metadata": {
        "id": "nIF5I3jmiVci",
        "colab_type": "code",
        "outputId": "e563a0e5-483d-41aa-97fe-bdeef0c9b841",
        "colab": {
          "base_uri": "https://localhost:8080/",
          "height": 125
        }
      },
      "source": [
        "import os\n",
        "print( '변경 전 기본 경로 :' )\n",
        "print(  os.getcwd() )\n",
        "os.chdir('./drive/My Drive/데이콘_게임데이터분석')\n",
        "print( '변경 후 파일 경로 :' )\n",
        "print(  os.getcwd()  )\n",
        "\n",
        "import numpy as np\n",
        "import pandas as pd\n",
        "\n",
        "from tqdm import tqdm_notebook              # 진행바\n",
        "from sklearn.metrics import roc_auc_score   # AUC 스코어 계산\n",
        "from sklearn.model_selection import KFold   # K-fold CV    \n",
        "#from bayes_opt import BayesianOptimization  # 베이지안 최적화 라이브러리  \n",
        "from functools import partial               # 함수 변수 고정\n",
        "import lightgbm as lgb                      # LightGBM 라이브러리\n",
        "import warnings                             \n",
        "warnings.filterwarnings(\"ignore\")           # 경고 문구 미표시\n",
        "%time\n",
        "train = pd.read_csv('./train.csv')\n"
      ],
      "execution_count": 0,
      "outputs": [
        {
          "output_type": "stream",
          "text": [
            "변경 전 기본 경로 :\n",
            "/content\n",
            "변경 후 파일 경로 :\n",
            "/content/drive/My Drive/데이콘_게임데이터분석\n",
            "CPU times: user 1 µs, sys: 0 ns, total: 1 µs\n",
            "Wall time: 4.29 µs\n"
          ],
          "name": "stdout"
        }
      ]
    },
    {
      "cell_type": "markdown",
      "metadata": {
        "id": "zkDkig6uFaCt",
        "colab_type": "text"
      },
      "source": [
        "## Train 으로부터 mytrain 데이터 생성"
      ]
    },
    {
      "cell_type": "code",
      "metadata": {
        "id": "fddJzomQX1ZW",
        "colab_type": "code",
        "outputId": "bc37b461-ffc8-453b-9cda-ce30694f76a5",
        "colab": {
          "base_uri": "https://localhost:8080/",
          "height": 253
        }
      },
      "source": [
        "Selection = train.loc[train['event']=='Selection',:]\n",
        "Selection['event_contents'].value_counts()"
      ],
      "execution_count": 0,
      "outputs": [
        {
          "output_type": "execute_result",
          "data": {
            "text/plain": [
              "[]                                                                                                                                                                                                                                                                                  811772\n",
              "['OrbitalCommand [3100001]']                                                                                                                                                                                                                                                         75165\n",
              "['Nexus [3100001]']                                                                                                                                                                                                                                                                  55956\n",
              "['OrbitalCommand [3440001]']                                                                                                                                                                                                                                                         52412\n",
              "['Lair [3100001]']                                                                                                                                                                                                                                                                   47356\n",
              "                                                                                                                                                                                                                                                                                     ...  \n",
              "['FungalGrowthMissile [4E00007]', 'FungalGrowthMissile [52C0006]', 'Hellion [4580003]', 'Hellion [4B00002]', 'Hellion [4D80001]', 'Hellion [5240006]', 'Hellion [5380009]']                                                                                                              1\n",
              "['WarpGate [4640002]', 'WarpGate [5000001]']                                                                                                                                                                                                                                             1\n",
              "['SCV [3580001]', 'SCV [3680001]', 'SCV [3700001]', 'SCV [37C0001]', 'SCV [3840001]']                                                                                                                                                                                                    1\n",
              "['SCV [31C0001]', 'SCV [3240001]', 'SCV [3280001]', 'SCV [32C0001]', 'SCV [3300001]', 'SCV [3340001]', 'SCV [3880001]']                                                                                                                                                                  1\n",
              "['SCV [3580001]', 'SCV [35C0001]', 'SCV [3600001]', 'SCV [3640001]', 'SCV [3680001]', 'SCV [36C0001]', 'SCV [3700001]', 'SCV [3740001]', 'SCV [37C0001]', 'SCV [3800001]', 'SCV [3840001]', 'SCV [3980001]', 'SCV [3A00001]', 'SCV [3B00002]', 'SCV [3B40002]', 'SCV [3C00001]']         1\n",
              "Name: event_contents, Length: 1607202, dtype: int64"
            ]
          },
          "metadata": {
            "tags": []
          },
          "execution_count": 28
        }
      ]
    },
    {
      "cell_type": "code",
      "metadata": {
        "id": "Ayo2uTrUQg_O",
        "colab_type": "code",
        "outputId": "5ee2b5c3-e315-430d-a3ac-be624b3ab254",
        "colab": {
          "base_uri": "https://localhost:8080/",
          "height": 253
        }
      },
      "source": [
        "import re\n",
        "def SUB(x):\n",
        "\n",
        "    if str(x) != \"[]\":\n",
        "        result = re.sub(\"[',]\",\"\",x)\n",
        "        result = re.sub(' ','', result)\n",
        "        result = result[1:-1]\n",
        "        result = re.sub(\"([\\(\\[]).*?([\\)\\]])\", \"\\g<1>\\g<2>\", result)\n",
        "        #result = result.split(',')\n",
        "    else:\n",
        "        result = \"Empty\"\n",
        "\n",
        "    result = result + ','\n",
        "    return result\n",
        "\n",
        "Selection['event_contents'] = Selection.apply(lambda x: SUB(x['event_contents']), axis=1)\n",
        "Selection['event_contents'].value_counts()"
      ],
      "execution_count": 0,
      "outputs": [
        {
          "output_type": "execute_result",
          "data": {
            "text/plain": [
              "Egg[],                                                                                                                                                                                                                                                                                                                                                                                                                                           1234596\n",
              "Empty,                                                                                                                                                                                                                                                                                                                                                                                                                                            811772\n",
              "SCV[],                                                                                                                                                                                                                                                                                                                                                                                                                                            659542\n",
              "Probe[],                                                                                                                                                                                                                                                                                                                                                                                                                                          421651\n",
              "OrbitalCommand[],                                                                                                                                                                                                                                                                                                                                                                                                                                 386252\n",
              "                                                                                                                                                                                                                                                                                                                                                                                                                                                  ...   \n",
              "Larva[]Larva[]Larva[]Larva[]Egg[]Egg[]Egg[],                                                                                                                                                                                                                                                                                                                                                                                                           1\n",
              "BanelingCocoon[]BanelingCocoon[]Zergling[]Zergling[]Zergling[]Zergling[]Zergling[]Zergling[]Zergling[]Zergling[]Zergling[]Drone[],                                                                                                                                                                                                                                                                                                                     1\n",
              "SupplyDepotLowered[]SupplyDepot[]SupplyDepot[]SupplyDepotLowered[]SupplyDepot[],                                                                                                                                                                                                                                                                                                                                                                       1\n",
              "Marine[]Hellion[]Hellion[]Hellion[]Hellion[]Hellion[]SwarmHost[]Medivac[],                                                                                                                                                                                                                                                                                                                                                                             1\n",
              "Roach[]Roach[]Roach[]Roach[]Zergling[]Zergling[]Zergling[]Zergling[]Zergling[]Zergling[]Zergling[]Zergling[]Zergling[]Zergling[]Zergling[]Zergling[]Zergling[]Zergling[]Zergling[]Zergling[]Zergling[]Zergling[]Zergling[]Zergling[]Zergling[]Zergling[]Zergling[]Zergling[]Zergling[]Zergling[]Zergling[]Zergling[]Zergling[]Zergling[]Zergling[]Zergling[]Zergling[]Zergling[]Zergling[]Zergling[]Zergling[]Zergling[]Zergling[]Zergling[],          1\n",
              "Name: event_contents, Length: 56996, dtype: int64"
            ]
          },
          "metadata": {
            "tags": []
          },
          "execution_count": 29
        }
      ]
    },
    {
      "cell_type": "code",
      "metadata": {
        "id": "DUcp1NmwNJPq",
        "colab_type": "code",
        "colab": {}
      },
      "source": [
        "def Selection_CountVectorizer_bytime(t=None,category=None):\n",
        "    import pandas as pd\n",
        "    import numpy as np\n",
        "    import re\n",
        "    def SUB(x):\n",
        "        if str(x) != \"[]\":\n",
        "            result = re.sub(\"[',]\",\"\",x)\n",
        "            result = re.sub(' ','', result)\n",
        "            result = result[1:-1]\n",
        "            result = re.sub(\"([\\(\\[]).*?([\\)\\]])\", \"\\g<1>\\g<2>\", result)\n",
        "            #result = result.split(',')\n",
        "        else:\n",
        "            result = \"Empty\"\n",
        "\n",
        "        result = result + ','\n",
        "        return result\n",
        "\n",
        "    train = pd.read_csv('train.csv')\n",
        "    Selection = train.loc[train['event']==category,:].loc[train['time']<t,:]\n",
        "\n",
        "    Selection['event_contents'] = Selection.apply(lambda x: SUB(x['event_contents']), axis=1)\n",
        "    #Selection['event_contents'].value_counts()\n",
        "    game_id = train.game_id.unique().tolist()\n",
        "    columns = ['text0','text1','winner']\n",
        "    mytrain = np.zeros(len(game_id)*len(columns))\n",
        "    mytrain = mytrain.reshape(len(game_id),len(columns))\n",
        "    mytrain = pd.DataFrame(mytrain, columns=columns)\n",
        "    mytrain.index = game_id\n",
        "    mytrain.winner = train.loc[train['player']==0,:].groupby(    ['game_id'] )['winner'].max()\n",
        "    mytrain.loc[:,'text0'] = Selection.loc[Selection['player']==0,:].loc[Selection['event']==category,:].groupby(['game_id']).event_contents.sum()\n",
        "    mytrain.loc[:,'text1'] = Selection.loc[Selection['player']==1,:].loc[Selection['event']==category,:].groupby(['game_id']).event_contents.sum()\n",
        "    del train\n",
        "    del Selection\n",
        "    mytrain = mytrain.fillna('')\n",
        "\n",
        "    test = pd.read_csv('test.csv')\n",
        "    Selection = test.loc[test['event']==category,:].loc[test['time']<t,:]\n",
        "\n",
        "    Selection['event_contents'] = Selection.apply(lambda x: SUB(x['event_contents']), axis=1)\n",
        "    #Selection['event_contents'].value_counts()\n",
        "    game_id = test.game_id.unique().tolist()\n",
        "    columns = ['text0','text1']\n",
        "    mytest = np.zeros(len(game_id)*len(columns))\n",
        "    mytest = mytest.reshape(len(game_id),len(columns))\n",
        "    mytest = pd.DataFrame(mytest, columns=columns)\n",
        "    mytest.index = game_id\n",
        "\n",
        "    mytest.loc[:,'text0'] = Selection.loc[Selection['player']==0,:].loc[Selection['event']==category,:].groupby(['game_id']).event_contents.sum()\n",
        "    mytest.loc[:,'text1'] = Selection.loc[Selection['player']==1,:].loc[Selection['event']==category,:].groupby(['game_id']).event_contents.sum()\n",
        "    del test\n",
        "    del Selection\n",
        "    mytest = mytest.fillna('')\n",
        "\n",
        "    from sklearn.feature_extraction.text import TfidfVectorizer\n",
        "    from sklearn.pipeline import Pipeline\n",
        "    from sklearn.metrics import accuracy_score, roc_auc_score\n",
        "    import pandas as pd\n",
        "    import numpy as np\n",
        "    import pickle\n",
        "    from sklearn.model_selection import train_test_split\n",
        "    from nltk.corpus import stopwords\n",
        "    from sklearn.feature_extraction.text import TfidfTransformer\n",
        "    from sklearn.feature_extraction.text import CountVectorizer\n",
        "    def tokenizer(text):\n",
        "        return text.split(',')\n",
        "\n",
        "    ########### 사용할 모수들 ###################\n",
        "    min_df = 1\n",
        "    ngram_range = (1,1)\n",
        "    seed = 42\n",
        "\n",
        "    ######################## 데이터로부터 단어가방 생성 ####################\n",
        "    vectorizer0 = CountVectorizer(min_df=min_df, ngram_range=ngram_range)\n",
        "    revised_reviews0 = [' '.join(review.split(',')) for review in mytrain.text0]\n",
        "    vector_reviews0 = vectorizer0.fit_transform(revised_reviews0)\n",
        "    print(vector_reviews0.shape)\n",
        "\n",
        "    vectorizer1 = CountVectorizer(min_df=min_df, ngram_range=ngram_range)\n",
        "    revised_reviews1 = [' '.join(review.split(',')) for review in mytrain.text1]\n",
        "    vector_reviews1 = vectorizer1.fit_transform(revised_reviews1)\n",
        "    print(vector_reviews1.shape)\n",
        "\n",
        "    player0 = pd.DataFrame(   vector_reviews0.toarray()*1, columns = vectorizer0.get_feature_names()  )\n",
        "    player0 = player0.add_prefix('player0_')\n",
        "    player1 = pd.DataFrame(   vector_reviews1.toarray()*1, columns = vectorizer1.get_feature_names()  )\n",
        "    player1 = player1.add_prefix('player1_')\n",
        "    X = pd.concat([player0,player1],axis=1)\n",
        "    y = mytrain.winner\n",
        "    print(X.shape)\n",
        "    del vectorizer0, vectorizer1, revised_reviews0, revised_reviews1, vector_reviews0, vector_reviews1\n",
        "    del player0, player1\n",
        "\n",
        "\n",
        "    ######################## Test data ####################\n",
        "    vectorizer0 = CountVectorizer(min_df=min_df, ngram_range=ngram_range)\n",
        "    revised_reviews0 = [' '.join(review.split(',')) for review in mytest.text0]\n",
        "    vector_reviews0 = vectorizer0.fit_transform(revised_reviews0)\n",
        "    print(vector_reviews0.shape)\n",
        "\n",
        "    vectorizer1 = CountVectorizer(min_df=min_df, ngram_range=ngram_range)\n",
        "    revised_reviews1 = [' '.join(review.split(',')) for review in mytest.text1]\n",
        "    vector_reviews1 = vectorizer1.fit_transform(revised_reviews1)\n",
        "    print(vector_reviews1.shape)\n",
        "\n",
        "    player0 = pd.DataFrame(   vector_reviews0.toarray()*1, columns = vectorizer0.get_feature_names()  )\n",
        "    player0 = player0.add_prefix('player0_')\n",
        "    player1 = pd.DataFrame(   vector_reviews1.toarray()*1, columns = vectorizer1.get_feature_names()  )\n",
        "    player1 = player1.add_prefix('player1_')\n",
        "\n",
        "    del vectorizer0, vectorizer1, revised_reviews0, revised_reviews1, vector_reviews0, vector_reviews1\n",
        "\n",
        "    X_test = pd.concat([player0,player1],axis=1)\n",
        "    print(X_test.shape)\n",
        "\n",
        "    del player0, player1\n",
        "\n",
        "    ################ Train 이랑 Test에서 겹치는 column들만 남기기 ###########\n",
        "    print(len(X.columns))\n",
        "    print(len(X_test.columns))\n",
        "    print(  len(    set(X.columns) & set(X_test.columns)   ) )\n",
        "\n",
        "    use_col = list(    set(X.columns) & set(X_test.columns)   )\n",
        "\n",
        "    X = X.loc[:,use_col]\n",
        "    X_test = X_test.loc[:,use_col]\n",
        "\n",
        "    X = X.add_prefix('Time_'+str(t) +'_')\n",
        "    X_test = X_test.add_prefix('Time_'+str(t) +'_' )\n",
        "    return X, X_test\n"
      ],
      "execution_count": 0,
      "outputs": []
    },
    {
      "cell_type": "markdown",
      "metadata": {
        "id": "EaNJqqVjg8vL",
        "colab_type": "text"
      },
      "source": [
        "## time < 2"
      ]
    },
    {
      "cell_type": "code",
      "metadata": {
        "id": "p2CeZLzAP-M_",
        "colab_type": "code",
        "outputId": "aff2a224-22e0-47e7-d772-da18c085eeed",
        "colab": {
          "base_uri": "https://localhost:8080/",
          "height": 179
        }
      },
      "source": [
        "t=2\n",
        "X, X_test = Selection_CountVectorizer_bytime(t=t,category='Selection')\n",
        "\n",
        "X.to_pickle('train_Selection'+str(t)+'.pkl')\n",
        "X_test.to_pickle('test_Selection'+str(t)+'.pkl')"
      ],
      "execution_count": 0,
      "outputs": [
        {
          "output_type": "stream",
          "text": [
            "(38872, 59)\n",
            "(38872, 55)\n",
            "(38872, 114)\n",
            "(16787, 54)\n",
            "(16787, 53)\n",
            "(16787, 107)\n",
            "114\n",
            "107\n",
            "105\n"
          ],
          "name": "stdout"
        }
      ]
    },
    {
      "cell_type": "markdown",
      "metadata": {
        "id": "jMik0S80gJdF",
        "colab_type": "text"
      },
      "source": [
        "## time < 4"
      ]
    },
    {
      "cell_type": "code",
      "metadata": {
        "id": "rkVARDntgK8r",
        "colab_type": "code",
        "outputId": "cfeb22b2-4c8d-4ea9-f5e0-fb9fcac1bda6",
        "colab": {
          "base_uri": "https://localhost:8080/",
          "height": 179
        }
      },
      "source": [
        "t=4\n",
        "X, X_test = Selection_CountVectorizer_bytime(t=t,category='Selection')\n",
        "\n",
        "X.to_pickle('train_Selection'+str(t)+'.pkl')\n",
        "X_test.to_pickle('test_Selection'+str(t)+'.pkl')"
      ],
      "execution_count": 0,
      "outputs": [
        {
          "output_type": "stream",
          "text": [
            "(38872, 110)\n",
            "(38872, 109)\n",
            "(38872, 219)\n",
            "(16787, 107)\n",
            "(16787, 103)\n",
            "(16787, 210)\n",
            "219\n",
            "210\n",
            "203\n"
          ],
          "name": "stdout"
        }
      ]
    },
    {
      "cell_type": "markdown",
      "metadata": {
        "id": "VgkVXzyQhAqq",
        "colab_type": "text"
      },
      "source": [
        "## time < 6"
      ]
    },
    {
      "cell_type": "code",
      "metadata": {
        "id": "fCdTWA7vgU43",
        "colab_type": "code",
        "outputId": "056e399b-e6c8-486d-ebf8-812d68dc4f92",
        "colab": {
          "base_uri": "https://localhost:8080/",
          "height": 179
        }
      },
      "source": [
        "t=6\n",
        "X, X_test = Selection_CountVectorizer_bytime(t=t,category='Selection')\n",
        "\n",
        "X.to_pickle('train_Selection'+str(t)+'.pkl')\n",
        "X_test.to_pickle('test_Selection'+str(t)+'.pkl')"
      ],
      "execution_count": 0,
      "outputs": [
        {
          "output_type": "stream",
          "text": [
            "(38872, 148)\n",
            "(38872, 151)\n",
            "(38872, 299)\n",
            "(16787, 141)\n",
            "(16787, 139)\n",
            "(16787, 280)\n",
            "299\n",
            "280\n",
            "276\n"
          ],
          "name": "stdout"
        }
      ]
    },
    {
      "cell_type": "markdown",
      "metadata": {
        "id": "AiXz9_i9hF-V",
        "colab_type": "text"
      },
      "source": [
        "## time < 8"
      ]
    },
    {
      "cell_type": "code",
      "metadata": {
        "id": "Zd_sTx23hIOP",
        "colab_type": "code",
        "outputId": "6cd1a9e7-b00e-46d1-e06c-8ae55f600069",
        "colab": {
          "base_uri": "https://localhost:8080/",
          "height": 179
        }
      },
      "source": [
        "t=8\n",
        "X, X_test = Selection_CountVectorizer_bytime(t=t,category='Selection')\n",
        "\n",
        "X.to_pickle('train_Selection'+str(t)+'.pkl')\n",
        "X_test.to_pickle('test_Selection'+str(t)+'.pkl')"
      ],
      "execution_count": 0,
      "outputs": [
        {
          "output_type": "stream",
          "text": [
            "(38872, 170)\n",
            "(38872, 165)\n",
            "(38872, 335)\n",
            "(16787, 165)\n",
            "(16787, 164)\n",
            "(16787, 329)\n",
            "335\n",
            "329\n",
            "326\n"
          ],
          "name": "stdout"
        }
      ]
    },
    {
      "cell_type": "markdown",
      "metadata": {
        "id": "hzbZ5o3VhpCq",
        "colab_type": "text"
      },
      "source": [
        "## time<10"
      ]
    },
    {
      "cell_type": "code",
      "metadata": {
        "id": "64yKI1t_hqFP",
        "colab_type": "code",
        "outputId": "3fd8e1f0-bbda-4cf2-976d-77fef1d32670",
        "colab": {
          "base_uri": "https://localhost:8080/",
          "height": 179
        }
      },
      "source": [
        "t=10\n",
        "X, X_test = Selection_CountVectorizer_bytime(t=t,category='Selection')\n",
        "\n",
        "X.to_pickle('train_Selection'+str(t)+'.pkl')\n",
        "X_test.to_pickle('test_Selection'+str(t)+'.pkl')"
      ],
      "execution_count": 0,
      "outputs": [
        {
          "output_type": "stream",
          "text": [
            "(38872, 176)\n",
            "(38872, 171)\n",
            "(38872, 347)\n",
            "(16787, 173)\n",
            "(16787, 170)\n",
            "(16787, 343)\n",
            "347\n",
            "343\n",
            "339\n"
          ],
          "name": "stdout"
        }
      ]
    },
    {
      "cell_type": "markdown",
      "metadata": {
        "id": "D19B9kGqGVeY",
        "colab_type": "text"
      },
      "source": [
        "## 모델링"
      ]
    },
    {
      "cell_type": "code",
      "metadata": {
        "id": "5NYxkt24Dl_a",
        "colab_type": "code",
        "outputId": "a6b91715-409c-4223-8254-a19c30e74a79",
        "colab": {
          "base_uri": "https://localhost:8080/",
          "height": 35
        }
      },
      "source": [
        "train_Selection2 = pd.read_pickle('train_Selection2.pkl')\n",
        "train_Selection4 = pd.read_pickle('train_Selection4.pkl')\n",
        "train_Selection6 = pd.read_pickle('train_Selection6.pkl')\n",
        "train_Selection8 = pd.read_pickle('train_Selection8.pkl')\n",
        "train_Selection10 = pd.read_pickle('train_Selection10.pkl')\n",
        "train_Selection = pd.read_pickle('train_Selection.pkl')\n",
        "X = pd.concat([train_Selection2,train_Selection4,train_Selection6,train_Selection8,train_Selection10,train_Selection],axis=1)\n",
        "del train_Selection2,train_Selection4,train_Selection6,train_Selection8,train_Selection10,train_Selection\n",
        "print(X.shape)"
      ],
      "execution_count": 0,
      "outputs": [
        {
          "output_type": "stream",
          "text": [
            "(38872, 1590)\n"
          ],
          "name": "stdout"
        }
      ]
    },
    {
      "cell_type": "code",
      "metadata": {
        "id": "KSSQEp2OECqb",
        "colab_type": "code",
        "outputId": "572786ae-6e89-477f-ec1f-47906bd28eed",
        "colab": {
          "base_uri": "https://localhost:8080/",
          "height": 35
        }
      },
      "source": [
        "test_Selection2 = pd.read_pickle('test_Selection2.pkl')\n",
        "test_Selection4 = pd.read_pickle('test_Selection4.pkl')\n",
        "test_Selection6 = pd.read_pickle('test_Selection6.pkl')\n",
        "test_Selection8 = pd.read_pickle('test_Selection8.pkl')\n",
        "test_Selection10 = pd.read_pickle('test_Selection10.pkl')\n",
        "test_Selection = pd.read_pickle('test_Selection.pkl')\n",
        "X_test = pd.concat([test_Selection2,test_Selection4,test_Selection6,test_Selection8,test_Selection10,test_Selection],axis=1)\n",
        "del test_Selection2,test_Selection4,test_Selection6,test_Selection8,test_Selection10,test_Selection\n",
        "print(X_test.shape)"
      ],
      "execution_count": 0,
      "outputs": [
        {
          "output_type": "stream",
          "text": [
            "(16787, 1590)\n"
          ],
          "name": "stdout"
        }
      ]
    },
    {
      "cell_type": "code",
      "metadata": {
        "id": "R8Y79cpREZoo",
        "colab_type": "code",
        "colab": {}
      },
      "source": [
        "train = pd.read_csv('train.csv')\n",
        "y = train.loc[train['player']==0,:].groupby(    ['game_id'] )['winner'].max()\n",
        "del train"
      ],
      "execution_count": 0,
      "outputs": []
    },
    {
      "cell_type": "code",
      "metadata": {
        "id": "UU4CC7EvwWkT",
        "colab_type": "code",
        "outputId": "41f8feae-8031-40d5-8334-0ec6c0b2dfc1",
        "colab": {
          "base_uri": "https://localhost:8080/",
          "height": 53
        }
      },
      "source": [
        "seed = 42\n",
        "from sklearn.metrics import accuracy_score, roc_auc_score\n",
        "from sklearn.model_selection import train_test_split\n",
        "#################### 모델링 시작 #######################\n",
        "X_train, X_valid, y_train, y_valid = train_test_split(X, y,   stratify=y, random_state=seed)\n",
        "from sklearn.naive_bayes import BernoulliNB\n",
        "#model_bern = BernoulliNB().fit(X_train, y_train)\n",
        "from sklearn.naive_bayes import MultinomialNB\n",
        "#MNB = MultinomialNB(alpha=1).fit(X_train,y_train)\n",
        "from sklearn.ensemble import RandomForestClassifier\n",
        "rf = RandomForestClassifier(n_estimators=5000, random_state=seed,n_jobs=-1).fit(X_train, y_train)\n",
        "print('랜포 학습완료')\n",
        "from lightgbm import LGBMClassifier\n",
        "lgbm = LGBMClassifier(random_state=seed).fit(X_train,y_train)\n",
        "print('LGBM 학습완료')"
      ],
      "execution_count": 0,
      "outputs": [
        {
          "output_type": "stream",
          "text": [
            "랜포 학습완료\n",
            "LGBM 학습완료\n"
          ],
          "name": "stdout"
        }
      ]
    },
    {
      "cell_type": "code",
      "metadata": {
        "id": "oKohTPrXb8kI",
        "colab_type": "code",
        "outputId": "cf6a11b9-27a1-4914-c807-91c4eff41b8e",
        "colab": {
          "base_uri": "https://localhost:8080/",
          "height": 305
        }
      },
      "source": [
        "## 랜포 #  min_df=1 : 0.6792 vs min_df=2 : 0.6790\n",
        "## 2씩 time구간 나눠서 : 0.6757\n",
        "## n_estimator 5000 : 0.6773\n",
        "y_pred = rf.predict_proba(X_valid)[:,1]\n",
        "print(rf)\n",
        "print(\"테스트 정확도: {:.4f}\".format(roc_auc_score(y_valid, y_pred)))\n",
        "\n",
        "## LGBM #  min_df=1 : 0.6757 vs min_df=2 : 0.6757\n",
        "## 2씩 time구간 나눠서 : 0.6764\n",
        "y_pred = lgbm.predict_proba(X_valid)[:,1]\n",
        "print(lgbm)\n",
        "print(\"테스트 정확도: {:.4f}\".format(roc_auc_score(y_valid, y_pred)))"
      ],
      "execution_count": 0,
      "outputs": [
        {
          "output_type": "stream",
          "text": [
            "RandomForestClassifier(bootstrap=True, ccp_alpha=0.0, class_weight=None,\n",
            "                       criterion='gini', max_depth=None, max_features='auto',\n",
            "                       max_leaf_nodes=None, max_samples=None,\n",
            "                       min_impurity_decrease=0.0, min_impurity_split=None,\n",
            "                       min_samples_leaf=1, min_samples_split=2,\n",
            "                       min_weight_fraction_leaf=0.0, n_estimators=5000,\n",
            "                       n_jobs=-1, oob_score=False, random_state=42, verbose=0,\n",
            "                       warm_start=False)\n",
            "테스트 정확도: 0.6773\n",
            "LGBMClassifier(boosting_type='gbdt', class_weight=None, colsample_bytree=1.0,\n",
            "               importance_type='split', learning_rate=0.1, max_depth=-1,\n",
            "               min_child_samples=20, min_child_weight=0.001, min_split_gain=0.0,\n",
            "               n_estimators=100, n_jobs=-1, num_leaves=31, objective=None,\n",
            "               random_state=42, reg_alpha=0.0, reg_lambda=0.0, silent=True,\n",
            "               subsample=1.0, subsample_for_bin=200000, subsample_freq=0)\n",
            "테스트 정확도: 0.6764\n"
          ],
          "name": "stdout"
        }
      ]
    }
  ]
}