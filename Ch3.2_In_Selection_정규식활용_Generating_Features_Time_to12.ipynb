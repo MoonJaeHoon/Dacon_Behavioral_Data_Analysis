{
  "nbformat": 4,
  "nbformat_minor": 0,
  "metadata": {
    "colab": {
      "name": "2_2번_In_Selection_정규식활용_Generating_Features_Time_to12.ipynb",
      "provenance": [],
      "collapsed_sections": [],
      "machine_shape": "hm",
      "include_colab_link": true
    },
    "kernelspec": {
      "name": "python3",
      "display_name": "Python 3"
    }
  },
  "cells": [
    {
      "cell_type": "markdown",
      "metadata": {
        "id": "view-in-github",
        "colab_type": "text"
      },
      "source": [
        "<a href=\"https://colab.research.google.com/github/MoonJaeHoon/Dacon_Behavioral_Data_Analysis/blob/master/3_2%EB%B2%88_In_Selection_%EC%A0%95%EA%B7%9C%EC%8B%9D%ED%99%9C%EC%9A%A9_Generating_Features_Time_to12.ipynb\" target=\"_parent\"><img src=\"https://colab.research.google.com/assets/colab-badge.svg\" alt=\"Open In Colab\"/></a>"
      ]
    },
    {
      "cell_type": "code",
      "metadata": {
        "id": "f1HUBrsTiOXw",
        "colab_type": "code",
        "outputId": "69059887-94c0-47bb-d934-3e63b30b1dcf",
        "colab": {
          "base_uri": "https://localhost:8080/",
          "height": 127
        }
      },
      "source": [
        "from google.colab import drive\n",
        "drive.mount('/content/drive')"
      ],
      "execution_count": 0,
      "outputs": [
        {
          "output_type": "stream",
          "text": [
            "Go to this URL in a browser: https://accounts.google.com/o/oauth2/auth?client_id=947318989803-6bn6qk8qdgf4n4g3pfee6491hc0brc4i.apps.googleusercontent.com&redirect_uri=urn%3aietf%3awg%3aoauth%3a2.0%3aoob&response_type=code&scope=email%20https%3a%2f%2fwww.googleapis.com%2fauth%2fdocs.test%20https%3a%2f%2fwww.googleapis.com%2fauth%2fdrive%20https%3a%2f%2fwww.googleapis.com%2fauth%2fdrive.photos.readonly%20https%3a%2f%2fwww.googleapis.com%2fauth%2fpeopleapi.readonly\n",
            "\n",
            "Enter your authorization code:\n",
            "··········\n",
            "Mounted at /content/drive\n"
          ],
          "name": "stdout"
        }
      ]
    },
    {
      "cell_type": "code",
      "metadata": {
        "id": "nIF5I3jmiVci",
        "colab_type": "code",
        "outputId": "a6c73bd0-24e5-4e45-cb1d-76222cd682fa",
        "colab": {
          "base_uri": "https://localhost:8080/",
          "height": 53
        }
      },
      "source": [
        "import os\n",
        "print( '변경 전 기본 경로 :' )\n",
        "print(  os.getcwd() )\n",
        "os.chdir('./drive/My Drive/데이콘_게임데이터분석')\n",
        "print( '변경 후 파일 경로 :' )\n",
        "print(  os.getcwd()  )\n",
        "\n",
        "import numpy as np\n",
        "import pandas as pd\n",
        "\n",
        "from tqdm import tqdm_notebook              # 진행바\n",
        "from sklearn.metrics import roc_auc_score   # AUC 스코어 계산\n",
        "from sklearn.model_selection import KFold   # K-fold CV    \n",
        "#from bayes_opt import BayesianOptimization  # 베이지안 최적화 라이브러리  \n",
        "from functools import partial               # 함수 변수 고정\n",
        "import lightgbm as lgb                      # LightGBM 라이브러리\n",
        "import warnings                             \n",
        "warnings.filterwarnings(\"ignore\")           # 경고 문구 미표시\n",
        "%time\n",
        "train = pd.read_csv('./train.csv')\n",
        "\n"
      ],
      "execution_count": 0,
      "outputs": [
        {
          "output_type": "stream",
          "text": [
            "CPU times: user 4 µs, sys: 0 ns, total: 4 µs\n",
            "Wall time: 9.06 µs\n"
          ],
          "name": "stdout"
        }
      ]
    },
    {
      "cell_type": "markdown",
      "metadata": {
        "id": "zkDkig6uFaCt",
        "colab_type": "text"
      },
      "source": [
        "## Train 으로부터 mytrain 데이터 생성"
      ]
    },
    {
      "cell_type": "code",
      "metadata": {
        "id": "fddJzomQX1ZW",
        "colab_type": "code",
        "outputId": "bc37b461-ffc8-453b-9cda-ce30694f76a5",
        "colab": {
          "base_uri": "https://localhost:8080/",
          "height": 253
        }
      },
      "source": [
        "Selection = train.loc[train['event']=='Selection',:]\n",
        "Selection['event_contents'].value_counts()"
      ],
      "execution_count": 0,
      "outputs": [
        {
          "output_type": "execute_result",
          "data": {
            "text/plain": [
              "[]                                                                                                                                                                                                                                                                                  811772\n",
              "['OrbitalCommand [3100001]']                                                                                                                                                                                                                                                         75165\n",
              "['Nexus [3100001]']                                                                                                                                                                                                                                                                  55956\n",
              "['OrbitalCommand [3440001]']                                                                                                                                                                                                                                                         52412\n",
              "['Lair [3100001]']                                                                                                                                                                                                                                                                   47356\n",
              "                                                                                                                                                                                                                                                                                     ...  \n",
              "['FungalGrowthMissile [4E00007]', 'FungalGrowthMissile [52C0006]', 'Hellion [4580003]', 'Hellion [4B00002]', 'Hellion [4D80001]', 'Hellion [5240006]', 'Hellion [5380009]']                                                                                                              1\n",
              "['WarpGate [4640002]', 'WarpGate [5000001]']                                                                                                                                                                                                                                             1\n",
              "['SCV [3580001]', 'SCV [3680001]', 'SCV [3700001]', 'SCV [37C0001]', 'SCV [3840001]']                                                                                                                                                                                                    1\n",
              "['SCV [31C0001]', 'SCV [3240001]', 'SCV [3280001]', 'SCV [32C0001]', 'SCV [3300001]', 'SCV [3340001]', 'SCV [3880001]']                                                                                                                                                                  1\n",
              "['SCV [3580001]', 'SCV [35C0001]', 'SCV [3600001]', 'SCV [3640001]', 'SCV [3680001]', 'SCV [36C0001]', 'SCV [3700001]', 'SCV [3740001]', 'SCV [37C0001]', 'SCV [3800001]', 'SCV [3840001]', 'SCV [3980001]', 'SCV [3A00001]', 'SCV [3B00002]', 'SCV [3B40002]', 'SCV [3C00001]']         1\n",
              "Name: event_contents, Length: 1607202, dtype: int64"
            ]
          },
          "metadata": {
            "tags": []
          },
          "execution_count": 28
        }
      ]
    },
    {
      "cell_type": "code",
      "metadata": {
        "id": "Ayo2uTrUQg_O",
        "colab_type": "code",
        "outputId": "5ee2b5c3-e315-430d-a3ac-be624b3ab254",
        "colab": {
          "base_uri": "https://localhost:8080/",
          "height": 253
        }
      },
      "source": [
        "import re\n",
        "def SUB(x):\n",
        "\n",
        "    if str(x) != \"[]\":\n",
        "        result = re.sub(\"[',]\",\"\",x)\n",
        "        result = re.sub(' ','', result)\n",
        "        result = result[1:-1]\n",
        "        result = re.sub(\"([\\(\\[]).*?([\\)\\]])\", \"\\g<1>\\g<2>\", result)\n",
        "        #result = result.split(',')\n",
        "    else:\n",
        "        result = \"Empty\"\n",
        "\n",
        "    result = result + ','\n",
        "    return result\n",
        "\n",
        "Selection['event_contents'] = Selection.apply(lambda x: SUB(x['event_contents']), axis=1)\n",
        "Selection['event_contents'].value_counts()"
      ],
      "execution_count": 0,
      "outputs": [
        {
          "output_type": "execute_result",
          "data": {
            "text/plain": [
              "Egg[],                                                                                                                                                                                                                                                                                                                                                                                                                                           1234596\n",
              "Empty,                                                                                                                                                                                                                                                                                                                                                                                                                                            811772\n",
              "SCV[],                                                                                                                                                                                                                                                                                                                                                                                                                                            659542\n",
              "Probe[],                                                                                                                                                                                                                                                                                                                                                                                                                                          421651\n",
              "OrbitalCommand[],                                                                                                                                                                                                                                                                                                                                                                                                                                 386252\n",
              "                                                                                                                                                                                                                                                                                                                                                                                                                                                  ...   \n",
              "Larva[]Larva[]Larva[]Larva[]Egg[]Egg[]Egg[],                                                                                                                                                                                                                                                                                                                                                                                                           1\n",
              "BanelingCocoon[]BanelingCocoon[]Zergling[]Zergling[]Zergling[]Zergling[]Zergling[]Zergling[]Zergling[]Zergling[]Zergling[]Drone[],                                                                                                                                                                                                                                                                                                                     1\n",
              "SupplyDepotLowered[]SupplyDepot[]SupplyDepot[]SupplyDepotLowered[]SupplyDepot[],                                                                                                                                                                                                                                                                                                                                                                       1\n",
              "Marine[]Hellion[]Hellion[]Hellion[]Hellion[]Hellion[]SwarmHost[]Medivac[],                                                                                                                                                                                                                                                                                                                                                                             1\n",
              "Roach[]Roach[]Roach[]Roach[]Zergling[]Zergling[]Zergling[]Zergling[]Zergling[]Zergling[]Zergling[]Zergling[]Zergling[]Zergling[]Zergling[]Zergling[]Zergling[]Zergling[]Zergling[]Zergling[]Zergling[]Zergling[]Zergling[]Zergling[]Zergling[]Zergling[]Zergling[]Zergling[]Zergling[]Zergling[]Zergling[]Zergling[]Zergling[]Zergling[]Zergling[]Zergling[]Zergling[]Zergling[]Zergling[]Zergling[]Zergling[]Zergling[]Zergling[]Zergling[],          1\n",
              "Name: event_contents, Length: 56996, dtype: int64"
            ]
          },
          "metadata": {
            "tags": []
          },
          "execution_count": 29
        }
      ]
    },
    {
      "cell_type": "code",
      "metadata": {
        "id": "DUcp1NmwNJPq",
        "colab_type": "code",
        "colab": {}
      },
      "source": [
        "game_id = train.game_id.unique().tolist()\n",
        "columns = ['text0','text1','winner']\n",
        "mytrain = np.zeros(len(game_id)*len(columns))\n",
        "mytrain = mytrain.reshape(len(game_id),len(columns))\n",
        "mytrain = pd.DataFrame(mytrain, columns=columns)\n",
        "mytrain.index = game_id\n",
        "mytrain.winner = train.loc[train['player']==0,:].groupby(    ['game_id'] )['winner'].max()\n",
        "mytrain.loc[:,'text0'] = Selection.loc[Selection['player']==0,:].loc[Selection['event']=='Selection',:].groupby(['game_id']).event_contents.sum()\n",
        "mytrain.loc[:,'text1'] = Selection.loc[Selection['player']==1,:].loc[Selection['event']=='Selection',:].groupby(['game_id']).event_contents.sum()\n",
        "del train\n",
        "del Selection\n",
        "mytrain = mytrain.fillna('')\n"
      ],
      "execution_count": 0,
      "outputs": []
    },
    {
      "cell_type": "markdown",
      "metadata": {
        "id": "8JjM3HUWfUZy",
        "colab_type": "text"
      },
      "source": [
        "## Test 로부터 mytest 데이터 생성"
      ]
    },
    {
      "cell_type": "code",
      "metadata": {
        "id": "9V3k08cWfTy_",
        "colab_type": "code",
        "outputId": "83a170a3-1725-4eb7-a2dc-62719b5870a8",
        "colab": {
          "base_uri": "https://localhost:8080/",
          "height": 253
        }
      },
      "source": [
        "test = pd.read_csv('test.csv')\n",
        "Selection = test.loc[test['event']=='Selection',:]\n",
        "\n",
        "Selection['event_contents'] = Selection.apply(lambda x: SUB(x['event_contents']), axis=1)\n",
        "Selection['event_contents'].value_counts()"
      ],
      "execution_count": 0,
      "outputs": [
        {
          "output_type": "execute_result",
          "data": {
            "text/plain": [
              "Egg[],                                                                                                                                                                                                                                                                                                                                                                                                           527093\n",
              "Empty,                                                                                                                                                                                                                                                                                                                                                                                                           345691\n",
              "SCV[],                                                                                                                                                                                                                                                                                                                                                                                                           286202\n",
              "Probe[],                                                                                                                                                                                                                                                                                                                                                                                                         179197\n",
              "OrbitalCommand[],                                                                                                                                                                                                                                                                                                                                                                                                166458\n",
              "                                                                                                                                                                                                                                                                                                                                                                                                                  ...  \n",
              "SCV[]SCV[]SCV[]SCV[]SCV[]SCV[]SCV[]SCV[]SCV[]ExtendingBridgeNWWide8Out[],                                                                                                                                                                                                                                                                                                                                             1\n",
              "Ravager[]Ravager[]Ravager[]Ravager[]Roach[]Roach[]Roach[]Ravager[]Roach[]Roach[]Roach[]Hydralisk[]Hydralisk[]Zergling[]Zergling[],                                                                                                                                                                                                                                                                                    1\n",
              "Zergling[]BanelingCocoon[]Zergling[]Zergling[]Zergling[]Zergling[]Zergling[]BanelingCocoon[]Zergling[]BanelingCocoon[]Zergling[],                                                                                                                                                                                                                                                                                     1\n",
              "Ravager[]Ravager[]Roach[]Roach[]Roach[]Hydralisk[]Hydralisk[]Hydralisk[]Hydralisk[]Zergling[]Zergling[]Zergling[]Zergling[]Zergling[]Zergling[]Zergling[]Zergling[]Zergling[]Zergling[]Zergling[]Zergling[]Zergling[]Zergling[]Zergling[]Zergling[]Zergling[]Zergling[]Zergling[]Zergling[]Zergling[]Zergling[]Zergling[]Zergling[]Zergling[]Zergling[]Zergling[]Zergling[]Zergling[],                                1\n",
              "BanelingCocoon[]BanelingCocoon[]BanelingCocoon[]BanelingCocoon[]BanelingCocoon[]BanelingCocoon[]BanelingCocoon[]BanelingCocoon[]BanelingCocoon[]BanelingCocoon[]BanelingCocoon[]BanelingCocoon[]BanelingCocoon[]BanelingCocoon[]BanelingCocoon[]BanelingCocoon[]BanelingCocoon[]BanelingCocoon[]BanelingCocoon[]BanelingCocoon[]BanelingCocoon[]Zergling[]Zergling[]Zergling[]Zergling[]Zergling[]Zergling[],         1\n",
              "Name: event_contents, Length: 30435, dtype: int64"
            ]
          },
          "metadata": {
            "tags": []
          },
          "execution_count": 32
        }
      ]
    },
    {
      "cell_type": "code",
      "metadata": {
        "id": "CzoqCPuJfZFr",
        "colab_type": "code",
        "colab": {}
      },
      "source": [
        "game_id = test.game_id.unique().tolist()\n",
        "columns = ['text0','text1']\n",
        "mytest = np.zeros(len(game_id)*len(columns))\n",
        "mytest = mytest.reshape(len(game_id),len(columns))\n",
        "mytest = pd.DataFrame(mytest, columns=columns)\n",
        "mytest.index = game_id\n",
        "\n",
        "mytest.loc[:,'text0'] = Selection.loc[Selection['player']==0,:].loc[Selection['event']=='Selection',:].groupby(['game_id']).event_contents.sum()\n",
        "mytest.loc[:,'text1'] = Selection.loc[Selection['player']==1,:].loc[Selection['event']=='Selection',:].groupby(['game_id']).event_contents.sum()\n",
        "del test\n",
        "del Selection\n",
        "mytest = mytest.fillna('')\n"
      ],
      "execution_count": 0,
      "outputs": []
    },
    {
      "cell_type": "markdown",
      "metadata": {
        "id": "k8nRNgjVP6wl",
        "colab_type": "text"
      },
      "source": [
        "### 1. CountVevtorizer"
      ]
    },
    {
      "cell_type": "code",
      "metadata": {
        "id": "p2CeZLzAP-M_",
        "colab_type": "code",
        "outputId": "992d321b-6c43-4342-83b7-5cef83626679",
        "colab": {
          "base_uri": "https://localhost:8080/",
          "height": 71
        }
      },
      "source": [
        "from sklearn.feature_extraction.text import TfidfVectorizer\n",
        "from sklearn.pipeline import Pipeline\n",
        "from sklearn.metrics import accuracy_score, roc_auc_score\n",
        "import pandas as pd\n",
        "import numpy as np\n",
        "import pickle\n",
        "from sklearn.model_selection import train_test_split\n",
        "from nltk.corpus import stopwords\n",
        "from sklearn.feature_extraction.text import TfidfTransformer\n",
        "from sklearn.feature_extraction.text import CountVectorizer\n",
        "def tokenizer(text):\n",
        "    return text.split(',')\n",
        "\n",
        "########### 사용할 모수들 ###################\n",
        "min_df = 2\n",
        "ngram_range = (1,1)\n",
        "seed = 42\n",
        "\n",
        "######################## 데이터로부터 단어가방 생성 ####################\n",
        "vectorizer0 = CountVectorizer(min_df=min_df, ngram_range=ngram_range)\n",
        "revised_reviews0 = [' '.join(review.split(',')) for review in mytrain.text0]\n",
        "vector_reviews0 = vectorizer0.fit_transform(revised_reviews0)\n",
        "print(vector_reviews0.shape)\n",
        "\n",
        "vectorizer1 = CountVectorizer(min_df=min_df, ngram_range=ngram_range)\n",
        "revised_reviews1 = [' '.join(review.split(',')) for review in mytrain.text1]\n",
        "vector_reviews1 = vectorizer1.fit_transform(revised_reviews1)\n",
        "print(vector_reviews1.shape)\n",
        "\n",
        "player0 = pd.DataFrame(   vector_reviews0.toarray()*1, columns = vectorizer0.get_feature_names()  )\n",
        "player0 = player0.add_prefix('player0_')\n",
        "player1 = pd.DataFrame(   vector_reviews1.toarray()*1, columns = vectorizer1.get_feature_names()  )\n",
        "player1 = player1.add_prefix('player1_')\n",
        "X = pd.concat([player0,player1],axis=1)\n",
        "y = mytrain.winner\n",
        "print(X.shape)\n",
        "#del vectorizer0, vectorizer1, revised_reviews0, revised_reviews1, vector_reviews0, vector_reviews1\n",
        "#del player0, player1\n"
      ],
      "execution_count": 0,
      "outputs": [
        {
          "output_type": "stream",
          "text": [
            "(38872, 171)\n",
            "(38872, 171)\n",
            "(38872, 342)\n"
          ],
          "name": "stdout"
        }
      ]
    },
    {
      "cell_type": "code",
      "metadata": {
        "id": "h1ExZTO8wURN",
        "colab_type": "code",
        "outputId": "e498d93b-7d28-4684-eb53-70734754f655",
        "colab": {
          "base_uri": "https://localhost:8080/",
          "height": 71
        }
      },
      "source": [
        "#del X_train, X_valid, y_train, y_valid\n",
        "########### 사용할 모수들 ###################\n",
        "min_df = 2\n",
        "ngram_range = (1,1)\n",
        "seed = 42\n",
        "\n",
        "######################## 데이터로부터 단어가방 생성 ####################\n",
        "vectorizer0 = CountVectorizer(min_df=min_df, ngram_range=ngram_range)\n",
        "revised_reviews0 = [' '.join(review.split(',')) for review in mytest.text0]\n",
        "vector_reviews0 = vectorizer0.fit_transform(revised_reviews0)\n",
        "print(vector_reviews0.shape)\n",
        "\n",
        "vectorizer1 = CountVectorizer(min_df=min_df, ngram_range=ngram_range)\n",
        "revised_reviews1 = [' '.join(review.split(',')) for review in mytest.text1]\n",
        "vector_reviews1 = vectorizer1.fit_transform(revised_reviews1)\n",
        "print(vector_reviews1.shape)\n",
        "\n",
        "player0 = pd.DataFrame(   vector_reviews0.toarray()*1, columns = vectorizer0.get_feature_names()  )\n",
        "player0 = player0.add_prefix('player0_')\n",
        "player1 = pd.DataFrame(   vector_reviews1.toarray()*1, columns = vectorizer1.get_feature_names()  )\n",
        "player1 = player1.add_prefix('player1_')\n",
        "\n",
        "#del vectorizer0, vectorizer1, revised_reviews0, revised_reviews1, vector_reviews0, vector_reviews1\n",
        "\n",
        "X_test = pd.concat([player0,player1],axis=1)\n",
        "print(X_test.shape)\n",
        "\n",
        "#del player0, player1"
      ],
      "execution_count": 0,
      "outputs": [
        {
          "output_type": "stream",
          "text": [
            "(16787, 165)\n",
            "(16787, 166)\n",
            "(16787, 331)\n"
          ],
          "name": "stdout"
        }
      ]
    },
    {
      "cell_type": "code",
      "metadata": {
        "id": "wMAOgZTLwfQ2",
        "colab_type": "code",
        "outputId": "e3baf278-5e2e-454b-ae7e-e9394bf4dee6",
        "colab": {
          "base_uri": "https://localhost:8080/",
          "height": 71
        }
      },
      "source": [
        "print(len(X.columns))\n",
        "print(len(X_test.columns))\n",
        "print(  len(    set(X.columns) & set(X_test.columns)   ) )\n",
        "\n",
        "use_col = list(    set(X.columns) & set(X_test.columns)   )\n",
        "\n",
        "X = X.loc[:,use_col]\n",
        "X_test = X_test.loc[:,use_col]"
      ],
      "execution_count": 0,
      "outputs": [
        {
          "output_type": "stream",
          "text": [
            "342\n",
            "331\n",
            "329\n"
          ],
          "name": "stdout"
        }
      ]
    },
    {
      "cell_type": "code",
      "metadata": {
        "id": "UU4CC7EvwWkT",
        "colab_type": "code",
        "outputId": "254806cf-0203-4ba8-8db5-15bf0da349c6",
        "colab": {
          "base_uri": "https://localhost:8080/",
          "height": 53
        }
      },
      "source": [
        "\n",
        "###################### 모델링 시작 #######################\n",
        "X_train, X_valid, y_train, y_valid = train_test_split(X, y,   stratify=y, random_state=seed)\n",
        "from sklearn.naive_bayes import BernoulliNB\n",
        "#model_bern = BernoulliNB().fit(X_train, y_train)\n",
        "from sklearn.naive_bayes import MultinomialNB\n",
        "#MNB = MultinomialNB(alpha=1).fit(X_train,y_train)\n",
        "from sklearn.ensemble import RandomForestClassifier\n",
        "rf = RandomForestClassifier(n_estimators=1000, random_state=seed).fit(X_train, y_train)\n",
        "print('랜포 학습완료')\n",
        "from lightgbm import LGBMClassifier\n",
        "lgbm = LGBMClassifier(random_state=seed).fit(X_train,y_train)\n",
        "print('LGBM 학습완료')"
      ],
      "execution_count": 0,
      "outputs": [
        {
          "output_type": "stream",
          "text": [
            "랜포 학습완료\n",
            "LGBM 학습완료\n"
          ],
          "name": "stdout"
        }
      ]
    },
    {
      "cell_type": "code",
      "metadata": {
        "id": "oKohTPrXb8kI",
        "colab_type": "code",
        "outputId": "20c6968c-0256-47e2-8419-6c8e531bc9a0",
        "colab": {
          "base_uri": "https://localhost:8080/",
          "height": 305
        }
      },
      "source": [
        "## 랜포 #  min_df=1 : 0.6792 vs min_df=2 : 0.6790\n",
        "y_pred = rf.predict_proba(X_valid)[:,1]\n",
        "print(rf)\n",
        "print(\"테스트 정확도: {:.4f}\".format(roc_auc_score(y_valid, y_pred)))\n",
        "\n",
        "## LGBM #  min_df=1 : 0.6757 vs min_df=2 : 0.6757\n",
        "y_pred = lgbm.predict_proba(X_valid)[:,1]\n",
        "print(lgbm)\n",
        "print(\"테스트 정확도: {:.4f}\".format(roc_auc_score(y_valid, y_pred)))"
      ],
      "execution_count": 0,
      "outputs": [
        {
          "output_type": "stream",
          "text": [
            "RandomForestClassifier(bootstrap=True, ccp_alpha=0.0, class_weight=None,\n",
            "                       criterion='gini', max_depth=None, max_features='auto',\n",
            "                       max_leaf_nodes=None, max_samples=None,\n",
            "                       min_impurity_decrease=0.0, min_impurity_split=None,\n",
            "                       min_samples_leaf=1, min_samples_split=2,\n",
            "                       min_weight_fraction_leaf=0.0, n_estimators=1000,\n",
            "                       n_jobs=None, oob_score=False, random_state=42, verbose=0,\n",
            "                       warm_start=False)\n",
            "테스트 정확도: 0.6790\n",
            "LGBMClassifier(boosting_type='gbdt', class_weight=None, colsample_bytree=1.0,\n",
            "               importance_type='split', learning_rate=0.1, max_depth=-1,\n",
            "               min_child_samples=20, min_child_weight=0.001, min_split_gain=0.0,\n",
            "               n_estimators=100, n_jobs=-1, num_leaves=31, objective=None,\n",
            "               random_state=42, reg_alpha=0.0, reg_lambda=0.0, silent=True,\n",
            "               subsample=1.0, subsample_for_bin=200000, subsample_freq=0)\n",
            "테스트 정확도: 0.6757\n"
          ],
          "name": "stdout"
        }
      ]
    },
    {
      "cell_type": "code",
      "metadata": {
        "id": "HAMC00p-z6bY",
        "colab_type": "code",
        "colab": {}
      },
      "source": [
        "X.to_pickle('train_Selection12.pkl')\n",
        "X_test.to_pickle('test_Selection12.pkl')"
      ],
      "execution_count": 0,
      "outputs": []
    }
  ]
}
