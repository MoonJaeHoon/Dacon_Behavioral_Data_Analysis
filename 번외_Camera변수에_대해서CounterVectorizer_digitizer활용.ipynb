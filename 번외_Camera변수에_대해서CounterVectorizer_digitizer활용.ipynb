{
  "nbformat": 4,
  "nbformat_minor": 0,
  "metadata": {
    "colab": {
      "name": "번외_Camera변수에 대해서CounterVectorizer_digitizer활용.ipynb",
      "provenance": [],
      "collapsed_sections": [
        "_9LhJ7SnQhF8"
      ],
      "machine_shape": "hm",
      "include_colab_link": true
    },
    "kernelspec": {
      "name": "python3",
      "display_name": "Python 3"
    }
  },
  "cells": [
    {
      "cell_type": "markdown",
      "metadata": {
        "id": "view-in-github",
        "colab_type": "text"
      },
      "source": [
        "<a href=\"https://colab.research.google.com/github/MoonJaeHoon/Dacon_Behavioral_Data_Analysis/blob/master/%EB%B2%88%EC%99%B8_Camera%EB%B3%80%EC%88%98%EC%97%90_%EB%8C%80%ED%95%B4%EC%84%9CCounterVectorizer_digitizer%ED%99%9C%EC%9A%A9.ipynb\" target=\"_parent\"><img src=\"https://colab.research.google.com/assets/colab-badge.svg\" alt=\"Open In Colab\"/></a>"
      ]
    },
    {
      "cell_type": "code",
      "metadata": {
        "id": "f1HUBrsTiOXw",
        "colab_type": "code",
        "outputId": "2c070da2-007a-48bb-b53c-a1e9cf9352ad",
        "colab": {
          "base_uri": "https://localhost:8080/",
          "height": 127
        }
      },
      "source": [
        "from google.colab import drive\n",
        "drive.mount('/content/drive')"
      ],
      "execution_count": 0,
      "outputs": [
        {
          "output_type": "stream",
          "text": [
            "Go to this URL in a browser: https://accounts.google.com/o/oauth2/auth?client_id=947318989803-6bn6qk8qdgf4n4g3pfee6491hc0brc4i.apps.googleusercontent.com&redirect_uri=urn%3aietf%3awg%3aoauth%3a2.0%3aoob&response_type=code&scope=email%20https%3a%2f%2fwww.googleapis.com%2fauth%2fdocs.test%20https%3a%2f%2fwww.googleapis.com%2fauth%2fdrive%20https%3a%2f%2fwww.googleapis.com%2fauth%2fdrive.photos.readonly%20https%3a%2f%2fwww.googleapis.com%2fauth%2fpeopleapi.readonly\n",
            "\n",
            "Enter your authorization code:\n",
            "··········\n",
            "Mounted at /content/drive\n"
          ],
          "name": "stdout"
        }
      ]
    },
    {
      "cell_type": "code",
      "metadata": {
        "id": "nIF5I3jmiVci",
        "colab_type": "code",
        "outputId": "978f5c4f-663b-4ffa-acbc-50dd3de517d4",
        "colab": {
          "base_uri": "https://localhost:8080/",
          "height": 125
        }
      },
      "source": [
        "import os\n",
        "print( '변경 전 기본 경로 :' )\n",
        "print(  os.getcwd() )\n",
        "os.chdir('./drive/My Drive/데이콘_게임데이터분석')\n",
        "print( '변경 후 파일 경로 :' )\n",
        "print(  os.getcwd()  )\n",
        "\n",
        "import numpy as np\n",
        "import pandas as pd\n",
        "\n",
        "from tqdm import tqdm_notebook              # 진행바\n",
        "from sklearn.metrics import roc_auc_score   # AUC 스코어 계산\n",
        "from sklearn.model_selection import KFold   # K-fold CV    \n",
        "#from bayes_opt import BayesianOptimization  # 베이지안 최적화 라이브러리  \n",
        "from functools import partial               # 함수 변수 고정\n",
        "import lightgbm as lgb                      # LightGBM 라이브러리\n",
        "import warnings                             \n",
        "warnings.filterwarnings(\"ignore\")           # 경고 문구 미표시\n",
        "%time\n",
        "train = pd.read_csv('./train.csv')\n",
        "\n",
        "#%time\n",
        "#test = pd.read_pickle('./test.pkl')"
      ],
      "execution_count": 0,
      "outputs": [
        {
          "output_type": "stream",
          "text": [
            "변경 전 기본 경로 :\n",
            "/content\n",
            "변경 후 파일 경로 :\n",
            "/content/drive/My Drive/데이콘_게임데이터분석\n",
            "CPU times: user 2 µs, sys: 0 ns, total: 2 µs\n",
            "Wall time: 4.77 µs\n"
          ],
          "name": "stdout"
        }
      ]
    },
    {
      "cell_type": "markdown",
      "metadata": {
        "id": "zkDkig6uFaCt",
        "colab_type": "text"
      },
      "source": [
        "## Train 으로부터 mytrain 데이터 생성"
      ]
    },
    {
      "cell_type": "code",
      "metadata": {
        "id": "0G2BqROSckBD",
        "colab_type": "code",
        "colab": {}
      },
      "source": [
        "Camera = train.loc[train['event']=='Camera',:]\n",
        "game_id = train.game_id.unique().tolist()\n",
        "winner =  train.loc[train['player']==0,:].groupby(    ['game_id'] )['winner'].max()\n",
        "del train"
      ],
      "execution_count": 0,
      "outputs": []
    },
    {
      "cell_type": "code",
      "metadata": {
        "id": "fddJzomQX1ZW",
        "colab_type": "code",
        "outputId": "ca640424-c36e-4be4-88f4-1ce36159b95d",
        "colab": {
          "base_uri": "https://localhost:8080/",
          "height": 233
        }
      },
      "source": [
        "Camera['event_contents'].value_counts()"
      ],
      "execution_count": 0,
      "outputs": [
        {
          "output_type": "execute_result",
          "data": {
            "text/plain": [
              "at (143.5, 22.7578125)          89727\n",
              "at (24.5, 145.7578125)          88246\n",
              "at (0.0, 0.0)                   82567\n",
              "at (33.5, 23.7578125)           73001\n",
              "at (26.5, 126.76171875)         71466\n",
              "                                ...  \n",
              "at (131.4609375, 32.1171875)        1\n",
              "at (30.08203125, 103.59375)         1\n",
              "at (32.34375, 99.8046875)           1\n",
              "at (34.1640625, 18.75)              1\n",
              "at (150.8984375, 78.3671875)        1\n",
              "Name: event_contents, Length: 23902568, dtype: int64"
            ]
          },
          "metadata": {
            "tags": []
          },
          "execution_count": 5
        }
      ]
    },
    {
      "cell_type": "code",
      "metadata": {
        "id": "J46vEu-zrg83",
        "colab_type": "code",
        "outputId": "02274d66-940e-47c6-b523-c73cee8b8b3c",
        "colab": {
          "base_uri": "https://localhost:8080/",
          "height": 35
        }
      },
      "source": [
        "import re\n",
        "x = \"at (143.5, 22.7578125)\"\n",
        "interval = \n",
        "result = re.sub(\"['()]\",\"\",x)\n",
        "result = re.sub('at','', result)\n",
        "result = re.sub(' ','', result)\n",
        "ran = int(180/interval)\n",
        "#location0 = np.digitize(    round(   float(   result.split(',')[0]    )  ), bins=[i*interval for i in range(36)]   )\n",
        "location0 = str(np.digitize(    round(    float(   result.split(',')[0]    )  ), bins=[i*interval for i in range(ran)]   ))\n",
        "#location1 = np.digitize(    round(   float(   result.split(',')[1]    )    ), bins=[i*interval for i in range(36)]   )\n",
        "location1 = str(np.digitize(    round(    float(   result.split(',')[1]    )  ), bins=[i*interval for i in range(ran)]   ))\n",
        "result = location0 + '_' + location1\n",
        "result"
      ],
      "execution_count": 0,
      "outputs": [
        {
          "output_type": "execute_result",
          "data": {
            "text/plain": [
              "'29_5'"
            ]
          },
          "metadata": {
            "tags": []
          },
          "execution_count": 25
        }
      ]
    },
    {
      "cell_type": "code",
      "metadata": {
        "id": "Ayo2uTrUQg_O",
        "colab_type": "code",
        "outputId": "192c9d7b-60b9-41be-aa13-889ae702ebe0",
        "colab": {
          "base_uri": "https://localhost:8080/",
          "height": 233
        }
      },
      "source": [
        "import re\n",
        "#def SUB(x):\n",
        "#    result = re.sub(\"['()]\",\"\",x)\n",
        "#    result = re.sub('at','', result)\n",
        "#    result = re.sub(\"[,]\",\"_\",result)\n",
        "#    result = re.sub(' ','', result)\n",
        "#    result = result + ','\n",
        "#    return result\n",
        "\n",
        "def SUB(x):\n",
        "    interval = 10\n",
        "    result = re.sub(\"['()]\",\"\",x)\n",
        "    result = re.sub('at','', result)\n",
        "    result = re.sub(' ','', result)\n",
        "    ran = int(180/interval)\n",
        "    #location0 = str(    int(round(   float(   result.split(',')[0]    )  ) )    )\n",
        "    location0 = str(np.digitize(    round(    float(   result.split(',')[0]    )  ), bins=[i*interval for i in range(ran)]   ))\n",
        "    #location1 = str(    int(round(   float(   result.split(',')[1]    )  ) )   )\n",
        "    location1 = str(np.digitize(    round(    float(   result.split(',')[1]    )  ), bins=[i*interval for i in range(ran)]   ))\n",
        "    result = location0 + '_' + location1\n",
        "    del location0, location1\n",
        "    result = result + ','\n",
        "    return result\n",
        "\n",
        "Camera['event_contents'] = Camera.apply(lambda x: SUB(x['event_contents']), axis=1)\n",
        "Camera['event_contents'].value_counts()"
      ],
      "execution_count": 0,
      "outputs": [
        {
          "output_type": "execute_result",
          "data": {
            "text/plain": [
              "15_3,    1368738\n",
              "3_13,    1071850\n",
              "4_3,      959420\n",
              "3_12,     890975\n",
              "4_13,     866083\n",
              "          ...   \n",
              "4_1,          24\n",
              "2_4,          15\n",
              "2_17,         11\n",
              "2_3,          10\n",
              "2_2,           1\n",
              "Name: event_contents, Length: 284, dtype: int64"
            ]
          },
          "metadata": {
            "tags": []
          },
          "execution_count": 4
        }
      ]
    },
    {
      "cell_type": "code",
      "metadata": {
        "id": "Yz_bsbc5mpKw",
        "colab_type": "code",
        "colab": {}
      },
      "source": [
        "a= Camera['event_contents'].value_counts()"
      ],
      "execution_count": 0,
      "outputs": []
    },
    {
      "cell_type": "code",
      "metadata": {
        "id": "vWizde7hnKcZ",
        "colab_type": "code",
        "outputId": "f50d2039-2473-4b09-b818-c5526fee0410",
        "colab": {
          "base_uri": "https://localhost:8080/",
          "height": 35
        }
      },
      "source": [
        "len(a.loc[a>10000])"
      ],
      "execution_count": 0,
      "outputs": [
        {
          "output_type": "execute_result",
          "data": {
            "text/plain": [
              "357"
            ]
          },
          "metadata": {
            "tags": []
          },
          "execution_count": 7
        }
      ]
    },
    {
      "cell_type": "code",
      "metadata": {
        "id": "VIexaGdJoxJ3",
        "colab_type": "code",
        "colab": {}
      },
      "source": [
        "del a"
      ],
      "execution_count": 0,
      "outputs": []
    },
    {
      "cell_type": "code",
      "metadata": {
        "id": "DUcp1NmwNJPq",
        "colab_type": "code",
        "colab": {}
      },
      "source": [
        "\n",
        "columns = ['text0','text1','winner']\n",
        "mytrain = np.zeros(len(game_id)*len(columns))\n",
        "mytrain = mytrain.reshape(len(game_id),len(columns))\n",
        "mytrain = pd.DataFrame(mytrain, columns=columns)\n",
        "mytrain.index = game_id\n",
        "mytrain.winner = winner\n",
        "mytrain.loc[:,'text0'] = Camera.loc[Camera['player']==0,:].loc[Camera['event']=='Camera',:].groupby(['game_id']).event_contents.sum()\n",
        "mytrain.loc[:,'text1'] = Camera.loc[Camera['player']==1,:].loc[Camera['event']=='Camera',:].groupby(['game_id']).event_contents.sum()\n",
        "del Camera\n",
        "mytrain = mytrain.fillna('')\n"
      ],
      "execution_count": 0,
      "outputs": []
    },
    {
      "cell_type": "markdown",
      "metadata": {
        "id": "8JjM3HUWfUZy",
        "colab_type": "text"
      },
      "source": [
        "## Test 로부터 mytest 데이터 생성"
      ]
    },
    {
      "cell_type": "code",
      "metadata": {
        "id": "9V3k08cWfTy_",
        "colab_type": "code",
        "outputId": "4db705c0-a0f3-4c7a-e23d-9b61f0f06964",
        "colab": {
          "base_uri": "https://localhost:8080/",
          "height": 233
        }
      },
      "source": [
        "test = pd.read_csv('test.csv')\n",
        "game_id = test.game_id.unique().tolist()\n",
        "Camera = test.loc[test['event']=='Camera',:]\n",
        "del test\n",
        "\n",
        "Camera['event_contents'] = Camera.apply(lambda x: SUB(x['event_contents']), axis=1)\n",
        "Camera['event_contents'].value_counts()"
      ],
      "execution_count": 0,
      "outputs": [
        {
          "output_type": "execute_result",
          "data": {
            "text/plain": [
              "15_3,    579061\n",
              "3_13,    450045\n",
              "4_3,     404225\n",
              "3_12,    374832\n",
              "4_13,    370596\n",
              "          ...  \n",
              "5_1,         10\n",
              "2_2,          9\n",
              "2_3,          6\n",
              "2_4,          3\n",
              "2_17,         2\n",
              "Name: event_contents, Length: 284, dtype: int64"
            ]
          },
          "metadata": {
            "tags": []
          },
          "execution_count": 6
        }
      ]
    },
    {
      "cell_type": "code",
      "metadata": {
        "id": "CzoqCPuJfZFr",
        "colab_type": "code",
        "colab": {}
      },
      "source": [
        "columns = ['text0','text1']\n",
        "mytest = np.zeros(len(game_id)*len(columns))\n",
        "mytest = mytest.reshape(len(game_id),len(columns))\n",
        "mytest = pd.DataFrame(mytest, columns=columns)\n",
        "mytest.index = game_id\n",
        "\n",
        "mytest.loc[:,'text0'] = Camera.loc[Camera['player']==0,:].loc[Camera['event']=='Camera',:].groupby(['game_id']).event_contents.sum()\n",
        "mytest.loc[:,'text1'] = Camera.loc[Camera['player']==1,:].loc[Camera['event']=='Camera',:].groupby(['game_id']).event_contents.sum()\n",
        "del Camera\n",
        "mytest = mytest.fillna('')\n"
      ],
      "execution_count": 0,
      "outputs": []
    },
    {
      "cell_type": "markdown",
      "metadata": {
        "id": "anbjc5CjPwZy",
        "colab_type": "text"
      },
      "source": [
        "## PipeLine 없이 모델링"
      ]
    },
    {
      "cell_type": "markdown",
      "metadata": {
        "id": "k8nRNgjVP6wl",
        "colab_type": "text"
      },
      "source": [
        "### 1. CountVevtorizer"
      ]
    },
    {
      "cell_type": "code",
      "metadata": {
        "id": "p2CeZLzAP-M_",
        "colab_type": "code",
        "outputId": "0bf70a4a-8c22-4df8-dd09-004c5018a32e",
        "colab": {
          "base_uri": "https://localhost:8080/",
          "height": 71
        }
      },
      "source": [
        "from sklearn.feature_extraction.text import TfidfVectorizer\n",
        "from sklearn.pipeline import Pipeline\n",
        "from sklearn.metrics import accuracy_score, roc_auc_score\n",
        "import pandas as pd\n",
        "import numpy as np\n",
        "import pickle\n",
        "from sklearn.model_selection import train_test_split\n",
        "from nltk.corpus import stopwords\n",
        "from sklearn.feature_extraction.text import TfidfTransformer\n",
        "from sklearn.feature_extraction.text import CountVectorizer\n",
        "def tokenizer(text):\n",
        "    return text.split(',')\n",
        "\n",
        "########### 사용할 모수들 ###################\n",
        "min_df = 3000\n",
        "ngram_range = (1,1)\n",
        "seed = 42\n",
        "\n",
        "######################## 데이터로부터 단어가방 생성 ####################\n",
        "vectorizer0 = CountVectorizer(min_df=min_df, ngram_range=ngram_range)\n",
        "revised_reviews0 = [' '.join(review.split(',')) for review in mytrain.text0]\n",
        "vector_reviews0 = vectorizer0.fit_transform(revised_reviews0)\n",
        "print(vector_reviews0.shape)\n",
        "\n",
        "vectorizer1 = CountVectorizer(min_df=min_df, ngram_range=ngram_range)\n",
        "revised_reviews1 = [' '.join(review.split(',')) for review in mytrain.text1]\n",
        "vector_reviews1 = vectorizer1.fit_transform(revised_reviews1)\n",
        "print(vector_reviews1.shape)\n",
        "\n",
        "player0 = pd.DataFrame(   vector_reviews0.toarray()*1, columns = vectorizer0.get_feature_names()  )\n",
        "player0 = player0.add_prefix('player0_')\n",
        "player1 = pd.DataFrame(   vector_reviews1.toarray()*1, columns = vectorizer1.get_feature_names()  )\n",
        "player1 = player1.add_prefix('player1_')\n",
        "X = pd.concat([player0,player1],axis=1)\n",
        "y = mytrain.winner\n",
        "print(X.shape)\n",
        "del vectorizer0, vectorizer1, revised_reviews0, revised_reviews1, vector_reviews0, vector_reviews1\n",
        "del player0, player1\n"
      ],
      "execution_count": 0,
      "outputs": [
        {
          "output_type": "stream",
          "text": [
            "(38872, 164)\n",
            "(38872, 166)\n",
            "(38872, 330)\n"
          ],
          "name": "stdout"
        }
      ]
    },
    {
      "cell_type": "code",
      "metadata": {
        "id": "h1ExZTO8wURN",
        "colab_type": "code",
        "outputId": "6e881a38-1624-4e41-f822-881fa13b6c1a",
        "colab": {
          "base_uri": "https://localhost:8080/",
          "height": 71
        }
      },
      "source": [
        "#del X_train, X_valid, y_train, y_valid\n",
        "########### 사용할 모수들 ###################\n",
        "min_df = 1\n",
        "ngram_range = (1,1)\n",
        "seed = 42\n",
        "\n",
        "######################## 데이터로부터 단어가방 생성 ####################\n",
        "vectorizer0 = CountVectorizer(min_df=min_df, ngram_range=ngram_range)\n",
        "revised_reviews0 = [' '.join(review.split(',')) for review in mytest.text0]\n",
        "vector_reviews0 = vectorizer0.fit_transform(revised_reviews0)\n",
        "print(vector_reviews0.shape)\n",
        "\n",
        "vectorizer1 = CountVectorizer(min_df=min_df, ngram_range=ngram_range)\n",
        "revised_reviews1 = [' '.join(review.split(',')) for review in mytest.text1]\n",
        "vector_reviews1 = vectorizer1.fit_transform(revised_reviews1)\n",
        "print(vector_reviews1.shape)\n",
        "\n",
        "player0 = pd.DataFrame(   vector_reviews0.toarray()*1, columns = vectorizer0.get_feature_names()  )\n",
        "player0 = player0.add_prefix('player0_')\n",
        "player1 = pd.DataFrame(   vector_reviews1.toarray()*1, columns = vectorizer1.get_feature_names()  )\n",
        "player1 = player1.add_prefix('player1_')\n",
        "\n",
        "#del vectorizer0, vectorizer1, revised_reviews0, revised_reviews1, vector_reviews0, vector_reviews1\n",
        "\n",
        "X_test = pd.concat([player0,player1],axis=1)\n",
        "print(X_test.shape)\n",
        "\n",
        "#del player0, player1"
      ],
      "execution_count": 0,
      "outputs": [
        {
          "output_type": "stream",
          "text": [
            "(16787, 281)\n",
            "(16787, 283)\n",
            "(16787, 564)\n"
          ],
          "name": "stdout"
        }
      ]
    },
    {
      "cell_type": "code",
      "metadata": {
        "id": "wMAOgZTLwfQ2",
        "colab_type": "code",
        "outputId": "94be645a-a247-4bc1-f597-4e1db6edcdb6",
        "colab": {
          "base_uri": "https://localhost:8080/",
          "height": 71
        }
      },
      "source": [
        "print(len(X.columns))\n",
        "print(len(X_test.columns))\n",
        "print(  len(    set(X.columns) & set(X_test.columns)   ) )\n",
        "\n",
        "use_col = list(    set(X.columns) & set(X_test.columns)   )\n",
        "\n",
        "X = X.loc[:,use_col]\n",
        "X_test = X_test.loc[:,use_col]"
      ],
      "execution_count": 0,
      "outputs": [
        {
          "output_type": "stream",
          "text": [
            "330\n",
            "564\n",
            "330\n"
          ],
          "name": "stdout"
        }
      ]
    },
    {
      "cell_type": "markdown",
      "metadata": {
        "id": "hCwTKDgJt0ET",
        "colab_type": "text"
      },
      "source": [
        "#X = pd.read_pickle('train_Camera_10단위.pkl')\n",
        "#X_test = pd.read_pickle('test_Camera_10단위.pkl')\n",
        "print(X.shape)\n",
        "print(X_test.shape)"
      ]
    },
    {
      "cell_type": "code",
      "metadata": {
        "id": "UU4CC7EvwWkT",
        "colab_type": "code",
        "outputId": "97f5fc04-c5cd-4dd3-b7f0-8fbdbcb247f8",
        "colab": {
          "base_uri": "https://localhost:8080/",
          "height": 53
        }
      },
      "source": [
        "\n",
        "###################### 모델링 시작 #######################\n",
        "X_train, X_valid, y_train, y_valid = train_test_split(X, y,   stratify=y, random_state=seed)\n",
        "from sklearn.naive_bayes import BernoulliNB\n",
        "#model_bern = BernoulliNB().fit(X_train, y_train)\n",
        "from sklearn.naive_bayes import MultinomialNB\n",
        "#MNB = MultinomialNB(alpha=1).fit(X_train,y_train)\n",
        "from sklearn.ensemble import RandomForestClassifier\n",
        "rf = RandomForestClassifier(n_estimators=500, random_state=seed).fit(X_train, y_train)\n",
        "print('랜포 학습완료')\n",
        "from lightgbm import LGBMClassifier\n",
        "lgbm = LGBMClassifier(n_estimators=500,random_state=seed).fit(X_train,y_train)\n",
        "print('LGBM 학습완료')"
      ],
      "execution_count": 0,
      "outputs": [
        {
          "output_type": "stream",
          "text": [
            "랜포 학습완료\n",
            "LGBM 학습완료\n"
          ],
          "name": "stdout"
        }
      ]
    },
    {
      "cell_type": "code",
      "metadata": {
        "id": "oKohTPrXb8kI",
        "colab_type": "code",
        "outputId": "c28b949d-df82-4e62-8f0f-056c08642952",
        "colab": {
          "base_uri": "https://localhost:8080/",
          "height": 305
        }
      },
      "source": [
        "## 랜포     #raw_  min_df=1000 & 300 : 0.5661 (941개)\n",
        "## int:     min_df=2500 & 500 : 0.5373 (748),   3000 & 1000 : 0.5270 (387)\n",
        "## 3단위:   min_df=5000 & 500 : 0.5421 (328)\n",
        "## 5단위:   min_df=2000 & 200 : 0.5712 (899),    2500&250 : 0.5712 (718),   4000&250 : 0.5648 (428), 5000&250 : 0.5504(285) ###############################################\n",
        "## 6단위:   min_df= 2000 & 200  : 0.5721 (753),  2500&250 : 0.5714 (634), 5000&500 : 0.5636 (255)   ############################################\n",
        "## 7.5단위:   min_df= 1 & 1 : 0.5658 (905)\n",
        "## 10단위:  min_df= 1 : 0.5703 (564) ,  5 : 0.5685 (560),   10 : 0.5673(555), 2000 : 0.5722 (397), 3000 : 0.5711 (330),  (286), 4000 : 0.5733 (243)\n",
        "## 12단위:  min_df= 1 & 1 : 0.5660 (400),          #####     12 & 1 : 0.5725(391) ,#####             13 :0.5678 (389), 14 : 0.5689\n",
        "## 15단위:  min_df= 1 & 1 : 0.5645 (256), 5 : 0.5614\n",
        "y_pred = rf.predict_proba(X_valid)[:,1]\n",
        "print(rf)\n",
        "print(\"테스트 정확도: {:.4f}\".format(roc_auc_score(y_valid, y_pred)))\n",
        "\n",
        "## LGBM     #raw_  min_df=1000 & 300 : 0.5518 (941개)\n",
        "## int:   0.5323,   0.5267\n",
        "## 3단위: 0.5278\n",
        "## 5단위: 0.5523 (899), 0.5463, 0.5468, 0.5350\n",
        "## 6단위: 0.5380,0.5410,0.0.5414\n",
        "## 7.5단위: 0.5299\n",
        "## 10단위: 0.5511, 2000 : 0.5527, 3000 : 0.5590, 4000 : 0.5515\n",
        "## 12단위: 0.5452, 0.5452, 0.5452, 0.5452, \n",
        "## 15단위: \n",
        "y_pred = lgbm.predict_proba(X_valid)[:,1]\n",
        "print(lgbm)\n",
        "print(\"테스트 정확도: {:.4f}\".format(roc_auc_score(y_valid, y_pred)))"
      ],
      "execution_count": 0,
      "outputs": [
        {
          "output_type": "stream",
          "text": [
            "RandomForestClassifier(bootstrap=True, ccp_alpha=0.0, class_weight=None,\n",
            "                       criterion='gini', max_depth=None, max_features='auto',\n",
            "                       max_leaf_nodes=None, max_samples=None,\n",
            "                       min_impurity_decrease=0.0, min_impurity_split=None,\n",
            "                       min_samples_leaf=1, min_samples_split=2,\n",
            "                       min_weight_fraction_leaf=0.0, n_estimators=500,\n",
            "                       n_jobs=None, oob_score=False, random_state=42, verbose=0,\n",
            "                       warm_start=False)\n",
            "테스트 정확도: 0.5711\n",
            "LGBMClassifier(boosting_type='gbdt', class_weight=None, colsample_bytree=1.0,\n",
            "               importance_type='split', learning_rate=0.1, max_depth=-1,\n",
            "               min_child_samples=20, min_child_weight=0.001, min_split_gain=0.0,\n",
            "               n_estimators=500, n_jobs=-1, num_leaves=31, objective=None,\n",
            "               random_state=42, reg_alpha=0.0, reg_lambda=0.0, silent=True,\n",
            "               subsample=1.0, subsample_for_bin=200000, subsample_freq=0)\n",
            "테스트 정확도: 0.5590\n"
          ],
          "name": "stdout"
        }
      ]
    },
    {
      "cell_type": "markdown",
      "metadata": {
        "id": "_9LhJ7SnQhF8",
        "colab_type": "text"
      },
      "source": [
        "### 2. TF-IDF"
      ]
    },
    {
      "cell_type": "code",
      "metadata": {
        "id": "nPbrCTLtQio-",
        "colab_type": "code",
        "outputId": "94c1bfbc-e005-4511-f393-68a12aff11e7",
        "colab": {
          "base_uri": "https://localhost:8080/",
          "height": 71
        }
      },
      "source": [
        "from sklearn.feature_extraction.text import TfidfVectorizer\n",
        "from sklearn.pipeline import Pipeline\n",
        "from sklearn.metrics import accuracy_score, roc_auc_score\n",
        "import pandas as pd\n",
        "import numpy as np\n",
        "import pickle\n",
        "from sklearn.model_selection import train_test_split\n",
        "from nltk.corpus import stopwords\n",
        "from sklearn.feature_extraction.text import TfidfTransformer\n",
        "from sklearn.feature_extraction.text import CountVectorizer\n",
        "def tokenizer(text):\n",
        "    return text.split(',')\n",
        "\n",
        "########### 사용할 모수들 ###################\n",
        "min_df = 2\n",
        "ngram_range = (1,1)\n",
        "seed = 42\n",
        "\n",
        "######################## 데이터로부터 단어가방 생성 ####################\n",
        "vectorizer0 = TfidfVectorizer(min_df=min_df, ngram_range=ngram_range)\n",
        "revised_reviews0 = [' '.join(review.split(',')) for review in mytrain.text0]\n",
        "vector_reviews0 = vectorizer0.fit_transform(revised_reviews0)\n",
        "print(vector_reviews0.shape)\n",
        "\n",
        "vectorizer1 = TfidfVectorizer(min_df=min_df, ngram_range=ngram_range)\n",
        "revised_reviews1 = [' '.join(review.split(',')) for review in mytrain.text1]\n",
        "vector_reviews1 = vectorizer1.fit_transform(revised_reviews1)\n",
        "print(vector_reviews1.shape)\n",
        "\n",
        "player0 = pd.DataFrame(   vector_reviews0.toarray()*1, columns = vectorizer0.get_feature_names()  )\n",
        "player0 = player0.add_prefix('player0_')\n",
        "player1 = pd.DataFrame(   vector_reviews1.toarray()*1, columns = vectorizer1.get_feature_names()  )\n",
        "player1 = player1.add_prefix('player1_')\n",
        "X = pd.concat([player0,player1],axis=1)\n",
        "y = mytrain.winner\n",
        "print(X.shape)\n",
        "#del vectorizer0, vectorizer1, revised_reviews0, revised_reviews1, vector_reviews0, vector_reviews1\n",
        "#del player0, player1\n"
      ],
      "execution_count": 0,
      "outputs": [
        {
          "output_type": "stream",
          "text": [
            "(38872, 171)\n",
            "(38872, 171)\n",
            "(38872, 342)\n"
          ],
          "name": "stdout"
        }
      ]
    },
    {
      "cell_type": "code",
      "metadata": {
        "id": "CqVn5eNjWP8m",
        "colab_type": "code",
        "outputId": "1e7a626c-42ca-4160-8f23-f2084397b309",
        "colab": {
          "base_uri": "https://localhost:8080/",
          "height": 71
        }
      },
      "source": [
        "#del X_train, X_valid, y_train, y_valid\n",
        "########### 사용할 모수들 ###################\n",
        "min_df = 2\n",
        "ngram_range = (1,1)\n",
        "seed = 42\n",
        "\n",
        "######################## 데이터로부터 단어가방 생성 ####################\n",
        "vectorizer0 = TfidfVectorizer(min_df=min_df, ngram_range=ngram_range)\n",
        "revised_reviews0 = [' '.join(review.split(',')) for review in mytest.text0]\n",
        "vector_reviews0 = vectorizer0.fit_transform(revised_reviews0)\n",
        "print(vector_reviews0.shape)\n",
        "\n",
        "vectorizer1 = TfidfVectorizer(min_df=min_df, ngram_range=ngram_range)\n",
        "revised_reviews1 = [' '.join(review.split(',')) for review in mytest.text1]\n",
        "vector_reviews1 = vectorizer1.fit_transform(revised_reviews1)\n",
        "print(vector_reviews1.shape)\n",
        "\n",
        "player0 = pd.DataFrame(   vector_reviews0.toarray()*1, columns = vectorizer0.get_feature_names()  )\n",
        "player0 = player0.add_prefix('player0_')\n",
        "player1 = pd.DataFrame(   vector_reviews1.toarray()*1, columns = vectorizer1.get_feature_names()  )\n",
        "player1 = player1.add_prefix('player1_')\n",
        "\n",
        "#del vectorizer0, vectorizer1, revised_reviews0, revised_reviews1, vector_reviews0, vector_reviews1\n",
        "\n",
        "X_test = pd.concat([player0,player1],axis=1)\n",
        "print(X_test.shape)\n",
        "\n",
        "#del player0, player1"
      ],
      "execution_count": 0,
      "outputs": [
        {
          "output_type": "stream",
          "text": [
            "(16787, 165)\n",
            "(16787, 166)\n",
            "(16787, 331)\n"
          ],
          "name": "stdout"
        }
      ]
    },
    {
      "cell_type": "code",
      "metadata": {
        "id": "UFQz7IfoZsSC",
        "colab_type": "code",
        "outputId": "7b72194f-c287-486a-b759-529c1f3be928",
        "colab": {
          "base_uri": "https://localhost:8080/",
          "height": 71
        }
      },
      "source": [
        "print(len(X.columns))\n",
        "print(len(X_test.columns))\n",
        "print(  len(    set(X.columns) & set(X_test.columns)   ) )\n",
        "\n",
        "use_col = list(    set(X.columns) & set(X_test.columns)   )\n",
        "\n",
        "X = X.loc[:,use_col]\n",
        "X_test = X_test.loc[:,use_col]"
      ],
      "execution_count": 0,
      "outputs": [
        {
          "output_type": "stream",
          "text": [
            "342\n",
            "331\n",
            "329\n"
          ],
          "name": "stdout"
        }
      ]
    },
    {
      "cell_type": "code",
      "metadata": {
        "id": "_JAh9NlTFWCf",
        "colab_type": "code",
        "outputId": "b7c6813b-6b74-4b58-f85d-07f93a4e78f0",
        "colab": {
          "base_uri": "https://localhost:8080/",
          "height": 53
        }
      },
      "source": [
        "\n",
        "###################### 모델링 시작 #######################\n",
        "X_train, X_valid, y_train, y_valid = train_test_split(X, y,   stratify=y, random_state=seed)\n",
        "from sklearn.naive_bayes import BernoulliNB\n",
        "#model_bern = BernoulliNB().fit(X_train, y_train)\n",
        "from sklearn.naive_bayes import MultinomialNB\n",
        "#MNB = MultinomialNB(alpha=1).fit(X_train,y_train)\n",
        "from sklearn.ensemble import RandomForestClassifier\n",
        "rf = RandomForestClassifier(n_estimators=1000, random_state=seed).fit(X_train, y_train)\n",
        "print('랜포 학습완료')\n",
        "from lightgbm import LGBMClassifier\n",
        "lgbm = LGBMClassifier(random_state=seed).fit(X_train,y_train)\n",
        "print('LGBM 학습완료')"
      ],
      "execution_count": 0,
      "outputs": [
        {
          "output_type": "stream",
          "text": [
            "랜포 학습완료\n",
            "LGBM 학습완료\n"
          ],
          "name": "stdout"
        }
      ]
    },
    {
      "cell_type": "code",
      "metadata": {
        "id": "V5Kmcm4eFb1_",
        "colab_type": "code",
        "outputId": "bd504f0e-91f6-42a9-9614-ba215db35061",
        "colab": {
          "base_uri": "https://localhost:8080/",
          "height": 305
        }
      },
      "source": [
        "## 랜포 #  min_df=1 : 0.6660 vs min_df=2 : 6625\n",
        "y_pred = rf.predict_proba(X_valid)[:,1]\n",
        "print(rf)\n",
        "print(\"테스트 정확도: {:.4f}\".format(roc_auc_score(y_valid, y_pred)))\n",
        "\n",
        "## LGBM #  min_df=1 : 0.6625 vs min_df=2 : 6668\n",
        "y_pred = lgbm.predict_proba(X_valid)[:,1]\n",
        "print(lgbm)\n",
        "print(\"테스트 정확도: {:.4f}\".format(roc_auc_score(y_valid, y_pred)))"
      ],
      "execution_count": 0,
      "outputs": [
        {
          "output_type": "stream",
          "text": [
            "RandomForestClassifier(bootstrap=True, ccp_alpha=0.0, class_weight=None,\n",
            "                       criterion='gini', max_depth=None, max_features='auto',\n",
            "                       max_leaf_nodes=None, max_samples=None,\n",
            "                       min_impurity_decrease=0.0, min_impurity_split=None,\n",
            "                       min_samples_leaf=1, min_samples_split=2,\n",
            "                       min_weight_fraction_leaf=0.0, n_estimators=1000,\n",
            "                       n_jobs=None, oob_score=False, random_state=42, verbose=0,\n",
            "                       warm_start=False)\n",
            "테스트 정확도: 0.6668\n",
            "LGBMClassifier(boosting_type='gbdt', class_weight=None, colsample_bytree=1.0,\n",
            "               importance_type='split', learning_rate=0.1, max_depth=-1,\n",
            "               min_child_samples=20, min_child_weight=0.001, min_split_gain=0.0,\n",
            "               n_estimators=100, n_jobs=-1, num_leaves=31, objective=None,\n",
            "               random_state=42, reg_alpha=0.0, reg_lambda=0.0, silent=True,\n",
            "               subsample=1.0, subsample_for_bin=200000, subsample_freq=0)\n",
            "테스트 정확도: 0.6625\n"
          ],
          "name": "stdout"
        }
      ]
    },
    {
      "cell_type": "markdown",
      "metadata": {
        "id": "-SFACZ16gQdW",
        "colab_type": "text"
      },
      "source": [
        "## (예측을 위함)테스트 데이터 단어가방 생성"
      ]
    },
    {
      "cell_type": "code",
      "metadata": {
        "id": "IZBYPXdsz9KU",
        "colab_type": "code",
        "outputId": "c22ce84c-e444-45f8-f756-6f9ed391bb6a",
        "colab": {
          "base_uri": "https://localhost:8080/",
          "height": 107
        }
      },
      "source": [
        "X_test.info()"
      ],
      "execution_count": 0,
      "outputs": [
        {
          "output_type": "stream",
          "text": [
            "<class 'pandas.core.frame.DataFrame'>\n",
            "RangeIndex: 16787 entries, 0 to 16786\n",
            "Columns: 453 entries, player1_3_9 to player0_16_13\n",
            "dtypes: int64(453)\n",
            "memory usage: 58.0 MB\n"
          ],
          "name": "stdout"
        }
      ]
    },
    {
      "cell_type": "code",
      "metadata": {
        "id": "MWFZaJwMtAUU",
        "colab_type": "code",
        "outputId": "b91caa72-6671-48fc-bf81-ce0c93a2c9c0",
        "colab": {
          "base_uri": "https://localhost:8080/",
          "height": 160
        }
      },
      "source": [
        "X.head(2)"
      ],
      "execution_count": 0,
      "outputs": [
        {
          "output_type": "execute_result",
          "data": {
            "text/html": [
              "<div>\n",
              "<style scoped>\n",
              "    .dataframe tbody tr th:only-of-type {\n",
              "        vertical-align: middle;\n",
              "    }\n",
              "\n",
              "    .dataframe tbody tr th {\n",
              "        vertical-align: top;\n",
              "    }\n",
              "\n",
              "    .dataframe thead th {\n",
              "        text-align: right;\n",
              "    }\n",
              "</style>\n",
              "<table border=\"1\" class=\"dataframe\">\n",
              "  <thead>\n",
              "    <tr style=\"text-align: right;\">\n",
              "      <th></th>\n",
              "      <th>player0_15_8</th>\n",
              "      <th>player1_5_14</th>\n",
              "      <th>player1_15_15</th>\n",
              "      <th>player0_5_10</th>\n",
              "      <th>player1_8_12</th>\n",
              "      <th>player1_9_7</th>\n",
              "      <th>player1_3_8</th>\n",
              "      <th>player0_8_12</th>\n",
              "      <th>player1_14_15</th>\n",
              "      <th>player1_4_12</th>\n",
              "      <th>player1_13_12</th>\n",
              "      <th>player0_3_13</th>\n",
              "      <th>player1_6_7</th>\n",
              "      <th>player1_10_4</th>\n",
              "      <th>player0_14_7</th>\n",
              "      <th>player0_5_8</th>\n",
              "      <th>player0_13_16</th>\n",
              "      <th>player1_12_7</th>\n",
              "      <th>player1_3_13</th>\n",
              "      <th>player0_4_15</th>\n",
              "      <th>player0_12_5</th>\n",
              "      <th>player0_16_2</th>\n",
              "      <th>player0_6_14</th>\n",
              "      <th>player1_5_13</th>\n",
              "      <th>player1_5_9</th>\n",
              "      <th>player1_7_6</th>\n",
              "      <th>player1_7_13</th>\n",
              "      <th>player0_6_6</th>\n",
              "      <th>player0_14_5</th>\n",
              "      <th>player0_16_4</th>\n",
              "      <th>player1_17_2</th>\n",
              "      <th>player0_12_13</th>\n",
              "      <th>player0_16_6</th>\n",
              "      <th>player1_6_5</th>\n",
              "      <th>player1_5_2</th>\n",
              "      <th>player0_6_11</th>\n",
              "      <th>player0_11_6</th>\n",
              "      <th>player0_5_2</th>\n",
              "      <th>player1_16_2</th>\n",
              "      <th>player0_16_8</th>\n",
              "      <th>...</th>\n",
              "      <th>player1_6_10</th>\n",
              "      <th>player0_3_2</th>\n",
              "      <th>player1_14_17</th>\n",
              "      <th>player1_4_4</th>\n",
              "      <th>player1_14_11</th>\n",
              "      <th>player1_4_9</th>\n",
              "      <th>player0_13_7</th>\n",
              "      <th>player0_13_12</th>\n",
              "      <th>player1_4_11</th>\n",
              "      <th>player1_5_11</th>\n",
              "      <th>player1_12_4</th>\n",
              "      <th>player0_16_11</th>\n",
              "      <th>player0_3_5</th>\n",
              "      <th>player0_5_4</th>\n",
              "      <th>player1_8_10</th>\n",
              "      <th>player0_10_8</th>\n",
              "      <th>player0_3_10</th>\n",
              "      <th>player1_12_14</th>\n",
              "      <th>player1_11_16</th>\n",
              "      <th>player0_14_8</th>\n",
              "      <th>player1_12_6</th>\n",
              "      <th>player1_15_17</th>\n",
              "      <th>player1_6_12</th>\n",
              "      <th>player1_8_9</th>\n",
              "      <th>player0_15_12</th>\n",
              "      <th>player1_15_12</th>\n",
              "      <th>player1_3_6</th>\n",
              "      <th>player0_8_8</th>\n",
              "      <th>player1_10_5</th>\n",
              "      <th>player1_15_4</th>\n",
              "      <th>player1_5_7</th>\n",
              "      <th>player0_16_3</th>\n",
              "      <th>player0_7_12</th>\n",
              "      <th>player0_15_14</th>\n",
              "      <th>player0_13_11</th>\n",
              "      <th>player1_15_16</th>\n",
              "      <th>player1_9_8</th>\n",
              "      <th>player1_15_8</th>\n",
              "      <th>player0_9_7</th>\n",
              "      <th>player1_15_9</th>\n",
              "    </tr>\n",
              "  </thead>\n",
              "  <tbody>\n",
              "    <tr>\n",
              "      <th>0</th>\n",
              "      <td>0</td>\n",
              "      <td>0</td>\n",
              "      <td>0</td>\n",
              "      <td>0</td>\n",
              "      <td>0</td>\n",
              "      <td>0</td>\n",
              "      <td>0</td>\n",
              "      <td>0</td>\n",
              "      <td>0</td>\n",
              "      <td>0</td>\n",
              "      <td>0</td>\n",
              "      <td>0</td>\n",
              "      <td>0</td>\n",
              "      <td>0</td>\n",
              "      <td>0</td>\n",
              "      <td>0</td>\n",
              "      <td>0</td>\n",
              "      <td>0</td>\n",
              "      <td>61</td>\n",
              "      <td>3</td>\n",
              "      <td>0</td>\n",
              "      <td>0</td>\n",
              "      <td>5</td>\n",
              "      <td>2</td>\n",
              "      <td>0</td>\n",
              "      <td>0</td>\n",
              "      <td>0</td>\n",
              "      <td>0</td>\n",
              "      <td>55</td>\n",
              "      <td>0</td>\n",
              "      <td>0</td>\n",
              "      <td>0</td>\n",
              "      <td>0</td>\n",
              "      <td>0</td>\n",
              "      <td>0</td>\n",
              "      <td>0</td>\n",
              "      <td>0</td>\n",
              "      <td>0</td>\n",
              "      <td>0</td>\n",
              "      <td>0</td>\n",
              "      <td>...</td>\n",
              "      <td>0</td>\n",
              "      <td>0</td>\n",
              "      <td>0</td>\n",
              "      <td>0</td>\n",
              "      <td>0</td>\n",
              "      <td>0</td>\n",
              "      <td>0</td>\n",
              "      <td>0</td>\n",
              "      <td>0</td>\n",
              "      <td>0</td>\n",
              "      <td>0</td>\n",
              "      <td>0</td>\n",
              "      <td>0</td>\n",
              "      <td>0</td>\n",
              "      <td>0</td>\n",
              "      <td>0</td>\n",
              "      <td>0</td>\n",
              "      <td>0</td>\n",
              "      <td>0</td>\n",
              "      <td>0</td>\n",
              "      <td>0</td>\n",
              "      <td>0</td>\n",
              "      <td>0</td>\n",
              "      <td>0</td>\n",
              "      <td>0</td>\n",
              "      <td>0</td>\n",
              "      <td>0</td>\n",
              "      <td>0</td>\n",
              "      <td>0</td>\n",
              "      <td>0</td>\n",
              "      <td>0</td>\n",
              "      <td>0</td>\n",
              "      <td>0</td>\n",
              "      <td>0</td>\n",
              "      <td>0</td>\n",
              "      <td>0</td>\n",
              "      <td>0</td>\n",
              "      <td>0</td>\n",
              "      <td>0</td>\n",
              "      <td>0</td>\n",
              "    </tr>\n",
              "    <tr>\n",
              "      <th>1</th>\n",
              "      <td>0</td>\n",
              "      <td>0</td>\n",
              "      <td>0</td>\n",
              "      <td>0</td>\n",
              "      <td>0</td>\n",
              "      <td>0</td>\n",
              "      <td>0</td>\n",
              "      <td>0</td>\n",
              "      <td>11</td>\n",
              "      <td>0</td>\n",
              "      <td>0</td>\n",
              "      <td>0</td>\n",
              "      <td>0</td>\n",
              "      <td>0</td>\n",
              "      <td>0</td>\n",
              "      <td>0</td>\n",
              "      <td>61</td>\n",
              "      <td>0</td>\n",
              "      <td>0</td>\n",
              "      <td>0</td>\n",
              "      <td>0</td>\n",
              "      <td>0</td>\n",
              "      <td>0</td>\n",
              "      <td>0</td>\n",
              "      <td>0</td>\n",
              "      <td>0</td>\n",
              "      <td>0</td>\n",
              "      <td>0</td>\n",
              "      <td>0</td>\n",
              "      <td>0</td>\n",
              "      <td>0</td>\n",
              "      <td>0</td>\n",
              "      <td>0</td>\n",
              "      <td>0</td>\n",
              "      <td>24</td>\n",
              "      <td>0</td>\n",
              "      <td>0</td>\n",
              "      <td>0</td>\n",
              "      <td>0</td>\n",
              "      <td>0</td>\n",
              "      <td>...</td>\n",
              "      <td>0</td>\n",
              "      <td>0</td>\n",
              "      <td>9</td>\n",
              "      <td>41</td>\n",
              "      <td>5</td>\n",
              "      <td>0</td>\n",
              "      <td>0</td>\n",
              "      <td>0</td>\n",
              "      <td>0</td>\n",
              "      <td>0</td>\n",
              "      <td>0</td>\n",
              "      <td>0</td>\n",
              "      <td>0</td>\n",
              "      <td>0</td>\n",
              "      <td>0</td>\n",
              "      <td>0</td>\n",
              "      <td>0</td>\n",
              "      <td>0</td>\n",
              "      <td>13</td>\n",
              "      <td>0</td>\n",
              "      <td>0</td>\n",
              "      <td>0</td>\n",
              "      <td>0</td>\n",
              "      <td>0</td>\n",
              "      <td>0</td>\n",
              "      <td>26</td>\n",
              "      <td>22</td>\n",
              "      <td>0</td>\n",
              "      <td>0</td>\n",
              "      <td>0</td>\n",
              "      <td>0</td>\n",
              "      <td>0</td>\n",
              "      <td>0</td>\n",
              "      <td>10</td>\n",
              "      <td>0</td>\n",
              "      <td>0</td>\n",
              "      <td>1</td>\n",
              "      <td>0</td>\n",
              "      <td>0</td>\n",
              "      <td>0</td>\n",
              "    </tr>\n",
              "  </tbody>\n",
              "</table>\n",
              "<p>2 rows × 330 columns</p>\n",
              "</div>"
            ],
            "text/plain": [
              "   player0_15_8  player1_5_14  ...  player0_9_7  player1_15_9\n",
              "0             0             0  ...            0             0\n",
              "1             0             0  ...            0             0\n",
              "\n",
              "[2 rows x 330 columns]"
            ]
          },
          "metadata": {
            "tags": []
          },
          "execution_count": 40
        }
      ]
    },
    {
      "cell_type": "code",
      "metadata": {
        "id": "HAMC00p-z6bY",
        "colab_type": "code",
        "colab": {}
      },
      "source": [
        "X.to_pickle('train_Camera_10단위.pkl')\n",
        "X_test.to_pickle('test_Camera_10단위.pkl')"
      ],
      "execution_count": 0,
      "outputs": []
    },
    {
      "cell_type": "code",
      "metadata": {
        "id": "Ac48tz8-gl_E",
        "colab_type": "code",
        "outputId": "2f4557f1-6494-4a5a-c50f-797acd055f63",
        "colab": {
          "base_uri": "https://localhost:8080/",
          "height": 235
        }
      },
      "source": [
        "pred = rf.predict_proba(X_test)[:,1]\n",
        "\n",
        "submission = pd.read_csv('sample_submission.csv', index_col=0)\n",
        "submission['winner'] = submission['winner'] + pred\n",
        "submission.to_csv('제출/텍스트전처리4_Camera만으로_단어임베딩만으로.csv', encoding='utf8')\n",
        "submission.head()"
      ],
      "execution_count": 0,
      "outputs": [
        {
          "output_type": "execute_result",
          "data": {
            "text/html": [
              "<div>\n",
              "<style scoped>\n",
              "    .dataframe tbody tr th:only-of-type {\n",
              "        vertical-align: middle;\n",
              "    }\n",
              "\n",
              "    .dataframe tbody tr th {\n",
              "        vertical-align: top;\n",
              "    }\n",
              "\n",
              "    .dataframe thead th {\n",
              "        text-align: right;\n",
              "    }\n",
              "</style>\n",
              "<table border=\"1\" class=\"dataframe\">\n",
              "  <thead>\n",
              "    <tr style=\"text-align: right;\">\n",
              "      <th></th>\n",
              "      <th>winner</th>\n",
              "    </tr>\n",
              "    <tr>\n",
              "      <th>game_id</th>\n",
              "      <th></th>\n",
              "    </tr>\n",
              "  </thead>\n",
              "  <tbody>\n",
              "    <tr>\n",
              "      <th>38872</th>\n",
              "      <td>0.475</td>\n",
              "    </tr>\n",
              "    <tr>\n",
              "      <th>38873</th>\n",
              "      <td>0.513</td>\n",
              "    </tr>\n",
              "    <tr>\n",
              "      <th>38874</th>\n",
              "      <td>0.553</td>\n",
              "    </tr>\n",
              "    <tr>\n",
              "      <th>38875</th>\n",
              "      <td>0.284</td>\n",
              "    </tr>\n",
              "    <tr>\n",
              "      <th>38876</th>\n",
              "      <td>0.505</td>\n",
              "    </tr>\n",
              "  </tbody>\n",
              "</table>\n",
              "</div>"
            ],
            "text/plain": [
              "         winner\n",
              "game_id        \n",
              "38872     0.475\n",
              "38873     0.513\n",
              "38874     0.553\n",
              "38875     0.284\n",
              "38876     0.505"
            ]
          },
          "metadata": {
            "tags": []
          },
          "execution_count": 26
        }
      ]
    },
    {
      "cell_type": "code",
      "metadata": {
        "id": "rW5X0jA1utPs",
        "colab_type": "code",
        "colab": {}
      },
      "source": [
        ""
      ],
      "execution_count": 0,
      "outputs": []
    }
  ]
}