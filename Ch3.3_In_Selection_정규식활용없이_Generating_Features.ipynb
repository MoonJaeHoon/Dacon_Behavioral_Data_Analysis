{
  "nbformat": 4,
  "nbformat_minor": 0,
  "metadata": {
    "colab": {
      "name": "3_3번_In_Selection_정규식활용없이_Generating_Features.ipynb",
      "provenance": [],
      "collapsed_sections": [],
      "machine_shape": "hm",
      "include_colab_link": true
    },
    "kernelspec": {
      "name": "python3",
      "display_name": "Python 3"
    },
    "accelerator": "GPU"
  },
  "cells": [
    {
      "cell_type": "markdown",
      "metadata": {
        "id": "view-in-github",
        "colab_type": "text"
      },
      "source": [
        "<a href=\"https://colab.research.google.com/github/MoonJaeHoon/Dacon_Behavioral_Data_Analysis/blob/master/3_3%EB%B2%88_In_Selection_%EC%A0%95%EA%B7%9C%EC%8B%9D%ED%99%9C%EC%9A%A9%EC%97%86%EC%9D%B4_Generating_Features.ipynb\" target=\"_parent\"><img src=\"https://colab.research.google.com/assets/colab-badge.svg\" alt=\"Open In Colab\"/></a>"
      ]
    },
    {
      "cell_type": "code",
      "metadata": {
        "id": "f1HUBrsTiOXw",
        "colab_type": "code",
        "outputId": "785c1c75-8ae1-45d5-e6f8-ed28fd57c119",
        "colab": {
          "base_uri": "https://localhost:8080/",
          "height": 35
        }
      },
      "source": [
        "from google.colab import drive\n",
        "drive.mount('/content/drive')"
      ],
      "execution_count": 0,
      "outputs": [
        {
          "output_type": "stream",
          "text": [
            "Drive already mounted at /content/drive; to attempt to forcibly remount, call drive.mount(\"/content/drive\", force_remount=True).\n"
          ],
          "name": "stdout"
        }
      ]
    },
    {
      "cell_type": "code",
      "metadata": {
        "id": "nIF5I3jmiVci",
        "colab_type": "code",
        "outputId": "676d7396-0bc4-49c0-b778-0ef7c5fc26b5",
        "colab": {
          "base_uri": "https://localhost:8080/",
          "height": 125
        }
      },
      "source": [
        "import os\n",
        "print( '변경 전 기본 경로 :' )\n",
        "print(  os.getcwd() )\n",
        "os.chdir('./drive/My Drive/데이콘_게임데이터분석')\n",
        "print( '변경 후 파일 경로 :' )\n",
        "print(  os.getcwd()  )\n",
        "\n",
        "import numpy as np\n",
        "import pandas as pd\n",
        "\n",
        "from tqdm import tqdm_notebook              # 진행바\n",
        "from sklearn.metrics import roc_auc_score   # AUC 스코어 계산\n",
        "from sklearn.model_selection import KFold   # K-fold CV    \n",
        "#from bayes_opt import BayesianOptimization  # 베이지안 최적화 라이브러리  \n",
        "from functools import partial               # 함수 변수 고정\n",
        "import lightgbm as lgb                      # LightGBM 라이브러리\n",
        "import warnings                             \n",
        "warnings.filterwarnings(\"ignore\")           # 경고 문구 미표시\n",
        "%time\n",
        "train = pd.read_csv('./train.csv')\n",
        "\n"
      ],
      "execution_count": 0,
      "outputs": [
        {
          "output_type": "stream",
          "text": [
            "변경 전 기본 경로 :\n",
            "/content\n",
            "변경 후 파일 경로 :\n",
            "/content/drive/My Drive/데이콘_게임데이터분석\n",
            "CPU times: user 1 µs, sys: 1 µs, total: 2 µs\n",
            "Wall time: 5.01 µs\n"
          ],
          "name": "stdout"
        }
      ]
    },
    {
      "cell_type": "markdown",
      "metadata": {
        "id": "zkDkig6uFaCt",
        "colab_type": "text"
      },
      "source": [
        "## Train 으로부터 mytrain 데이터 생성"
      ]
    },
    {
      "cell_type": "code",
      "metadata": {
        "id": "4UVM85RiRbvX",
        "colab_type": "code",
        "colab": {}
      },
      "source": [
        "Selection = train.loc[train['event']=='Selection',:]\n"
      ],
      "execution_count": 0,
      "outputs": []
    },
    {
      "cell_type": "code",
      "metadata": {
        "id": "fddJzomQX1ZW",
        "colab_type": "code",
        "outputId": "a46b8282-13b3-4457-8409-3a89a2d1f75a",
        "colab": {
          "base_uri": "https://localhost:8080/",
          "height": 253
        }
      },
      "source": [
        "Selection = train.loc[train['event']=='Selection',:]\n",
        "Selection['event_contents'].value_counts()"
      ],
      "execution_count": 0,
      "outputs": [
        {
          "output_type": "execute_result",
          "data": {
            "text/plain": [
              "[]                                                                                                                                                                                                                                                                            811772\n",
              "['OrbitalCommand [3100001]']                                                                                                                                                                                                                                                   75165\n",
              "['Nexus [3100001]']                                                                                                                                                                                                                                                            55956\n",
              "['OrbitalCommand [3440001]']                                                                                                                                                                                                                                                   52412\n",
              "['Lair [3100001]']                                                                                                                                                                                                                                                             47356\n",
              "                                                                                                                                                                                                                                                                               ...  \n",
              "['Probe [4840001]', 'Probe [4900001]', 'Probe [4A00001]', 'Probe [4D80001]', 'Probe [4FC0001]']                                                                                                                                                                                    1\n",
              "['Marine [3E00005]', 'Marine [4BC0001]']                                                                                                                                                                                                                                           1\n",
              "['SCV [3480001]', 'SCV [34C0001]', 'SCV [3500001]', 'SCV [3540001]', 'SCV [3580001]', 'SCV [35C0001]', 'SCV [3600001]', 'SCV [3640001]', 'SCV [3680001]', 'SCV [3700001]', 'SCV [3740001]', 'SCV [38C0001]', 'SCV [3940001]', 'SCV [3B40001]']                                     1\n",
              "['BanelingCocoon [4380001]', 'BanelingCocoon [43C0001]', 'BanelingCocoon [4440001]', 'Zergling [4600001]', 'Zergling [4640001]']                                                                                                                                                   1\n",
              "['Drone [3140003]', 'Drone [3200001]', 'Drone [3240001]', 'Drone [3280001]', 'Drone [3340001]', 'Drone [3380001]', 'Drone [3400001]', 'Drone [3440001]', 'Drone [3480001]', 'Drone [3900001]', 'Drone [39C0001]', 'Drone [3A80004]', 'Drone [3C00001]', 'Drone [3E00002]']         1\n",
              "Name: event_contents, Length: 1607202, dtype: int64"
            ]
          },
          "metadata": {
            "tags": []
          },
          "execution_count": 5
        }
      ]
    },
    {
      "cell_type": "code",
      "metadata": {
        "id": "Ayo2uTrUQg_O",
        "colab_type": "code",
        "outputId": "b8ee94dd-7c92-49d4-cdc6-836b05f3b963",
        "colab": {
          "base_uri": "https://localhost:8080/",
          "height": 253
        }
      },
      "source": [
        "import re\n",
        "def SUB(x):\n",
        "\n",
        "    if str(x) != \"[]\":\n",
        "        result = re.sub(' ','', x)\n",
        "        result = re.sub(\"[']\",\"\",result)\n",
        "        result = re.sub(\"[,]\",\"_\",result)\n",
        "        result = result[1:-1]\n",
        "        #result = re.sub(\"([\\(\\[]).*?([\\)\\]])\", \"\\g<1>\\g<2>\", result)\n",
        "        #result = result.split(',')\n",
        "    else:\n",
        "        result = \"Empty\"\n",
        "\n",
        "    result = result + ','\n",
        "    return result\n",
        "\n",
        "Selection['event_contents'] = Selection.apply(lambda x: SUB(x['event_contents']), axis=1)\n",
        "Selection['event_contents'].value_counts()"
      ],
      "execution_count": 0,
      "outputs": [
        {
          "output_type": "execute_result",
          "data": {
            "text/plain": [
              "Empty,                                                                                                                                                                                                                               811772\n",
              "OrbitalCommand[3100001],                                                                                                                                                                                                              75165\n",
              "Nexus[3100001],                                                                                                                                                                                                                       55956\n",
              "OrbitalCommand[3440001],                                                                                                                                                                                                              52412\n",
              "Lair[3100001],                                                                                                                                                                                                                        47356\n",
              "                                                                                                                                                                                                                                      ...  \n",
              "Drone[30C0004]_Drone[3540003]_Drone[3600001]_Drone[3680001]_Drone[36C0001]_Drone[3700001]_Drone[3780001]_Drone[37C0001]_Drone[3840001]_Drone[3880001]_Drone[3900002]_Drone[3D80001],                                                      1\n",
              "Queen[35C0002]_Queen[41C0002],                                                                                                                                                                                                            1\n",
              "Probe[3140001]_Probe[3180001]_Probe[31C0001]_Probe[3200001]_Probe[3240001]_Probe[3280001]_Probe[32C0001]_Probe[3340001]_Probe[3380001]_Probe[33C0001]_Probe[3400001]_Probe[38C0001]_Probe[3940001]_Probe[3A00001]_Probe[3A80002],         1\n",
              "Zergling[4140006]_Zergling[42C0003],                                                                                                                                                                                                      1\n",
              "Drone[35C0001]_Drone[3600001]_Drone[3680001]_Drone[3900001]_Drone[3A80001],                                                                                                                                                               1\n",
              "Name: event_contents, Length: 1607202, dtype: int64"
            ]
          },
          "metadata": {
            "tags": []
          },
          "execution_count": 6
        }
      ]
    },
    {
      "cell_type": "code",
      "metadata": {
        "id": "DUcp1NmwNJPq",
        "colab_type": "code",
        "colab": {}
      },
      "source": [
        "game_id = train.game_id.unique().tolist()\n",
        "columns = ['text0','text1','winner']\n",
        "mytrain = np.zeros(len(game_id)*len(columns))\n",
        "mytrain = mytrain.reshape(len(game_id),len(columns))\n",
        "mytrain = pd.DataFrame(mytrain, columns=columns)\n",
        "mytrain.index = game_id\n",
        "mytrain.winner = train.loc[train['player']==0,:].groupby(    ['game_id'] )['winner'].max()\n",
        "mytrain.loc[:,'text0'] = Selection.loc[Selection['player']==0,:].loc[Selection['event']=='Selection',:].groupby(['game_id']).event_contents.sum()\n",
        "mytrain.loc[:,'text1'] = Selection.loc[Selection['player']==1,:].loc[Selection['event']=='Selection',:].groupby(['game_id']).event_contents.sum()\n",
        "del train\n",
        "del Selection\n",
        "mytrain = mytrain.fillna('')\n"
      ],
      "execution_count": 0,
      "outputs": []
    },
    {
      "cell_type": "markdown",
      "metadata": {
        "id": "8JjM3HUWfUZy",
        "colab_type": "text"
      },
      "source": [
        "## Test 로부터 mytest 데이터 생성"
      ]
    },
    {
      "cell_type": "code",
      "metadata": {
        "id": "9V3k08cWfTy_",
        "colab_type": "code",
        "outputId": "99c8c233-5873-46c8-b8d1-1b39f99e9d5d",
        "colab": {
          "base_uri": "https://localhost:8080/",
          "height": 233
        }
      },
      "source": [
        "test = pd.read_csv('test.csv')\n",
        "Selection = test.loc[test['event']=='Selection',:]\n",
        "\n",
        "Selection['event_contents'] = Selection.apply(lambda x: SUB(x['event_contents']), axis=1)\n",
        "Selection['event_contents'].value_counts()"
      ],
      "execution_count": 0,
      "outputs": [
        {
          "output_type": "execute_result",
          "data": {
            "text/plain": [
              "Empty,                                                                                                                                                                345691\n",
              "OrbitalCommand[3100001],                                                                                                                                               32721\n",
              "Nexus[3100001],                                                                                                                                                        24151\n",
              "OrbitalCommand[3440001],                                                                                                                                               20455\n",
              "Lair[3100001],                                                                                                                                                         19155\n",
              "                                                                                                                                                                       ...  \n",
              "Drone[3600001]_Drone[3680001]_Drone[3700001]_Drone[3740001]_Drone[3780001]_Drone[3800001]_Drone[3880001],                                                                  1\n",
              "Probe[3400001]_Probe[3440001]_Probe[34C0001]_Probe[35C0001]_Probe[3600001]_Probe[3640001]_Probe[3680001]_Probe[36C0001]_Probe[3740001]_Probe[3840001],                     1\n",
              "Zergling[3C00009]_Zergling[3E40006]_Zergling[4000002]_Zergling[4280002]_Zergling[43C0002]_Zergling[44C0001]_Zergling[4540002]_Zergling[4580002]_Zergling[4780002],         1\n",
              "Zergling[44C0003]_Zergling[5900001],                                                                                                                                       1\n",
              "Adept[4D80001]_Adept[4E40001],                                                                                                                                             1\n",
              "Name: event_contents, Length: 754195, dtype: int64"
            ]
          },
          "metadata": {
            "tags": []
          },
          "execution_count": 8
        }
      ]
    },
    {
      "cell_type": "code",
      "metadata": {
        "id": "CzoqCPuJfZFr",
        "colab_type": "code",
        "colab": {}
      },
      "source": [
        "game_id = test.game_id.unique().tolist()\n",
        "columns = ['text0','text1']\n",
        "mytest = np.zeros(len(game_id)*len(columns))\n",
        "mytest = mytest.reshape(len(game_id),len(columns))\n",
        "mytest = pd.DataFrame(mytest, columns=columns)\n",
        "mytest.index = game_id\n",
        "\n",
        "mytest.loc[:,'text0'] = Selection.loc[Selection['player']==0,:].loc[Selection['event']=='Selection',:].groupby(['game_id']).event_contents.sum()\n",
        "mytest.loc[:,'text1'] = Selection.loc[Selection['player']==1,:].loc[Selection['event']=='Selection',:].groupby(['game_id']).event_contents.sum()\n",
        "del test\n",
        "del Selection\n",
        "mytest = mytest.fillna('')\n"
      ],
      "execution_count": 0,
      "outputs": []
    },
    {
      "cell_type": "markdown",
      "metadata": {
        "id": "k8nRNgjVP6wl",
        "colab_type": "text"
      },
      "source": [
        "### 1. CountVevtorizer"
      ]
    },
    {
      "cell_type": "code",
      "metadata": {
        "id": "p2CeZLzAP-M_",
        "colab_type": "code",
        "outputId": "d122b15e-91b6-4ccd-9d49-7ce7bd58fc0d",
        "colab": {
          "base_uri": "https://localhost:8080/",
          "height": 71
        }
      },
      "source": [
        "from sklearn.feature_extraction.text import TfidfVectorizer\n",
        "from sklearn.pipeline import Pipeline\n",
        "from sklearn.metrics import accuracy_score, roc_auc_score\n",
        "import pandas as pd\n",
        "import numpy as np\n",
        "import pickle\n",
        "from sklearn.model_selection import train_test_split\n",
        "from nltk.corpus import stopwords\n",
        "from sklearn.feature_extraction.text import TfidfTransformer\n",
        "from sklearn.feature_extraction.text import CountVectorizer\n",
        "def tokenizer(text):\n",
        "    return text.split(',')\n",
        "\n",
        "########### 사용할 모수들 ###################\n",
        "min_df = 200\n",
        "ngram_range = (1,1)\n",
        "seed = 42\n",
        "\n",
        "######################## 데이터로부터 단어가방 생성 ####################\n",
        "vectorizer0 = CountVectorizer(min_df=min_df, ngram_range=ngram_range)\n",
        "revised_reviews0 = [' '.join(review.split(',')) for review in mytrain.text0]\n",
        "vector_reviews0 = vectorizer0.fit_transform(revised_reviews0)\n",
        "print(vector_reviews0.shape)\n",
        "\n",
        "vectorizer1 = CountVectorizer(min_df=min_df, ngram_range=ngram_range)\n",
        "revised_reviews1 = [' '.join(review.split(',')) for review in mytrain.text1]\n",
        "vector_reviews1 = vectorizer1.fit_transform(revised_reviews1)\n",
        "print(vector_reviews1.shape)\n",
        "\n",
        "player0 = pd.DataFrame(   vector_reviews0.toarray()*1, columns = vectorizer0.get_feature_names()  )\n",
        "player0 = player0.add_prefix('player0_')\n",
        "player1 = pd.DataFrame(   vector_reviews1.toarray()*1, columns = vectorizer1.get_feature_names()  )\n",
        "player1 = player1.add_prefix('player1_')\n",
        "X = pd.concat([player0,player1],axis=1)\n",
        "y = mytrain.winner\n",
        "print(X.shape)\n",
        "#del vectorizer0, vectorizer1, revised_reviews0, revised_reviews1, vector_reviews0, vector_reviews1\n",
        "#del player0, player1\n"
      ],
      "execution_count": 0,
      "outputs": [
        {
          "output_type": "stream",
          "text": [
            "(38872, 1257)\n",
            "(38872, 1234)\n",
            "(38872, 2491)\n"
          ],
          "name": "stdout"
        }
      ]
    },
    {
      "cell_type": "code",
      "metadata": {
        "id": "h1ExZTO8wURN",
        "colab_type": "code",
        "outputId": "a72e5ea8-2c20-4227-8513-545a93e73bc5",
        "colab": {
          "base_uri": "https://localhost:8080/",
          "height": 71
        }
      },
      "source": [
        "#del X_train, X_valid, y_train, y_valid\n",
        "########### 사용할 모수들 ###################\n",
        "min_df = 40\n",
        "ngram_range = (1,1)\n",
        "seed = 42\n",
        "\n",
        "######################## 데이터로부터 단어가방 생성 ####################\n",
        "vectorizer0 = CountVectorizer(min_df=min_df, ngram_range=ngram_range)\n",
        "revised_reviews0 = [' '.join(review.split(',')) for review in mytest.text0]\n",
        "vector_reviews0 = vectorizer0.fit_transform(revised_reviews0)\n",
        "print(vector_reviews0.shape)\n",
        "\n",
        "vectorizer1 = CountVectorizer(min_df=min_df, ngram_range=ngram_range)\n",
        "revised_reviews1 = [' '.join(review.split(',')) for review in mytest.text1]\n",
        "vector_reviews1 = vectorizer1.fit_transform(revised_reviews1)\n",
        "print(vector_reviews1.shape)\n",
        "\n",
        "player0 = pd.DataFrame(   vector_reviews0.toarray()*1, columns = vectorizer0.get_feature_names()  )\n",
        "player0 = player0.add_prefix('player0_')\n",
        "player1 = pd.DataFrame(   vector_reviews1.toarray()*1, columns = vectorizer1.get_feature_names()  )\n",
        "player1 = player1.add_prefix('player1_')\n",
        "\n",
        "#del vectorizer0, vectorizer1, revised_reviews0, revised_reviews1, vector_reviews0, vector_reviews1\n",
        "\n",
        "X_test = pd.concat([player0,player1],axis=1)\n",
        "print(X_test.shape)\n",
        "\n",
        "#del player0, player1"
      ],
      "execution_count": 0,
      "outputs": [
        {
          "output_type": "stream",
          "text": [
            "(16787, 1723)\n",
            "(16787, 1717)\n",
            "(16787, 3440)\n"
          ],
          "name": "stdout"
        }
      ]
    },
    {
      "cell_type": "code",
      "metadata": {
        "id": "wMAOgZTLwfQ2",
        "colab_type": "code",
        "outputId": "30512996-c76e-4994-9fbb-edff41796cbb",
        "colab": {
          "base_uri": "https://localhost:8080/",
          "height": 71
        }
      },
      "source": [
        "print(len(X.columns))\n",
        "print(len(X_test.columns))\n",
        "print(  len(    set(X.columns) & set(X_test.columns)   ) )\n",
        "\n",
        "use_col = list(    set(X.columns) & set(X_test.columns)   )\n",
        "\n",
        "X = X.loc[:,use_col]\n",
        "X_test = X_test.loc[:,use_col]"
      ],
      "execution_count": 0,
      "outputs": [
        {
          "output_type": "stream",
          "text": [
            "2491\n",
            "3440\n",
            "2491\n"
          ],
          "name": "stdout"
        }
      ]
    },
    {
      "cell_type": "code",
      "metadata": {
        "id": "UU4CC7EvwWkT",
        "colab_type": "code",
        "outputId": "3edcfcc0-a0bf-41f3-d4b9-e29b02df7eaf",
        "colab": {
          "base_uri": "https://localhost:8080/",
          "height": 53
        }
      },
      "source": [
        "\n",
        "###################### 모델링 시작 #######################\n",
        "X_train, X_valid, y_train, y_valid = train_test_split(X, y,   stratify=y, random_state=seed)\n",
        "from sklearn.naive_bayes import BernoulliNB\n",
        "#model_bern = BernoulliNB().fit(X_train, y_train)\n",
        "from sklearn.naive_bayes import MultinomialNB\n",
        "#MNB = MultinomialNB(alpha=1).fit(X_train,y_train)\n",
        "from sklearn.ensemble import RandomForestClassifier\n",
        "rf = RandomForestClassifier(n_estimators=1000, random_state=seed).fit(X_train, y_train)\n",
        "print('랜포 학습완료')\n",
        "from lightgbm import LGBMClassifier\n",
        "lgbm = LGBMClassifier(random_state=seed).fit(X_train,y_train)\n",
        "print('LGBM 학습완료')"
      ],
      "execution_count": 0,
      "outputs": [
        {
          "output_type": "stream",
          "text": [
            "랜포 학습완료\n",
            "LGBM 학습완료\n"
          ],
          "name": "stdout"
        }
      ]
    },
    {
      "cell_type": "code",
      "metadata": {
        "id": "WkYVy1Fz8H9H",
        "colab_type": "code",
        "colab": {}
      },
      "source": [
        "## 랜포 #  min_df=100 : 0.6558(3356) vs min_df=200(2491) : 0.6560 vs min_df=300(2120) : 0.6546\n",
        "y_pred = rf.predict_proba(X_valid)[:,1]\n",
        "print(rf)\n",
        "print(\"테스트 정확도: {:.4f}\".format(roc_auc_score(y_valid, y_pred)))\n",
        "\n",
        "## LGBM #  min_df=100 : 0.6658 vs min_df=200 : 0.6643 vs min_df=300(2120) : 0.6604\n",
        "y_pred = lgbm.predict_proba(X_valid)[:,1]\n",
        "print(lgbm)\n",
        "print(\"테스트 정확도: {:.4f}\".format(roc_auc_score(y_valid, y_pred)))"
      ],
      "execution_count": 0,
      "outputs": []
    },
    {
      "cell_type": "code",
      "metadata": {
        "id": "HAMC00p-z6bY",
        "colab_type": "code",
        "colab": {}
      },
      "source": [
        "X.to_pickle('train_Selection_Raw.pkl')\n",
        "X_test.to_pickle('test_Selection_Raw.pkl')"
      ],
      "execution_count": 0,
      "outputs": []
    }
  ]
}
